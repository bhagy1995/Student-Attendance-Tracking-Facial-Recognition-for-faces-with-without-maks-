{
  "cells": [
    {
      "cell_type": "markdown",
      "metadata": {
        "id": "Gg9HNcAWEHHD"
      },
      "source": [
        "## Defining Validation metrics \n",
        "\n",
        "**The model is validated on the LFW data which is unrestricted, labeled outside data. The validation metrics which will be used to tune the model and evaluate its performance are summarised below:**\n",
        "\n",
        "- True positive rate( Mean value of all true positive rates across all cross validation folds) and false positive rate.\n",
        "        \n",
        "- Accuracy, precision and recall for each fold in cross validation set.\n",
        "\n",
        "- Area under ROC curve\n",
        "- Using KFold cross validation, LFW validation data is evaluated taking the Euclidean distance as a metric. The pairwise distances from pairs of images are calculated. Best Euclidean distance values are computed that had the best performing accuracy on the LFW dataset per each fold in cross validation set.\n",
        "\n",
        "- The true acceptance rate(rate that the faces are successfully accepted) is calculated when the false acceptance rate is 0.001(1 in 1000 images). The less the FAR value, the more difficult it is for the model). The default far target is 0.001.\n",
        "\n",
        "- False Acceptance Rate per each fold in cross validation set.\n",
        "\n",
        "**Below we are generating functions to calculate these metrics.**"
      ]
    },
    {
      "cell_type": "code",
      "execution_count": null,
      "metadata": {
        "id": "DLFUSQZtEFFE"
      },
      "outputs": [],
      "source": [
        "import numpy as np\n",
        "from sklearn.metrics import auc\n",
        "from sklearn.model_selection import KFold\n",
        "from scipy import interpolate\n",
        "\n",
        "def validation_LFW(dist_lfw,true_lfw, folds=5, target_far=1e-3):\n",
        "    # Calculate ROC metrics\n",
        "    tpr, fpr, precision, recall, accuracy, best_dist = \\\n",
        "      metrics_calculator(\n",
        "          thresholds=np.arange(0, 4, 0.01), distances=dist_lfw, labels=true_lfw, folds=folds\n",
        "      )\n",
        "\n",
        "    AUC = auc(fpr, tpr)\n",
        "\n",
        "    # Calculate validation rate\n",
        "    \n",
        "    val_thresholds = np.arange(0, 4, 0.001)\n",
        "    num_pairs = min(len(true_lfw), len(dist_lfw))\n",
        "    num_thresholds = len(val_thresholds)\n",
        "    k_fold = KFold(n_splits=folds, shuffle=False)\n",
        "\n",
        "    true_acceptance_rate = np.zeros(folds)\n",
        "    false_acceptance_rate = np.zeros(folds)\n",
        "\n",
        "\n",
        "    for kfold_num, (train_set, test_set) in enumerate(k_fold.split(np.arange(num_pairs))):\n",
        "        # Find the euclidean distance threshold that gives false acceptance rate (far) = far_target\n",
        "        false_acceptance_rate_train = np.zeros(num_thresholds)\n",
        "        for threshold_index, threshold in enumerate(val_thresholds):\n",
        "            # If distance is less than threshold, then prediction is set to True\n",
        "            predict_issame = np.less(dist_lfw[train_set], threshold)\n",
        "            false_accept = np.sum(np.logical_and(predict_issame, np.logical_not(true_lfw[train_set])))\n",
        "\n",
        "            num_same = np.sum(true_lfw[train_set])\n",
        "            num_diff = np.sum(np.logical_not(true_lfw[train_set]))\n",
        "\n",
        "            if num_diff == 0:\n",
        "                num_diff = 1\n",
        "            if num_same == 0:\n",
        "                return 0, 0\n",
        "\n",
        "            false_acceptance_rate_train[threshold_index] = float(false_accept) / float(num_diff)\n",
        "\n",
        "        if np.max(false_acceptance_rate_train) >= target_far:\n",
        "            f = interpolate.interp1d(false_acceptance_rate_train, val_thresholds, kind='slinear')\n",
        "            threshold = f(target_far)\n",
        "        else:\n",
        "            threshold = 0.0\n",
        "            \n",
        "        predict_issame = np.less(dist_lfw[test_set], threshold)\n",
        "\n",
        "        true_accept = np.sum(np.logical_and(predict_issame, true_lfw[test_set]))\n",
        "        false_accept = np.sum(np.logical_and(predict_issame, np.logical_not(true_lfw[test_set])))\n",
        "\n",
        "        num_same = np.sum(true_lfw[test_set])\n",
        "        num_diff = np.sum(np.logical_not(true_lfw[test_set]))\n",
        "\n",
        "        if num_diff == 0:\n",
        "            num_diff = 1\n",
        "        if num_same == 0:\n",
        "            return 0, 0\n",
        "\n",
        "        true_acceptance_rate[kfold_num] = float(true_accept) / float(num_same)\n",
        "        false_acceptance_rate[kfold_num] = float(false_accept) / float(num_diff)\n",
        "\n",
        "\n",
        "    return tpr, fpr, precision, recall, accuracy, AUC, best_dist,\\\n",
        "      true_acceptance_rate, false_acceptance_rate"
      ]
    },
    {
      "cell_type": "code",
      "execution_count": null,
      "metadata": {
        "id": "NM_qT1VQlmld"
      },
      "outputs": [],
      "source": [
        "def metrics_calculator(thresholds, distances, labels, folds=5):\n",
        "    num_pairs = min(len(labels), len(distances))\n",
        "    num_thresholds = len(thresholds)\n",
        "    k_fold = KFold(n_splits=5, shuffle=False)\n",
        "\n",
        "    tpr = np.zeros((5, num_thresholds))\n",
        "    fpr = np.zeros((5, num_thresholds))\n",
        "    precision,recall,accuracy,best_distances = np.zeros(5),np.zeros(5),np.zeros(5),np.zeros(5)\n",
        "\n",
        "    indices = np.arange(num_pairs)\n",
        "\n",
        "    for fold_index, (train_set, test_set) in enumerate(k_fold.split(indices)):\n",
        "        # Find the best distance threshold for the k-fold cross validation using the train set\n",
        "        accuracies_trainset = np.zeros(num_thresholds)\n",
        "        for threshold_index, threshold in enumerate(thresholds):\n",
        "\n",
        "          # If distance is less than threshold, then prediction is set to True\n",
        "          predict_dist_lessthan_thresh = np.less(distances[train_set], threshold)\n",
        "\n",
        "          true_positives = np.sum(np.logical_and(predict_dist_lessthan_thresh, labels[train_set]))\n",
        "          false_positives = np.sum(np.logical_and(predict_dist_lessthan_thresh, np.logical_not(labels[train_set])))\n",
        "          true_negatives = np.sum(np.logical_and(np.logical_not(predict_dist_lessthan_thresh), np.logical_not(labels[train_set])))\n",
        "          false_negatives = np.sum(np.logical_and(np.logical_not(predict_dist_lessthan_thresh), labels[train_set]))\n",
        "\n",
        "\n",
        "          accuracies_trainset[threshold_index] = float(true_positives + true_negatives) / threshold.size\n",
        "        best_threshold_index = np.argmax(accuracies_trainset)\n",
        "\n",
        "        for threshold_index, threshold in enumerate(thresholds):\n",
        "\n",
        "          # If distance is less than threshold, then prediction is set to True\n",
        "          predict_dist_lessthan_thresh = np.less(distances[test_set], threshold)\n",
        "\n",
        "          true_positives = np.sum(np.logical_and(predict_dist_lessthan_thresh, labels[test_set]))\n",
        "          false_positives = np.sum(np.logical_and(predict_dist_lessthan_thresh, np.logical_not(labels[test_set])))\n",
        "          true_negatives = np.sum(np.logical_and(np.logical_not(predict_dist_lessthan_thresh), np.logical_not(labels[test_set])))\n",
        "          false_negatives = np.sum(np.logical_and(np.logical_not(predict_dist_lessthan_thresh), labels[test_set]))\n",
        "\n",
        "          # For dealing with Divide By Zero exception\n",
        "\n",
        "          \n",
        "          #calculating tpr and fpr\n",
        "          if (true_positives + false_negatives) == 0:\n",
        "            tpr[fold_index, threshold_index] = 0\n",
        "            \n",
        "          else:\n",
        "            tpr[fold_index, threshold_index]=float(true_positives) / float(true_positives + false_negatives)\n",
        "          \n",
        "          if (false_positives + true_negatives) == 0:\n",
        "            fpr[fold_index, threshold_index] = 0\n",
        "            \n",
        "          else:\n",
        "            fpr[fold_index, threshold_index]=float(false_positives) / float(false_positives + true_negatives)\n",
        "\n",
        "          # If distance is less than best threshold, then prediction is set to True\n",
        "          predict_dist_lessthan_thresh = np.less(distances[test_set], thresholds[best_threshold_index])\n",
        "\n",
        "          true_positives = np.sum(np.logical_and(predict_dist_lessthan_thresh, labels[test_set]))\n",
        "          false_positives = np.sum(np.logical_and(predict_dist_lessthan_thresh, np.logical_not(labels[test_set])))\n",
        "          true_negatives = np.sum(np.logical_and(np.logical_not(predict_dist_lessthan_thresh), np.logical_not(labels[test_set])))\n",
        "          false_negatives = np.sum(np.logical_and(np.logical_not(predict_dist_lessthan_thresh), labels[test_set]))\n",
        "\n",
        "          #calculating precision, recall and accuracy\n",
        "          if (true_positives + false_positives) == 0:\n",
        "            precision[fold_index] = 0\n",
        "            \n",
        "          else:\n",
        "            precision[fold_index]=float(true_positives) / float(true_positives + false_positives)\n",
        "\n",
        "          if (true_positives + false_negatives) == 0:\n",
        "            recall[fold_index] = 0\n",
        "            \n",
        "          else:\n",
        "            recall[fold_index]=float(true_positives) / float(true_positives + false_negatives)\n",
        "\n",
        "        tpr_ = np.mean(tpr, 0)\n",
        "        fpr_ = np.mean(fpr, 0)\n",
        "        best_distances[fold_index] = thresholds[best_threshold_index]\n",
        "        accuracy[fold_index] = float(true_positives + true_negatives) / distances[test_set].size\n",
        "\n",
        "    return tpr_, fpr_, precision, recall, accuracy, best_distances   "
      ]
    },
    {
      "cell_type": "markdown",
      "source": [
        "**The function below will be used in the train code for validation data:**"
      ],
      "metadata": {
        "id": "npyUX9dT3lZm"
      }
    },
    {
      "cell_type": "code",
      "execution_count": null,
      "metadata": {
        "id": "b7p-GOLJKb8D"
      },
      "outputs": [],
      "source": [
        "def validation_accuracy(pretrained_model,lfw_dataloader):\n",
        "    \n",
        "    pretrained_model.eval()\n",
        "    with torch.no_grad():\n",
        "        sqaured_distance = PairwiseDistance(p=2)\n",
        "        dist_lfws, true_lfws = [], []\n",
        "\n",
        "        print(\"--------Starting Validation on LFW dataset---------\")\n",
        "\n",
        "        for batch, (data_a, data_b, true_lfw) in enumerate(tqdm(lfw_dataloader,position=0,leave=True)):\n",
        "\n",
        "            output_a, output_b = pretrained_model(data_a.cuda()), pretrained_model(data_b.cuda())\n",
        "\n",
        "            dist_lfws.append(sqaured_distance.forward(output_a, output_b).cpu().detach().numpy())# Euclidean distance\n",
        "            true_lfws.append(true_lfw.cpu().detach().numpy())\n",
        "\n",
        "        true_lfws = np.array([subtrue for true_lfw in true_lfws for subtrue in true_lfw])\n",
        "        dist_lfws = np.array([subdist for dist_lfw in dist_lfws for subdist in dist_lfw])\n",
        "\n",
        "        true_positive_rate, false_positive_rate, precision, recall, accuracy, AUC, best_distances, \\\n",
        "        true_acceptance_rate, false_acceptance_rate = validation_LFW(dist_lfw=dist_lfws,true_lfw=true_lfws,target_far=1e-3)\n",
        "\n",
        "        print('Accuracy: {:.2f} %'.format(np.mean(accuracy)*100))\n",
        "        return np.mean(accuracy),np.mean(precision), np.mean(recall),np.mean(AUC),np.mean(best_distances),np.mean(true_acceptance_rate),np.mean(false_acceptance_rate)"
      ]
    },
    {
      "cell_type": "markdown",
      "source": [
        "## Models Architecture\n",
        "\n",
        "**Now that the preprocessing of the data has been done and the evaluation metrics have been defined, we proceed with designing two models.**\n",
        "\n",
        "- Model 1: CNN \n",
        "\n",
        "This model has 3 Convolutional layers & 2 Fully-connected layers\n",
        "\n",
        "- Model 2: Inception ResNetV1\n",
        "\n",
        "This model is a hybrid network inspired by both the inception model and the resnet model. We will be pruning this state of the art model having  exceptional capabilities in facial recognition.\n",
        "\n"
      ],
      "metadata": {
        "id": "14JnzCs24WEv"
      }
    },
    {
      "cell_type": "markdown",
      "source": [
        "![Picture1.png](data:image/png;base64,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)"
      ],
      "metadata": {
        "id": "lJI9nC1W5BEH"
      }
    },
    {
      "cell_type": "markdown",
      "metadata": {
        "id": "JN__a0atVDFi"
      },
      "source": [
        "## Training the models"
      ]
    },
    {
      "cell_type": "markdown",
      "source": [
        "### Generating csv file\n",
        "\n",
        "The below code is used to generate csv files of cropped images in train set required by the train function."
      ],
      "metadata": {
        "id": "EA8N7IWN8WRg"
      }
    },
    {
      "cell_type": "code",
      "execution_count": null,
      "metadata": {
        "colab": {
          "base_uri": "https://localhost:8080/"
        },
        "id": "jpZ2uG4kYuyE",
        "outputId": "8b0a2845-8c6c-4214-a419-69eaf5000cca"
      },
      "outputs": [
        {
          "name": "stdout",
          "output_type": "stream",
          "text": [
            "\n",
            "Loading image paths ...\n",
            "Number of files: 801714\n",
            "\n",
            "Generating csv file ...\n"
          ]
        },
        {
          "name": "stderr",
          "output_type": "stream",
          "text": [
            "100%|██████████| 801714/801714 [00:05<00:00, 155426.90it/s]\n"
          ]
        },
        {
          "name": "stdout",
          "output_type": "stream",
          "text": [
            "\n",
            "Done! Elapsed time: 0.11 minutes.\n"
          ]
        }
      ],
      "source": [
        "DATA_DIR = data_dir+'_cropped'\n",
        "\n",
        "generate_csv_file(DATA_DIR, \"dataset.csv\")"
      ]
    },
    {
      "cell_type": "markdown",
      "source": [
        "### Forward pass function\n",
        "\n",
        "**The below code is used to concatenate the input images into one tensor because doing multiple forward passes would create weird GPU memory allocation behaviours later on during training which would cause GPU Out of Memory issues. It splits the embeddings into anchor, positive and negative (in the form of triplets). The anchor image is that of a specific person and positive image is anothe rimage of the same person and negative image is of a different person.**"
      ],
      "metadata": {
        "id": "OhcOKNGW85Af"
      }
    },
    {
      "cell_type": "code",
      "execution_count": null,
      "metadata": {
        "id": "vFMCo7cRZN0F"
      },
      "outputs": [],
      "source": [
        "def forward_pass(anc_imgs, pos_imgs, neg_imgs, model, batch_size):\n",
        "   \n",
        "    imgs = torch.cat((anc_imgs, pos_imgs, neg_imgs))  # Must be a tuple of Torch Tensors\n",
        "\n",
        "    imgs = imgs.cuda()\n",
        "    embeddings = model(imgs)\n",
        "\n",
        "    # Split the embeddings into Anchor, Positive, and Negative embeddings\n",
        "    anc_embeddings = embeddings[:batch_size]\n",
        "    pos_embeddings = embeddings[batch_size: batch_size * 2]\n",
        "    neg_embeddings = embeddings[batch_size * 2:]\n",
        "\n",
        "    return anc_embeddings, pos_embeddings, neg_embeddings, model\n"
      ]
    },
    {
      "cell_type": "markdown",
      "source": [
        "### Saving model training checkpoints\n",
        "**The below is used to save model training checkpoints.**"
      ],
      "metadata": {
        "id": "90mqZ8DW8rml"
      }
    },
    {
      "cell_type": "code",
      "execution_count": null,
      "metadata": {
        "colab": {
          "base_uri": "https://localhost:8080/",
          "height": 235
        },
        "id": "WzAXmhye10DJ",
        "outputId": "f4f13094-c711-4cb0-a7b0-426bfaf32433"
      },
      "outputs": [
        {
          "name": "stderr",
          "output_type": "stream",
          "text": [
            "A subdirectory or file -p already exists.\n",
            "Error occurred while processing: -p.\n",
            "A subdirectory or file datasets\\generated_triplets already exists.\n",
            "Error occurred while processing: datasets\\generated_triplets.\n",
            "A subdirectory or file logs already exists.\n",
            "Error occurred while processing: logs.\n",
            "A subdirectory or file model_training_checkpoints already exists.\n",
            "Error occurred while processing: model_training_checkpoints.\n"
          ]
        }
      ],
      "source": [
        "!mkdir -p datasets\\generated_triplets logs model_training_checkpoints\n",
        "\n",
        "ITERATIONS_PER_EPOCH = 1000\n",
        "IMAGE_SIZE = 160 \n",
        "DATA_TRANSFORMS = data_transforms = transforms.Compose([\n",
        "        transforms.Resize(size=IMAGE_SIZE),\n",
        "        transforms.RandomHorizontalFlip(),\n",
        "        transforms.RandomRotation(degrees=5),\n",
        "        transforms.ToTensor(),\n",
        "        transforms.Normalize(\n",
        "            mean=dataset_mean,\n",
        "            std=dataset_std\n",
        "        )\n",
        "    ])\n",
        "\n",
        "MARGIN = 1\n",
        "MDOEL_ARCH = 'InceptionResnetV1'\n",
        "EMBEDDING_DIM = 512"
      ]
    },
    {
      "cell_type": "markdown",
      "source": [
        "### Main train function"
      ],
      "metadata": {
        "id": "zSBQ_2KC9ecl"
      }
    },
    {
      "cell_type": "code",
      "execution_count": null,
      "metadata": {
        "id": "9yR4yMHZKb8D"
      },
      "outputs": [],
      "source": [
        "import matplotlib.pyplot as plt\n",
        "import math\n",
        "def train(model, optimizer, epochs=50, batch_size=32):\n",
        "    lfw_dataloader= load_data_for_evaluation(image_size=160, batch_size=100, num_workers=0)\n",
        "    print(\"Training using triplet loss starting for {} epochs:\\n\".format(epochs))\n",
        "    total_triplet_loss_ls,train_acc_ls,val_acc_ls=[],[],[]\n",
        "    val_precision_ls,val_recall_ls,val_auc_ls=[],[],[]\n",
        "\n",
        "    for epoch in range(epochs):\n",
        "        total_loss=0\n",
        "        num_valid_training_triplets = 0\n",
        "        l2_distance = PairwiseDistance(p=2)\n",
        "        # Re-instantiate training dataloader to generate a triplet list for this training epoch\n",
        "        train_dataloader = torch.utils.data.DataLoader(\n",
        "            dataset=TripletFaceDataset(\n",
        "                root_dir=DATA_DIR,\n",
        "                training_dataset_csv_path=\"dataset.csv\",\n",
        "                num_triplets=ITERATIONS_PER_EPOCH * batch_size,\n",
        "                num_human_identities_per_batch=64,\n",
        "                triplet_batch_size=batch_size,\n",
        "                epoch=epoch,\n",
        "                transform=data_transforms\n",
        "            ),\n",
        "            batch_size=batch_size,\n",
        "            num_workers=0,\n",
        "            shuffle=True\n",
        "        )\n",
        "\n",
        "        # Training pass\n",
        "        model.train()\n",
        "        progress_bar = enumerate(tqdm(train_dataloader, position=0, leave=True))\n",
        "\n",
        "        for batch_idx, (batch_sample) in progress_bar:\n",
        "\n",
        "            # Forward pass - compute embeddings\n",
        "            # each batch is a dictionary of anc_images, positive_images, and negative_images\n",
        "            anc_embeddings, pos_embeddings, neg_embeddings, model = forward_pass(\n",
        "                batch_sample['anc_img'], batch_sample['pos_img'], batch_sample['neg_img'],\n",
        "                model=model, batch_size=batch_size\n",
        "            )\n",
        "\n",
        "            pos_dists = l2_distance.forward(anc_embeddings, pos_embeddings)\n",
        "            neg_dists = l2_distance.forward(anc_embeddings, neg_embeddings)\n",
        "\n",
        "            # Hard Negative triplet selection (negative_distance - positive_distance < margin)\n",
        "            all = (neg_dists - pos_dists < MARGIN).cpu().numpy().flatten()\n",
        "            valid_triplets = np.where(all == 1)\n",
        "\n",
        "            anc_valid_embeddings = anc_embeddings[valid_triplets]\n",
        "            pos_valid_embeddings = pos_embeddings[valid_triplets]\n",
        "            neg_valid_embeddings = neg_embeddings[valid_triplets]\n",
        "\n",
        "            # Calculate triplet loss\n",
        "            triplet_loss = TripletLoss(margin=MARGIN).forward(\n",
        "                anchor=anc_valid_embeddings,\n",
        "                positive=pos_valid_embeddings,\n",
        "                negative=neg_valid_embeddings\n",
        "            )\n",
        "            \n",
        "\n",
        "            # Calculating number of triplets actually used for training\n",
        "            num_valid_training_triplets += len(anc_valid_embeddings)\n",
        "\n",
        "            # Do the backpropogation and update the weights\n",
        "            optimizer.zero_grad()\n",
        "            triplet_loss.backward()\n",
        "            optimizer.step()\n",
        "            \n",
        "            triplet_loss=triplet_loss.cpu().detach().item()\n",
        "            \n",
        "            #print(triplet_loss)\n",
        "            \n",
        "            if math.isnan(triplet_loss):\n",
        "                triplet_loss=0\n",
        "                \n",
        "            total_loss+=triplet_loss\n",
        "            \n",
        "        \n",
        "        total_triplet_loss= total_loss/num_valid_training_triplets\n",
        "        total_triplet_loss_ls.append(total_triplet_loss)\n",
        "        train_acc=1-num_valid_training_triplets/(ITERATIONS_PER_EPOCH * batch_size)\n",
        "        train_acc_ls.append(train_acc)\n",
        "        \n",
        "        val_metrics=validation_accuracy(model,lfw_dataloader)\n",
        "        val_acc_ls.append(val_metrics[0])\n",
        "        val_precision_ls.append(val_metrics[1])\n",
        "        val_recall_ls.append(val_metrics[2])\n",
        "        val_auc_ls.append(val_metrics[3])\n",
        "        \n",
        "    #plt.plot()\n",
        "    \n",
        "\n",
        "        # Save model checkpoint\n",
        "        state = {\n",
        "            'epoch': epoch,\n",
        "            'embedding_dimension': EMBEDDING_DIM,\n",
        "            'batch_size_training': batch_size,\n",
        "            'model_state_dict': model.state_dict(),\n",
        "            'model_architecture': MDOEL_ARCH,\n",
        "            'optimizer_model_state_dict': optimizer.state_dict(),\n",
        "            'validation_metrics': val_metrics,\n",
        "            'num_valid_training_triplets':num_valid_training_triplets,\n",
        "            'train_accuracy':train_acc,\n",
        "            'train_loss':total_triplet_loss\n",
        "            \n",
        "            # 'best_distance_threshold': np.mean(best_distances)\n",
        "        }\n",
        "        torch.save(state, 'model_training_checkpoints/model_{}_triplet_epoch_{}.pt'.format(\n",
        "                MDOEL_ARCH,\n",
        "                epoch\n",
        "            )\n",
        "        )\n",
        "    #train loss curves\n",
        "    #Plotting the train/validation accuracies and loss curves:\n",
        "    plt.title(\"Train loss\")\n",
        "    n = len(total_triplet_loss_ls) # number of epochs\n",
        "    plt.plot(range(1,n+1), total_triplet_loss_ls, label=\"Train\")\n",
        "    plt.xlabel(\"Epoch\")\n",
        "    plt.ylabel(\"Loss\")\n",
        "    plt.legend(loc='best')\n",
        "    plt.show()\n",
        "    \n",
        "    n = len(val_acc_ls) # number of epochs\n",
        "    plt.plot(range(1,n+1), val_acc_ls, label=\"Validation\")\n",
        "    plt.xlabel(\"Epoch\")\n",
        "    plt.ylabel(\"accuracy\")\n",
        "    plt.title(\"Validation Accuracy\")\n",
        "    plt.show()\n",
        "    \n",
        "    n = len(train_acc_ls) # number of epochs\n",
        "    plt.plot(range(1,n+1), train_acc_ls, label=\"Train\")\n",
        "    plt.xlabel(\"Epoch\")\n",
        "    plt.ylabel(\"accuracy\")\n",
        "    plt.title(\"Train Accuracy\")\n",
        "    plt.legend(loc='best')\n",
        "    plt.show()\n",
        "    \n",
        "    plt.title(\"Other Validation Metrics\")\n",
        "    n = len(val_precision_ls) # number of epochs\n",
        "    plt.plot(range(1,n+1), val_precision_ls, label=\"Precision\")\n",
        "    plt.plot(range(1,n+1), val_recall_ls, label=\"Recall\")\n",
        "    plt.plot(range(1,n+1), val_auc_ls, label=\"AUC\")\n",
        "    plt.xlabel(\"Epoch\")\n",
        "    plt.ylabel(\"Metrics\")\n",
        "    plt.legend(loc='best')\n",
        "    plt.show()"
      ]
    },
    {
      "cell_type": "markdown",
      "metadata": {
        "id": "-HneCxnKBZc8"
      },
      "source": [
        "### Training our Designed CNN Architecture Model"
      ]
    },
    {
      "cell_type": "code",
      "execution_count": null,
      "metadata": {
        "id": "fodJ2AL5BZdA"
      },
      "outputs": [],
      "source": [
        "class my_CNN(nn.Module): \n",
        "  def __init__(self, Input_channels=[3,20,50], Output_channels=[20,50,100], \\\n",
        "               Kernel=[3,2,3], Stride=[1,1,1]):\n",
        "    super(my_CNN, self).__init__()\n",
        "    self.name = \"my_CNN\"\n",
        "\n",
        "    # first convolutional layer--> activation function: Relu-->MaxPool 2D  \n",
        "    self.convlayer1= nn.Conv2d(in_channels=Input_channels[0], out_channels=Output_channels[0], kernel_size=Kernel[0], stride=Stride[0])\n",
        "    \n",
        "    self.pool1= nn.MaxPool2d(kernel_size=2, stride=2)\n",
        "\n",
        "    #Second convolutional layer--> activation function: Relu-->MaxPool 2D\n",
        "    self.convlayer2= nn.Conv2d(in_channels=Input_channels[1], out_channels=Output_channels[1], kernel_size=Kernel[1], stride=Stride[1])\n",
        "    \n",
        "    self.pool2= nn.MaxPool2d(kernel_size=5, stride=5)\n",
        "\n",
        "    #Third convolutional layer--> activation function: Relu-->MaxPool 2D\n",
        "    self.convlayer3= nn.Conv2d(in_channels=Input_channels[2], out_channels=Output_channels[2], kernel_size=Kernel[2], stride=Stride[2])\n",
        "    \n",
        "    self.pool3= nn.MaxPool2d(kernel_size=2, stride=2)\n",
        "\n",
        "    #calculating input to 1st fully connected layer:  \n",
        "\n",
        "    #For any other values of in/output channels, kernel sizes\n",
        "    #The input to the fully connected layer can be calculated as:\n",
        "    self.a= 160-(Kernel[0]-1) #output from the first conv layer\n",
        "    self.b=math.floor(0.5*(self.a)) #output from the first pooling layer\n",
        "\n",
        "    self.c= self.b-(Kernel[1]-1) #output from the second conv layer\n",
        "    self.d=math.floor(0.2*(self.c)) #output from the second pooling layer\n",
        "\n",
        "    self.e= self.d-(Kernel[2]-1) #output from the third conv layer\n",
        "    self.f=math.floor(0.5*(self.e)) #output from the third pooling layer\n",
        "\n",
        "    self.fc1 = nn.Linear(3600, 1200) #first fully connected layer\n",
        "    self.fc2 = nn.Linear(1200, 500) #second fully connected layer\n",
        "\n",
        "  def forward(self, x):\n",
        "    #ReLU activation function between conv layers and maxpool layers\n",
        "    x = self.pool1(F.relu(self.convlayer1(x)))\n",
        "    x = self.pool2(F.relu(self.convlayer2(x)))\n",
        "    x = self.pool3(F.relu(self.convlayer3(x)))\n",
        "    #flatten the data for fclayer\n",
        "    x = x.view(-1, 3600)\n",
        "    #ReLU on the fc layer \n",
        "    x = F.relu(self.fc1(x))\n",
        "    x = self.fc2(x)\n",
        "    return x"
      ]
    },
    {
      "cell_type": "markdown",
      "source": [
        "**The below code is used to save model training checkpoints for the CNN Model:**"
      ],
      "metadata": {
        "id": "UwNV_Qj2BZdA"
      }
    },
    {
      "cell_type": "code",
      "execution_count": null,
      "metadata": {
        "colab": {
          "base_uri": "https://localhost:8080/",
          "height": 235
        },
        "outputId": "f4f13094-c711-4cb0-a7b0-426bfaf32433",
        "id": "jxjT0RMEBZdA"
      },
      "outputs": [
        {
          "name": "stderr",
          "output_type": "stream",
          "text": [
            "A subdirectory or file -p already exists.\n",
            "Error occurred while processing: -p.\n",
            "A subdirectory or file datasets\\generated_triplets already exists.\n",
            "Error occurred while processing: datasets\\generated_triplets.\n",
            "A subdirectory or file logs already exists.\n",
            "Error occurred while processing: logs.\n",
            "A subdirectory or file model_training_checkpoints already exists.\n",
            "Error occurred while processing: model_training_checkpoints.\n"
          ]
        }
      ],
      "source": [
        "!mkdir -p datasets\\generated_triplets logs model_training_checkpoints\n",
        "\n",
        "ITERATIONS_PER_EPOCH = 1000\n",
        "IMAGE_SIZE = 160 \n",
        "DATA_TRANSFORMS = data_transforms = transforms.Compose([\n",
        "        transforms.Resize(size=IMAGE_SIZE),\n",
        "        transforms.RandomHorizontalFlip(),\n",
        "        transforms.RandomRotation(degrees=5),\n",
        "        transforms.ToTensor(),\n",
        "        transforms.Normalize(\n",
        "            mean=dataset_mean,\n",
        "            std=dataset_std\n",
        "        )\n",
        "    ])\n",
        "\n",
        "MARGIN = 1\n",
        "MDOEL_ARCH = 'my_CNN'\n",
        "EMBEDDING_DIM = 512"
      ]
    },
    {
      "cell_type": "code",
      "execution_count": null,
      "metadata": {
        "colab": {
          "base_uri": "https://localhost:8080/"
        },
        "outputId": "cd8f303c-f7d9-4f23-88ef-0f30ebdb9b82",
        "id": "4Eyz2kgWBZdB"
      },
      "outputs": [
        {
          "name": "stdout",
          "output_type": "stream",
          "text": [
            "Skipped 330 image pairs\n",
            "Training using triplet loss starting for 50 epochs:\n",
            "\n",
            "\n",
            "Generating 24000 triplets ...\n"
          ]
        },
        {
          "name": "stderr",
          "output_type": "stream",
          "text": [
            "100%|██████████| 1000/1000 [00:00<00:00, 1369.57it/s]\n"
          ]
        },
        {
          "name": "stdout",
          "output_type": "stream",
          "text": [
            "Saving training triplets list in 'datasets/generated_triplets' directory ...\n",
            "Training triplets' list Saved!\n",
            "\n"
          ]
        },
        {
          "name": "stderr",
          "output_type": "stream",
          "text": [
            "100%|██████████| 1000/1000 [02:58<00:00,  5.62it/s]\n"
          ]
        },
        {
          "name": "stdout",
          "output_type": "stream",
          "text": [
            "--------Starting Validation on LFW dataset---------\n"
          ]
        },
        {
          "name": "stderr",
          "output_type": "stream",
          "text": [
            "100%|██████████| 57/57 [00:17<00:00,  3.28it/s]\n"
          ]
        },
        {
          "name": "stdout",
          "output_type": "stream",
          "text": [
            "Accuracy: 67.04 %\n",
            "\n",
            "Generating 24000 triplets ...\n"
          ]
        },
        {
          "name": "stderr",
          "output_type": "stream",
          "text": [
            "100%|██████████| 1000/1000 [00:00<00:00, 1414.11it/s]\n"
          ]
        },
        {
          "name": "stdout",
          "output_type": "stream",
          "text": [
            "Saving training triplets list in 'datasets/generated_triplets' directory ...\n",
            "Training triplets' list Saved!\n",
            "\n"
          ]
        },
        {
          "name": "stderr",
          "output_type": "stream",
          "text": [
            "100%|██████████| 1000/1000 [02:54<00:00,  5.72it/s]\n"
          ]
        },
        {
          "name": "stdout",
          "output_type": "stream",
          "text": [
            "--------Starting Validation on LFW dataset---------\n"
          ]
        },
        {
          "name": "stderr",
          "output_type": "stream",
          "text": [
            "100%|██████████| 57/57 [00:17<00:00,  3.30it/s]\n"
          ]
        },
        {
          "name": "stdout",
          "output_type": "stream",
          "text": [
            "Accuracy: 64.66 %\n",
            "\n",
            "Generating 24000 triplets ...\n"
          ]
        },
        {
          "name": "stderr",
          "output_type": "stream",
          "text": [
            "100%|██████████| 1000/1000 [00:00<00:00, 1402.21it/s]\n"
          ]
        },
        {
          "name": "stdout",
          "output_type": "stream",
          "text": [
            "Saving training triplets list in 'datasets/generated_triplets' directory ...\n",
            "Training triplets' list Saved!\n",
            "\n"
          ]
        },
        {
          "name": "stderr",
          "output_type": "stream",
          "text": [
            "100%|██████████| 1000/1000 [02:52<00:00,  5.81it/s]\n"
          ]
        },
        {
          "name": "stdout",
          "output_type": "stream",
          "text": [
            "--------Starting Validation on LFW dataset---------\n"
          ]
        },
        {
          "name": "stderr",
          "output_type": "stream",
          "text": [
            "100%|██████████| 57/57 [00:18<00:00,  3.11it/s]\n"
          ]
        },
        {
          "name": "stdout",
          "output_type": "stream",
          "text": [
            "Accuracy: 67.58 %\n",
            "\n",
            "Generating 24000 triplets ...\n"
          ]
        },
        {
          "name": "stderr",
          "output_type": "stream",
          "text": [
            "100%|██████████| 1000/1000 [00:01<00:00, 569.23it/s]\n"
          ]
        },
        {
          "name": "stdout",
          "output_type": "stream",
          "text": [
            "Saving training triplets list in 'datasets/generated_triplets' directory ...\n",
            "Training triplets' list Saved!\n",
            "\n"
          ]
        },
        {
          "name": "stderr",
          "output_type": "stream",
          "text": [
            "100%|██████████| 1000/1000 [03:12<00:00,  5.20it/s]\n"
          ]
        },
        {
          "name": "stdout",
          "output_type": "stream",
          "text": [
            "--------Starting Validation on LFW dataset---------\n"
          ]
        },
        {
          "name": "stderr",
          "output_type": "stream",
          "text": [
            "100%|██████████| 57/57 [00:18<00:00,  3.16it/s]\n"
          ]
        },
        {
          "name": "stdout",
          "output_type": "stream",
          "text": [
            "Accuracy: 69.51 %\n",
            "\n",
            "Generating 24000 triplets ...\n"
          ]
        },
        {
          "name": "stderr",
          "output_type": "stream",
          "text": [
            "100%|██████████| 1000/1000 [00:00<00:00, 1418.12it/s]\n"
          ]
        },
        {
          "name": "stdout",
          "output_type": "stream",
          "text": [
            "Saving training triplets list in 'datasets/generated_triplets' directory ...\n",
            "Training triplets' list Saved!\n",
            "\n"
          ]
        },
        {
          "name": "stderr",
          "output_type": "stream",
          "text": [
            "100%|██████████| 1000/1000 [03:00<00:00,  5.53it/s]\n"
          ]
        },
        {
          "name": "stdout",
          "output_type": "stream",
          "text": [
            "--------Starting Validation on LFW dataset---------\n"
          ]
        },
        {
          "name": "stderr",
          "output_type": "stream",
          "text": [
            "100%|██████████| 57/57 [00:17<00:00,  3.22it/s]\n"
          ]
        },
        {
          "name": "stdout",
          "output_type": "stream",
          "text": [
            "Accuracy: 67.09 %\n",
            "\n",
            "Generating 24000 triplets ...\n"
          ]
        },
        {
          "name": "stderr",
          "output_type": "stream",
          "text": [
            "100%|██████████| 1000/1000 [00:00<00:00, 1432.34it/s]\n"
          ]
        },
        {
          "name": "stdout",
          "output_type": "stream",
          "text": [
            "Saving training triplets list in 'datasets/generated_triplets' directory ...\n",
            "Training triplets' list Saved!\n",
            "\n"
          ]
        },
        {
          "name": "stderr",
          "output_type": "stream",
          "text": [
            "100%|██████████| 1000/1000 [02:53<00:00,  5.75it/s]\n"
          ]
        },
        {
          "name": "stdout",
          "output_type": "stream",
          "text": [
            "--------Starting Validation on LFW dataset---------\n"
          ]
        },
        {
          "name": "stderr",
          "output_type": "stream",
          "text": [
            "100%|██████████| 57/57 [00:17<00:00,  3.24it/s]\n"
          ]
        },
        {
          "name": "stdout",
          "output_type": "stream",
          "text": [
            "Accuracy: 70.85 %\n",
            "\n",
            "Generating 24000 triplets ...\n"
          ]
        },
        {
          "name": "stderr",
          "output_type": "stream",
          "text": [
            "100%|██████████| 1000/1000 [00:01<00:00, 608.69it/s]\n"
          ]
        },
        {
          "name": "stdout",
          "output_type": "stream",
          "text": [
            "Saving training triplets list in 'datasets/generated_triplets' directory ...\n",
            "Training triplets' list Saved!\n",
            "\n"
          ]
        },
        {
          "name": "stderr",
          "output_type": "stream",
          "text": [
            "100%|██████████| 1000/1000 [02:58<00:00,  5.59it/s]\n"
          ]
        },
        {
          "name": "stdout",
          "output_type": "stream",
          "text": [
            "--------Starting Validation on LFW dataset---------\n"
          ]
        },
        {
          "name": "stderr",
          "output_type": "stream",
          "text": [
            "100%|██████████| 57/57 [00:18<00:00,  3.15it/s]\n"
          ]
        },
        {
          "name": "stdout",
          "output_type": "stream",
          "text": [
            "Accuracy: 72.49 %\n",
            "\n",
            "Generating 24000 triplets ...\n"
          ]
        },
        {
          "name": "stderr",
          "output_type": "stream",
          "text": [
            "100%|██████████| 1000/1000 [00:00<00:00, 1436.46it/s]\n"
          ]
        },
        {
          "name": "stdout",
          "output_type": "stream",
          "text": [
            "Saving training triplets list in 'datasets/generated_triplets' directory ...\n",
            "Training triplets' list Saved!\n",
            "\n"
          ]
        },
        {
          "name": "stderr",
          "output_type": "stream",
          "text": [
            "100%|██████████| 1000/1000 [02:56<00:00,  5.67it/s]\n"
          ]
        },
        {
          "name": "stdout",
          "output_type": "stream",
          "text": [
            "--------Starting Validation on LFW dataset---------\n"
          ]
        },
        {
          "name": "stderr",
          "output_type": "stream",
          "text": [
            "100%|██████████| 57/57 [00:18<00:00,  3.13it/s]\n"
          ]
        },
        {
          "name": "stdout",
          "output_type": "stream",
          "text": [
            "Accuracy: 71.76 %\n",
            "\n",
            "Generating 24000 triplets ...\n"
          ]
        },
        {
          "name": "stderr",
          "output_type": "stream",
          "text": [
            "100%|██████████| 1000/1000 [00:00<00:00, 1392.44it/s]\n"
          ]
        },
        {
          "name": "stdout",
          "output_type": "stream",
          "text": [
            "Saving training triplets list in 'datasets/generated_triplets' directory ...\n",
            "Training triplets' list Saved!\n",
            "\n"
          ]
        },
        {
          "name": "stderr",
          "output_type": "stream",
          "text": [
            "100%|██████████| 1000/1000 [03:00<00:00,  5.54it/s]\n"
          ]
        },
        {
          "name": "stdout",
          "output_type": "stream",
          "text": [
            "--------Starting Validation on LFW dataset---------\n"
          ]
        },
        {
          "name": "stderr",
          "output_type": "stream",
          "text": [
            "100%|██████████| 57/57 [00:18<00:00,  3.10it/s]\n"
          ]
        },
        {
          "name": "stdout",
          "output_type": "stream",
          "text": [
            "Accuracy: 72.20 %\n",
            "\n",
            "Generating 24000 triplets ...\n"
          ]
        },
        {
          "name": "stderr",
          "output_type": "stream",
          "text": [
            "100%|██████████| 1000/1000 [00:00<00:00, 1398.29it/s]\n"
          ]
        },
        {
          "name": "stdout",
          "output_type": "stream",
          "text": [
            "Saving training triplets list in 'datasets/generated_triplets' directory ...\n",
            "Training triplets' list Saved!\n",
            "\n"
          ]
        },
        {
          "name": "stderr",
          "output_type": "stream",
          "text": [
            "100%|██████████| 1000/1000 [03:11<00:00,  5.23it/s]\n"
          ]
        },
        {
          "name": "stdout",
          "output_type": "stream",
          "text": [
            "--------Starting Validation on LFW dataset---------\n"
          ]
        },
        {
          "name": "stderr",
          "output_type": "stream",
          "text": [
            "100%|██████████| 57/57 [00:18<00:00,  3.01it/s]\n"
          ]
        },
        {
          "name": "stdout",
          "output_type": "stream",
          "text": [
            "Accuracy: 72.38 %\n",
            "\n",
            "Generating 24000 triplets ...\n"
          ]
        },
        {
          "name": "stderr",
          "output_type": "stream",
          "text": [
            "100%|██████████| 1000/1000 [00:00<00:00, 1397.08it/s]\n"
          ]
        },
        {
          "name": "stdout",
          "output_type": "stream",
          "text": [
            "Saving training triplets list in 'datasets/generated_triplets' directory ...\n",
            "Training triplets' list Saved!\n",
            "\n"
          ]
        },
        {
          "name": "stderr",
          "output_type": "stream",
          "text": [
            "100%|██████████| 1000/1000 [03:24<00:00,  4.89it/s]\n"
          ]
        },
        {
          "name": "stdout",
          "output_type": "stream",
          "text": [
            "--------Starting Validation on LFW dataset---------\n"
          ]
        },
        {
          "name": "stderr",
          "output_type": "stream",
          "text": [
            "100%|██████████| 57/57 [00:18<00:00,  3.08it/s]\n"
          ]
        },
        {
          "name": "stdout",
          "output_type": "stream",
          "text": [
            "Accuracy: 72.77 %\n",
            "\n",
            "Generating 24000 triplets ...\n"
          ]
        },
        {
          "name": "stderr",
          "output_type": "stream",
          "text": [
            "100%|██████████| 1000/1000 [00:00<00:00, 1274.88it/s]\n"
          ]
        },
        {
          "name": "stdout",
          "output_type": "stream",
          "text": [
            "Saving training triplets list in 'datasets/generated_triplets' directory ...\n",
            "Training triplets' list Saved!\n",
            "\n"
          ]
        },
        {
          "name": "stderr",
          "output_type": "stream",
          "text": [
            "100%|██████████| 1000/1000 [03:18<00:00,  5.04it/s]\n"
          ]
        },
        {
          "name": "stdout",
          "output_type": "stream",
          "text": [
            "--------Starting Validation on LFW dataset---------\n"
          ]
        },
        {
          "name": "stderr",
          "output_type": "stream",
          "text": [
            "100%|██████████| 57/57 [00:18<00:00,  3.14it/s]\n"
          ]
        },
        {
          "name": "stdout",
          "output_type": "stream",
          "text": [
            "Accuracy: 72.57 %\n",
            "\n",
            "Generating 24000 triplets ...\n"
          ]
        },
        {
          "name": "stderr",
          "output_type": "stream",
          "text": [
            "100%|██████████| 1000/1000 [00:00<00:00, 1400.91it/s]\n"
          ]
        },
        {
          "name": "stdout",
          "output_type": "stream",
          "text": [
            "Saving training triplets list in 'datasets/generated_triplets' directory ...\n",
            "Training triplets' list Saved!\n",
            "\n"
          ]
        },
        {
          "name": "stderr",
          "output_type": "stream",
          "text": [
            "100%|██████████| 1000/1000 [02:59<00:00,  5.58it/s]\n"
          ]
        },
        {
          "name": "stdout",
          "output_type": "stream",
          "text": [
            "--------Starting Validation on LFW dataset---------\n"
          ]
        },
        {
          "name": "stderr",
          "output_type": "stream",
          "text": [
            "100%|██████████| 57/57 [00:17<00:00,  3.20it/s]\n"
          ]
        },
        {
          "name": "stdout",
          "output_type": "stream",
          "text": [
            "Accuracy: 73.05 %\n",
            "\n",
            "Generating 24000 triplets ...\n"
          ]
        },
        {
          "name": "stderr",
          "output_type": "stream",
          "text": [
            "100%|██████████| 1000/1000 [00:01<00:00, 562.41it/s]\n"
          ]
        },
        {
          "name": "stdout",
          "output_type": "stream",
          "text": [
            "Saving training triplets list in 'datasets/generated_triplets' directory ...\n",
            "Training triplets' list Saved!\n",
            "\n"
          ]
        },
        {
          "name": "stderr",
          "output_type": "stream",
          "text": [
            "100%|██████████| 1000/1000 [03:01<00:00,  5.52it/s]\n"
          ]
        },
        {
          "name": "stdout",
          "output_type": "stream",
          "text": [
            "--------Starting Validation on LFW dataset---------\n"
          ]
        },
        {
          "name": "stderr",
          "output_type": "stream",
          "text": [
            "100%|██████████| 57/57 [00:18<00:00,  3.15it/s]\n"
          ]
        },
        {
          "name": "stdout",
          "output_type": "stream",
          "text": [
            "Accuracy: 73.33 %\n",
            "\n",
            "Generating 24000 triplets ...\n"
          ]
        },
        {
          "name": "stderr",
          "output_type": "stream",
          "text": [
            "100%|██████████| 1000/1000 [00:00<00:00, 1412.11it/s]\n"
          ]
        },
        {
          "name": "stdout",
          "output_type": "stream",
          "text": [
            "Saving training triplets list in 'datasets/generated_triplets' directory ...\n",
            "Training triplets' list Saved!\n",
            "\n"
          ]
        },
        {
          "name": "stderr",
          "output_type": "stream",
          "text": [
            "100%|██████████| 1000/1000 [02:55<00:00,  5.70it/s]\n"
          ]
        },
        {
          "name": "stdout",
          "output_type": "stream",
          "text": [
            "--------Starting Validation on LFW dataset---------\n"
          ]
        },
        {
          "name": "stderr",
          "output_type": "stream",
          "text": [
            "100%|██████████| 57/57 [00:17<00:00,  3.23it/s]\n"
          ]
        },
        {
          "name": "stdout",
          "output_type": "stream",
          "text": [
            "Accuracy: 72.61 %\n",
            "\n",
            "Generating 24000 triplets ...\n"
          ]
        },
        {
          "name": "stderr",
          "output_type": "stream",
          "text": [
            "100%|██████████| 1000/1000 [00:00<00:00, 1416.11it/s]\n"
          ]
        },
        {
          "name": "stdout",
          "output_type": "stream",
          "text": [
            "Saving training triplets list in 'datasets/generated_triplets' directory ...\n",
            "Training triplets' list Saved!\n",
            "\n"
          ]
        },
        {
          "name": "stderr",
          "output_type": "stream",
          "text": [
            "100%|██████████| 1000/1000 [02:55<00:00,  5.70it/s]\n"
          ]
        },
        {
          "name": "stdout",
          "output_type": "stream",
          "text": [
            "--------Starting Validation on LFW dataset---------\n"
          ]
        },
        {
          "name": "stderr",
          "output_type": "stream",
          "text": [
            "100%|██████████| 57/57 [00:18<00:00,  3.15it/s]\n"
          ]
        },
        {
          "name": "stdout",
          "output_type": "stream",
          "text": [
            "Accuracy: 74.32 %\n",
            "\n",
            "Generating 24000 triplets ...\n"
          ]
        },
        {
          "name": "stderr",
          "output_type": "stream",
          "text": [
            "100%|██████████| 1000/1000 [00:00<00:00, 1442.68it/s]\n"
          ]
        },
        {
          "name": "stdout",
          "output_type": "stream",
          "text": [
            "Saving training triplets list in 'datasets/generated_triplets' directory ...\n",
            "Training triplets' list Saved!\n",
            "\n"
          ]
        },
        {
          "name": "stderr",
          "output_type": "stream",
          "text": [
            "100%|██████████| 1000/1000 [03:16<00:00,  5.08it/s]\n"
          ]
        },
        {
          "name": "stdout",
          "output_type": "stream",
          "text": [
            "--------Starting Validation on LFW dataset---------\n"
          ]
        },
        {
          "name": "stderr",
          "output_type": "stream",
          "text": [
            "100%|██████████| 57/57 [00:18<00:00,  3.03it/s]\n"
          ]
        },
        {
          "name": "stdout",
          "output_type": "stream",
          "text": [
            "Accuracy: 71.76 %\n",
            "\n",
            "Generating 24000 triplets ...\n"
          ]
        },
        {
          "name": "stderr",
          "output_type": "stream",
          "text": [
            "100%|██████████| 1000/1000 [00:00<00:00, 1361.85it/s]\n"
          ]
        },
        {
          "name": "stdout",
          "output_type": "stream",
          "text": [
            "Saving training triplets list in 'datasets/generated_triplets' directory ...\n",
            "Training triplets' list Saved!\n",
            "\n"
          ]
        },
        {
          "name": "stderr",
          "output_type": "stream",
          "text": [
            "100%|██████████| 1000/1000 [03:20<00:00,  4.99it/s]\n"
          ]
        },
        {
          "name": "stdout",
          "output_type": "stream",
          "text": [
            "--------Starting Validation on LFW dataset---------\n"
          ]
        },
        {
          "name": "stderr",
          "output_type": "stream",
          "text": [
            "100%|██████████| 57/57 [00:17<00:00,  3.17it/s]\n"
          ]
        },
        {
          "name": "stdout",
          "output_type": "stream",
          "text": [
            "Accuracy: 74.13 %\n",
            "\n",
            "Generating 24000 triplets ...\n"
          ]
        },
        {
          "name": "stderr",
          "output_type": "stream",
          "text": [
            "100%|██████████| 1000/1000 [00:00<00:00, 1437.95it/s]\n"
          ]
        },
        {
          "name": "stdout",
          "output_type": "stream",
          "text": [
            "Saving training triplets list in 'datasets/generated_triplets' directory ...\n",
            "Training triplets' list Saved!\n",
            "\n"
          ]
        },
        {
          "name": "stderr",
          "output_type": "stream",
          "text": [
            "100%|██████████| 1000/1000 [03:21<00:00,  4.97it/s]\n"
          ]
        },
        {
          "name": "stdout",
          "output_type": "stream",
          "text": [
            "--------Starting Validation on LFW dataset---------\n"
          ]
        },
        {
          "name": "stderr",
          "output_type": "stream",
          "text": [
            "100%|██████████| 57/57 [00:18<00:00,  3.01it/s]\n"
          ]
        },
        {
          "name": "stdout",
          "output_type": "stream",
          "text": [
            "Accuracy: 74.25 %\n",
            "\n",
            "Generating 24000 triplets ...\n"
          ]
        },
        {
          "name": "stderr",
          "output_type": "stream",
          "text": [
            "100%|██████████| 1000/1000 [00:00<00:00, 1325.96it/s]\n"
          ]
        },
        {
          "name": "stdout",
          "output_type": "stream",
          "text": [
            "Saving training triplets list in 'datasets/generated_triplets' directory ...\n",
            "Training triplets' list Saved!\n",
            "\n"
          ]
        },
        {
          "name": "stderr",
          "output_type": "stream",
          "text": [
            "100%|██████████| 1000/1000 [03:15<00:00,  5.12it/s]\n"
          ]
        },
        {
          "name": "stdout",
          "output_type": "stream",
          "text": [
            "--------Starting Validation on LFW dataset---------\n"
          ]
        },
        {
          "name": "stderr",
          "output_type": "stream",
          "text": [
            "100%|██████████| 57/57 [00:18<00:00,  3.10it/s]\n"
          ]
        },
        {
          "name": "stdout",
          "output_type": "stream",
          "text": [
            "Accuracy: 73.12 %\n",
            "\n",
            "Generating 24000 triplets ...\n"
          ]
        },
        {
          "name": "stderr",
          "output_type": "stream",
          "text": [
            "100%|██████████| 1000/1000 [00:01<00:00, 520.60it/s]\n"
          ]
        },
        {
          "name": "stdout",
          "output_type": "stream",
          "text": [
            "Saving training triplets list in 'datasets/generated_triplets' directory ...\n",
            "Training triplets' list Saved!\n",
            "\n"
          ]
        },
        {
          "name": "stderr",
          "output_type": "stream",
          "text": [
            "100%|██████████| 1000/1000 [03:22<00:00,  4.94it/s]\n"
          ]
        },
        {
          "name": "stdout",
          "output_type": "stream",
          "text": [
            "--------Starting Validation on LFW dataset---------\n"
          ]
        },
        {
          "name": "stderr",
          "output_type": "stream",
          "text": [
            "100%|██████████| 57/57 [00:18<00:00,  3.13it/s]\n"
          ]
        },
        {
          "name": "stdout",
          "output_type": "stream",
          "text": [
            "Accuracy: 72.84 %\n",
            "\n",
            "Generating 24000 triplets ...\n"
          ]
        },
        {
          "name": "stderr",
          "output_type": "stream",
          "text": [
            "100%|██████████| 1000/1000 [00:00<00:00, 1438.53it/s]\n"
          ]
        },
        {
          "name": "stdout",
          "output_type": "stream",
          "text": [
            "Saving training triplets list in 'datasets/generated_triplets' directory ...\n",
            "Training triplets' list Saved!\n",
            "\n"
          ]
        },
        {
          "name": "stderr",
          "output_type": "stream",
          "text": [
            "100%|██████████| 1000/1000 [03:16<00:00,  5.08it/s]\n"
          ]
        },
        {
          "name": "stdout",
          "output_type": "stream",
          "text": [
            "--------Starting Validation on LFW dataset---------\n"
          ]
        },
        {
          "name": "stderr",
          "output_type": "stream",
          "text": [
            "100%|██████████| 57/57 [00:18<00:00,  3.05it/s]\n"
          ]
        },
        {
          "name": "stdout",
          "output_type": "stream",
          "text": [
            "Accuracy: 73.40 %\n",
            "\n",
            "Generating 24000 triplets ...\n"
          ]
        },
        {
          "name": "stderr",
          "output_type": "stream",
          "text": [
            "100%|██████████| 1000/1000 [00:00<00:00, 1440.60it/s]\n"
          ]
        },
        {
          "name": "stdout",
          "output_type": "stream",
          "text": [
            "Saving training triplets list in 'datasets/generated_triplets' directory ...\n",
            "Training triplets' list Saved!\n",
            "\n"
          ]
        },
        {
          "name": "stderr",
          "output_type": "stream",
          "text": [
            "100%|██████████| 1000/1000 [03:08<00:00,  5.31it/s]\n"
          ]
        },
        {
          "name": "stdout",
          "output_type": "stream",
          "text": [
            "--------Starting Validation on LFW dataset---------\n"
          ]
        },
        {
          "name": "stderr",
          "output_type": "stream",
          "text": [
            "100%|██████████| 57/57 [00:19<00:00,  3.00it/s]\n"
          ]
        },
        {
          "name": "stdout",
          "output_type": "stream",
          "text": [
            "Accuracy: 73.03 %\n",
            "\n",
            "Generating 24000 triplets ...\n"
          ]
        },
        {
          "name": "stderr",
          "output_type": "stream",
          "text": [
            "100%|██████████| 1000/1000 [00:00<00:00, 1419.12it/s]\n"
          ]
        },
        {
          "name": "stdout",
          "output_type": "stream",
          "text": [
            "Saving training triplets list in 'datasets/generated_triplets' directory ...\n",
            "Training triplets' list Saved!\n",
            "\n"
          ]
        },
        {
          "name": "stderr",
          "output_type": "stream",
          "text": [
            "100%|██████████| 1000/1000 [03:06<00:00,  5.36it/s]\n"
          ]
        },
        {
          "name": "stdout",
          "output_type": "stream",
          "text": [
            "--------Starting Validation on LFW dataset---------\n"
          ]
        },
        {
          "name": "stderr",
          "output_type": "stream",
          "text": [
            "100%|██████████| 57/57 [00:18<00:00,  3.07it/s]\n"
          ]
        },
        {
          "name": "stdout",
          "output_type": "stream",
          "text": [
            "Accuracy: 74.36 %\n",
            "\n",
            "Generating 24000 triplets ...\n"
          ]
        },
        {
          "name": "stderr",
          "output_type": "stream",
          "text": [
            "100%|██████████| 1000/1000 [00:00<00:00, 1377.10it/s]\n"
          ]
        },
        {
          "name": "stdout",
          "output_type": "stream",
          "text": [
            "Saving training triplets list in 'datasets/generated_triplets' directory ...\n",
            "Training triplets' list Saved!\n",
            "\n"
          ]
        },
        {
          "name": "stderr",
          "output_type": "stream",
          "text": [
            "100%|██████████| 1000/1000 [02:57<00:00,  5.63it/s]\n"
          ]
        },
        {
          "name": "stdout",
          "output_type": "stream",
          "text": [
            "--------Starting Validation on LFW dataset---------\n"
          ]
        },
        {
          "name": "stderr",
          "output_type": "stream",
          "text": [
            "100%|██████████| 57/57 [00:17<00:00,  3.19it/s]\n"
          ]
        },
        {
          "name": "stdout",
          "output_type": "stream",
          "text": [
            "Accuracy: 75.06 %\n",
            "\n",
            "Generating 24000 triplets ...\n"
          ]
        },
        {
          "name": "stderr",
          "output_type": "stream",
          "text": [
            "100%|██████████| 1000/1000 [00:00<00:00, 1243.50it/s]\n"
          ]
        },
        {
          "name": "stdout",
          "output_type": "stream",
          "text": [
            "Saving training triplets list in 'datasets/generated_triplets' directory ...\n",
            "Training triplets' list Saved!\n",
            "\n"
          ]
        },
        {
          "name": "stderr",
          "output_type": "stream",
          "text": [
            "100%|██████████| 1000/1000 [03:18<00:00,  5.05it/s]\n"
          ]
        },
        {
          "name": "stdout",
          "output_type": "stream",
          "text": [
            "--------Starting Validation on LFW dataset---------\n"
          ]
        },
        {
          "name": "stderr",
          "output_type": "stream",
          "text": [
            "100%|██████████| 57/57 [00:18<00:00,  3.13it/s]\n"
          ]
        },
        {
          "name": "stdout",
          "output_type": "stream",
          "text": [
            "Accuracy: 75.34 %\n",
            "\n",
            "Generating 24000 triplets ...\n"
          ]
        },
        {
          "name": "stderr",
          "output_type": "stream",
          "text": [
            "100%|██████████| 1000/1000 [00:00<00:00, 1392.78it/s]\n"
          ]
        },
        {
          "name": "stdout",
          "output_type": "stream",
          "text": [
            "Saving training triplets list in 'datasets/generated_triplets' directory ...\n",
            "Training triplets' list Saved!\n",
            "\n"
          ]
        },
        {
          "name": "stderr",
          "output_type": "stream",
          "text": [
            "100%|██████████| 1000/1000 [03:16<00:00,  5.09it/s]\n"
          ]
        },
        {
          "name": "stdout",
          "output_type": "stream",
          "text": [
            "--------Starting Validation on LFW dataset---------\n"
          ]
        },
        {
          "name": "stderr",
          "output_type": "stream",
          "text": [
            "100%|██████████| 57/57 [00:17<00:00,  3.19it/s]\n"
          ]
        },
        {
          "name": "stdout",
          "output_type": "stream",
          "text": [
            "Accuracy: 74.32 %\n",
            "\n",
            "Generating 24000 triplets ...\n"
          ]
        },
        {
          "name": "stderr",
          "output_type": "stream",
          "text": [
            "100%|██████████| 1000/1000 [00:01<00:00, 539.84it/s]\n"
          ]
        },
        {
          "name": "stdout",
          "output_type": "stream",
          "text": [
            "Saving training triplets list in 'datasets/generated_triplets' directory ...\n",
            "Training triplets' list Saved!\n",
            "\n"
          ]
        },
        {
          "name": "stderr",
          "output_type": "stream",
          "text": [
            "100%|██████████| 1000/1000 [03:00<00:00,  5.53it/s]\n"
          ]
        },
        {
          "name": "stdout",
          "output_type": "stream",
          "text": [
            "--------Starting Validation on LFW dataset---------\n"
          ]
        },
        {
          "name": "stderr",
          "output_type": "stream",
          "text": [
            "100%|██████████| 57/57 [00:17<00:00,  3.20it/s]\n"
          ]
        },
        {
          "name": "stdout",
          "output_type": "stream",
          "text": [
            "Accuracy: 75.13 %\n",
            "\n",
            "Generating 24000 triplets ...\n"
          ]
        },
        {
          "name": "stderr",
          "output_type": "stream",
          "text": [
            "100%|██████████| 1000/1000 [00:00<00:00, 1450.06it/s]\n"
          ]
        },
        {
          "name": "stdout",
          "output_type": "stream",
          "text": [
            "Saving training triplets list in 'datasets/generated_triplets' directory ...\n",
            "Training triplets' list Saved!\n",
            "\n"
          ]
        },
        {
          "name": "stderr",
          "output_type": "stream",
          "text": [
            "100%|██████████| 1000/1000 [03:03<00:00,  5.45it/s]\n"
          ]
        },
        {
          "name": "stdout",
          "output_type": "stream",
          "text": [
            "--------Starting Validation on LFW dataset---------\n"
          ]
        },
        {
          "name": "stderr",
          "output_type": "stream",
          "text": [
            "100%|██████████| 57/57 [00:18<00:00,  3.14it/s]\n"
          ]
        },
        {
          "name": "stdout",
          "output_type": "stream",
          "text": [
            "Accuracy: 75.26 %\n",
            "\n",
            "Generating 24000 triplets ...\n"
          ]
        },
        {
          "name": "stderr",
          "output_type": "stream",
          "text": [
            "100%|██████████| 1000/1000 [00:00<00:00, 1322.45it/s]\n"
          ]
        },
        {
          "name": "stdout",
          "output_type": "stream",
          "text": [
            "Saving training triplets list in 'datasets/generated_triplets' directory ...\n",
            "Training triplets' list Saved!\n",
            "\n"
          ]
        },
        {
          "name": "stderr",
          "output_type": "stream",
          "text": [
            "100%|██████████| 1000/1000 [03:03<00:00,  5.46it/s]\n"
          ]
        },
        {
          "name": "stdout",
          "output_type": "stream",
          "text": [
            "--------Starting Validation on LFW dataset---------\n"
          ]
        },
        {
          "name": "stderr",
          "output_type": "stream",
          "text": [
            "100%|██████████| 57/57 [00:17<00:00,  3.22it/s]\n"
          ]
        },
        {
          "name": "stdout",
          "output_type": "stream",
          "text": [
            "Accuracy: 75.57 %\n",
            "\n",
            "Generating 24000 triplets ...\n"
          ]
        },
        {
          "name": "stderr",
          "output_type": "stream",
          "text": [
            "100%|██████████| 1000/1000 [00:01<00:00, 523.34it/s]\n"
          ]
        },
        {
          "name": "stdout",
          "output_type": "stream",
          "text": [
            "Saving training triplets list in 'datasets/generated_triplets' directory ...\n",
            "Training triplets' list Saved!\n",
            "\n"
          ]
        },
        {
          "name": "stderr",
          "output_type": "stream",
          "text": [
            "100%|██████████| 1000/1000 [03:00<00:00,  5.54it/s]\n"
          ]
        },
        {
          "name": "stdout",
          "output_type": "stream",
          "text": [
            "--------Starting Validation on LFW dataset---------\n"
          ]
        },
        {
          "name": "stderr",
          "output_type": "stream",
          "text": [
            "100%|██████████| 57/57 [00:17<00:00,  3.30it/s]\n"
          ]
        },
        {
          "name": "stdout",
          "output_type": "stream",
          "text": [
            "Accuracy: 75.36 %\n",
            "\n",
            "Generating 24000 triplets ...\n"
          ]
        },
        {
          "name": "stderr",
          "output_type": "stream",
          "text": [
            "100%|██████████| 1000/1000 [00:00<00:00, 1519.97it/s]\n"
          ]
        },
        {
          "name": "stdout",
          "output_type": "stream",
          "text": [
            "Saving training triplets list in 'datasets/generated_triplets' directory ...\n",
            "Training triplets' list Saved!\n",
            "\n"
          ]
        },
        {
          "name": "stderr",
          "output_type": "stream",
          "text": [
            "100%|██████████| 1000/1000 [02:44<00:00,  6.08it/s]\n"
          ]
        },
        {
          "name": "stdout",
          "output_type": "stream",
          "text": [
            "--------Starting Validation on LFW dataset---------\n"
          ]
        },
        {
          "name": "stderr",
          "output_type": "stream",
          "text": [
            "100%|██████████| 57/57 [00:17<00:00,  3.20it/s]\n"
          ]
        },
        {
          "name": "stdout",
          "output_type": "stream",
          "text": [
            "Accuracy: 74.67 %\n",
            "\n",
            "Generating 24000 triplets ...\n"
          ]
        },
        {
          "name": "stderr",
          "output_type": "stream",
          "text": [
            "100%|██████████| 1000/1000 [00:00<00:00, 1487.76it/s]\n"
          ]
        },
        {
          "name": "stdout",
          "output_type": "stream",
          "text": [
            "Saving training triplets list in 'datasets/generated_triplets' directory ...\n",
            "Training triplets' list Saved!\n",
            "\n"
          ]
        },
        {
          "name": "stderr",
          "output_type": "stream",
          "text": [
            "100%|██████████| 1000/1000 [02:42<00:00,  6.17it/s]\n"
          ]
        },
        {
          "name": "stdout",
          "output_type": "stream",
          "text": [
            "--------Starting Validation on LFW dataset---------\n"
          ]
        },
        {
          "name": "stderr",
          "output_type": "stream",
          "text": [
            "100%|██████████| 57/57 [00:16<00:00,  3.46it/s]\n"
          ]
        },
        {
          "name": "stdout",
          "output_type": "stream",
          "text": [
            "Accuracy: 75.61 %\n",
            "\n",
            "Generating 24000 triplets ...\n"
          ]
        },
        {
          "name": "stderr",
          "output_type": "stream",
          "text": [
            "100%|██████████| 1000/1000 [00:00<00:00, 1501.16it/s]\n"
          ]
        },
        {
          "name": "stdout",
          "output_type": "stream",
          "text": [
            "Saving training triplets list in 'datasets/generated_triplets' directory ...\n",
            "Training triplets' list Saved!\n",
            "\n"
          ]
        },
        {
          "name": "stderr",
          "output_type": "stream",
          "text": [
            "100%|██████████| 1000/1000 [02:43<00:00,  6.10it/s]\n"
          ]
        },
        {
          "name": "stdout",
          "output_type": "stream",
          "text": [
            "--------Starting Validation on LFW dataset---------\n"
          ]
        },
        {
          "name": "stderr",
          "output_type": "stream",
          "text": [
            "100%|██████████| 57/57 [00:16<00:00,  3.47it/s]\n"
          ]
        },
        {
          "name": "stdout",
          "output_type": "stream",
          "text": [
            "Accuracy: 73.51 %\n",
            "\n",
            "Generating 24000 triplets ...\n"
          ]
        },
        {
          "name": "stderr",
          "output_type": "stream",
          "text": [
            "100%|██████████| 1000/1000 [00:01<00:00, 591.42it/s]\n"
          ]
        },
        {
          "name": "stdout",
          "output_type": "stream",
          "text": [
            "Saving training triplets list in 'datasets/generated_triplets' directory ...\n",
            "Training triplets' list Saved!\n",
            "\n"
          ]
        },
        {
          "name": "stderr",
          "output_type": "stream",
          "text": [
            "100%|██████████| 1000/1000 [02:43<00:00,  6.11it/s]\n"
          ]
        },
        {
          "name": "stdout",
          "output_type": "stream",
          "text": [
            "--------Starting Validation on LFW dataset---------\n"
          ]
        },
        {
          "name": "stderr",
          "output_type": "stream",
          "text": [
            "100%|██████████| 57/57 [00:16<00:00,  3.38it/s]\n"
          ]
        },
        {
          "name": "stdout",
          "output_type": "stream",
          "text": [
            "Accuracy: 75.36 %\n",
            "\n",
            "Generating 24000 triplets ...\n"
          ]
        },
        {
          "name": "stderr",
          "output_type": "stream",
          "text": [
            "100%|██████████| 1000/1000 [00:00<00:00, 1483.34it/s]\n"
          ]
        },
        {
          "name": "stdout",
          "output_type": "stream",
          "text": [
            "Saving training triplets list in 'datasets/generated_triplets' directory ...\n",
            "Training triplets' list Saved!\n",
            "\n"
          ]
        },
        {
          "name": "stderr",
          "output_type": "stream",
          "text": [
            "100%|██████████| 1000/1000 [02:43<00:00,  6.11it/s]\n"
          ]
        },
        {
          "name": "stdout",
          "output_type": "stream",
          "text": [
            "--------Starting Validation on LFW dataset---------\n"
          ]
        },
        {
          "name": "stderr",
          "output_type": "stream",
          "text": [
            "100%|██████████| 57/57 [00:17<00:00,  3.35it/s]\n"
          ]
        },
        {
          "name": "stdout",
          "output_type": "stream",
          "text": [
            "Accuracy: 74.69 %\n",
            "\n",
            "Generating 24000 triplets ...\n"
          ]
        },
        {
          "name": "stderr",
          "output_type": "stream",
          "text": [
            "100%|██████████| 1000/1000 [00:00<00:00, 1483.28it/s]\n"
          ]
        },
        {
          "name": "stdout",
          "output_type": "stream",
          "text": [
            "Saving training triplets list in 'datasets/generated_triplets' directory ...\n",
            "Training triplets' list Saved!\n",
            "\n"
          ]
        },
        {
          "name": "stderr",
          "output_type": "stream",
          "text": [
            "100%|██████████| 1000/1000 [02:55<00:00,  5.71it/s]\n"
          ]
        },
        {
          "name": "stdout",
          "output_type": "stream",
          "text": [
            "--------Starting Validation on LFW dataset---------\n"
          ]
        },
        {
          "name": "stderr",
          "output_type": "stream",
          "text": [
            "100%|██████████| 57/57 [00:18<00:00,  3.06it/s]\n"
          ]
        },
        {
          "name": "stdout",
          "output_type": "stream",
          "text": [
            "Accuracy: 75.94 %\n",
            "\n",
            "Generating 24000 triplets ...\n"
          ]
        },
        {
          "name": "stderr",
          "output_type": "stream",
          "text": [
            "100%|██████████| 1000/1000 [00:01<00:00, 506.54it/s]\n"
          ]
        },
        {
          "name": "stdout",
          "output_type": "stream",
          "text": [
            "Saving training triplets list in 'datasets/generated_triplets' directory ...\n",
            "Training triplets' list Saved!\n",
            "\n"
          ]
        },
        {
          "name": "stderr",
          "output_type": "stream",
          "text": [
            "100%|██████████| 1000/1000 [03:10<00:00,  5.25it/s]\n"
          ]
        },
        {
          "name": "stdout",
          "output_type": "stream",
          "text": [
            "--------Starting Validation on LFW dataset---------\n"
          ]
        },
        {
          "name": "stderr",
          "output_type": "stream",
          "text": [
            "100%|██████████| 57/57 [00:20<00:00,  2.74it/s]\n"
          ]
        },
        {
          "name": "stdout",
          "output_type": "stream",
          "text": [
            "Accuracy: 75.50 %\n",
            "\n",
            "Generating 24000 triplets ...\n"
          ]
        },
        {
          "name": "stderr",
          "output_type": "stream",
          "text": [
            "100%|██████████| 1000/1000 [00:00<00:00, 1247.17it/s]\n"
          ]
        },
        {
          "name": "stdout",
          "output_type": "stream",
          "text": [
            "Saving training triplets list in 'datasets/generated_triplets' directory ...\n",
            "Training triplets' list Saved!\n",
            "\n"
          ]
        },
        {
          "name": "stderr",
          "output_type": "stream",
          "text": [
            "100%|██████████| 1000/1000 [03:14<00:00,  5.15it/s]\n"
          ]
        },
        {
          "name": "stdout",
          "output_type": "stream",
          "text": [
            "--------Starting Validation on LFW dataset---------\n"
          ]
        },
        {
          "name": "stderr",
          "output_type": "stream",
          "text": [
            "100%|██████████| 57/57 [00:18<00:00,  3.11it/s]\n"
          ]
        },
        {
          "name": "stdout",
          "output_type": "stream",
          "text": [
            "Accuracy: 75.57 %\n",
            "\n",
            "Generating 24000 triplets ...\n"
          ]
        },
        {
          "name": "stderr",
          "output_type": "stream",
          "text": [
            "100%|██████████| 1000/1000 [00:00<00:00, 1422.35it/s]\n"
          ]
        },
        {
          "name": "stdout",
          "output_type": "stream",
          "text": [
            "Saving training triplets list in 'datasets/generated_triplets' directory ...\n",
            "Training triplets' list Saved!\n",
            "\n"
          ]
        },
        {
          "name": "stderr",
          "output_type": "stream",
          "text": [
            "100%|██████████| 1000/1000 [02:47<00:00,  5.97it/s]\n"
          ]
        },
        {
          "name": "stdout",
          "output_type": "stream",
          "text": [
            "--------Starting Validation on LFW dataset---------\n"
          ]
        },
        {
          "name": "stderr",
          "output_type": "stream",
          "text": [
            "100%|██████████| 57/57 [00:16<00:00,  3.37it/s]\n"
          ]
        },
        {
          "name": "stdout",
          "output_type": "stream",
          "text": [
            "Accuracy: 74.76 %\n",
            "\n",
            "Generating 24000 triplets ...\n"
          ]
        },
        {
          "name": "stderr",
          "output_type": "stream",
          "text": [
            "100%|██████████| 1000/1000 [00:00<00:00, 1463.82it/s]\n"
          ]
        },
        {
          "name": "stdout",
          "output_type": "stream",
          "text": [
            "Saving training triplets list in 'datasets/generated_triplets' directory ...\n",
            "Training triplets' list Saved!\n",
            "\n"
          ]
        },
        {
          "name": "stderr",
          "output_type": "stream",
          "text": [
            "100%|██████████| 1000/1000 [02:44<00:00,  6.07it/s]\n"
          ]
        },
        {
          "name": "stdout",
          "output_type": "stream",
          "text": [
            "--------Starting Validation on LFW dataset---------\n"
          ]
        },
        {
          "name": "stderr",
          "output_type": "stream",
          "text": [
            "100%|██████████| 57/57 [00:16<00:00,  3.42it/s]\n"
          ]
        },
        {
          "name": "stdout",
          "output_type": "stream",
          "text": [
            "Accuracy: 75.15 %\n",
            "\n",
            "Generating 24000 triplets ...\n"
          ]
        },
        {
          "name": "stderr",
          "output_type": "stream",
          "text": [
            "100%|██████████| 1000/1000 [00:01<00:00, 546.08it/s]\n"
          ]
        },
        {
          "name": "stdout",
          "output_type": "stream",
          "text": [
            "Saving training triplets list in 'datasets/generated_triplets' directory ...\n",
            "Training triplets' list Saved!\n",
            "\n"
          ]
        },
        {
          "name": "stderr",
          "output_type": "stream",
          "text": [
            "100%|██████████| 1000/1000 [02:41<00:00,  6.21it/s]\n"
          ]
        },
        {
          "name": "stdout",
          "output_type": "stream",
          "text": [
            "--------Starting Validation on LFW dataset---------\n"
          ]
        },
        {
          "name": "stderr",
          "output_type": "stream",
          "text": [
            "100%|██████████| 57/57 [00:16<00:00,  3.42it/s]\n"
          ]
        },
        {
          "name": "stdout",
          "output_type": "stream",
          "text": [
            "Accuracy: 75.50 %\n",
            "\n",
            "Generating 24000 triplets ...\n"
          ]
        },
        {
          "name": "stderr",
          "output_type": "stream",
          "text": [
            "100%|██████████| 1000/1000 [00:00<00:00, 1501.16it/s]\n"
          ]
        },
        {
          "name": "stdout",
          "output_type": "stream",
          "text": [
            "Saving training triplets list in 'datasets/generated_triplets' directory ...\n",
            "Training triplets' list Saved!\n",
            "\n"
          ]
        },
        {
          "name": "stderr",
          "output_type": "stream",
          "text": [
            "100%|██████████| 1000/1000 [02:41<00:00,  6.20it/s]\n"
          ]
        },
        {
          "name": "stdout",
          "output_type": "stream",
          "text": [
            "--------Starting Validation on LFW dataset---------\n"
          ]
        },
        {
          "name": "stderr",
          "output_type": "stream",
          "text": [
            "100%|██████████| 57/57 [00:16<00:00,  3.45it/s]\n"
          ]
        },
        {
          "name": "stdout",
          "output_type": "stream",
          "text": [
            "Accuracy: 74.20 %\n",
            "\n",
            "Generating 24000 triplets ...\n"
          ]
        },
        {
          "name": "stderr",
          "output_type": "stream",
          "text": [
            "100%|██████████| 1000/1000 [00:00<00:00, 1470.35it/s]\n"
          ]
        },
        {
          "name": "stdout",
          "output_type": "stream",
          "text": [
            "Saving training triplets list in 'datasets/generated_triplets' directory ...\n",
            "Training triplets' list Saved!\n",
            "\n"
          ]
        },
        {
          "name": "stderr",
          "output_type": "stream",
          "text": [
            "100%|██████████| 1000/1000 [02:43<00:00,  6.13it/s]\n"
          ]
        },
        {
          "name": "stdout",
          "output_type": "stream",
          "text": [
            "--------Starting Validation on LFW dataset---------\n"
          ]
        },
        {
          "name": "stderr",
          "output_type": "stream",
          "text": [
            "100%|██████████| 57/57 [00:16<00:00,  3.40it/s]\n"
          ]
        },
        {
          "name": "stdout",
          "output_type": "stream",
          "text": [
            "Accuracy: 76.16 %\n",
            "\n",
            "Generating 24000 triplets ...\n"
          ]
        },
        {
          "name": "stderr",
          "output_type": "stream",
          "text": [
            "100%|██████████| 1000/1000 [00:01<00:00, 561.02it/s]\n"
          ]
        },
        {
          "name": "stdout",
          "output_type": "stream",
          "text": [
            "Saving training triplets list in 'datasets/generated_triplets' directory ...\n",
            "Training triplets' list Saved!\n",
            "\n"
          ]
        },
        {
          "name": "stderr",
          "output_type": "stream",
          "text": [
            "100%|██████████| 1000/1000 [02:44<00:00,  6.10it/s]\n"
          ]
        },
        {
          "name": "stdout",
          "output_type": "stream",
          "text": [
            "--------Starting Validation on LFW dataset---------\n"
          ]
        },
        {
          "name": "stderr",
          "output_type": "stream",
          "text": [
            "100%|██████████| 57/57 [00:17<00:00,  3.27it/s]\n"
          ]
        },
        {
          "name": "stdout",
          "output_type": "stream",
          "text": [
            "Accuracy: 75.13 %\n",
            "\n",
            "Generating 24000 triplets ...\n"
          ]
        },
        {
          "name": "stderr",
          "output_type": "stream",
          "text": [
            "100%|██████████| 1000/1000 [00:00<00:00, 1476.77it/s]\n"
          ]
        },
        {
          "name": "stdout",
          "output_type": "stream",
          "text": [
            "Saving training triplets list in 'datasets/generated_triplets' directory ...\n",
            "Training triplets' list Saved!\n",
            "\n"
          ]
        },
        {
          "name": "stderr",
          "output_type": "stream",
          "text": [
            "100%|██████████| 1000/1000 [02:45<00:00,  6.05it/s]\n"
          ]
        },
        {
          "name": "stdout",
          "output_type": "stream",
          "text": [
            "--------Starting Validation on LFW dataset---------\n"
          ]
        },
        {
          "name": "stderr",
          "output_type": "stream",
          "text": [
            "100%|██████████| 57/57 [00:17<00:00,  3.30it/s]\n"
          ]
        },
        {
          "name": "stdout",
          "output_type": "stream",
          "text": [
            "Accuracy: 75.77 %\n",
            "\n",
            "Generating 24000 triplets ...\n"
          ]
        },
        {
          "name": "stderr",
          "output_type": "stream",
          "text": [
            "100%|██████████| 1000/1000 [00:00<00:00, 1468.33it/s]\n"
          ]
        },
        {
          "name": "stdout",
          "output_type": "stream",
          "text": [
            "Saving training triplets list in 'datasets/generated_triplets' directory ...\n",
            "Training triplets' list Saved!\n",
            "\n"
          ]
        },
        {
          "name": "stderr",
          "output_type": "stream",
          "text": [
            "100%|██████████| 1000/1000 [02:46<00:00,  6.01it/s]\n"
          ]
        },
        {
          "name": "stdout",
          "output_type": "stream",
          "text": [
            "--------Starting Validation on LFW dataset---------\n"
          ]
        },
        {
          "name": "stderr",
          "output_type": "stream",
          "text": [
            "100%|██████████| 57/57 [00:17<00:00,  3.34it/s]\n"
          ]
        },
        {
          "name": "stdout",
          "output_type": "stream",
          "text": [
            "Accuracy: 75.96 %\n",
            "\n",
            "Generating 24000 triplets ...\n"
          ]
        },
        {
          "name": "stderr",
          "output_type": "stream",
          "text": [
            "100%|██████████| 1000/1000 [00:00<00:00, 1467.28it/s]\n"
          ]
        },
        {
          "name": "stdout",
          "output_type": "stream",
          "text": [
            "Saving training triplets list in 'datasets/generated_triplets' directory ...\n",
            "Training triplets' list Saved!\n",
            "\n"
          ]
        },
        {
          "name": "stderr",
          "output_type": "stream",
          "text": [
            "100%|██████████| 1000/1000 [02:48<00:00,  5.95it/s]\n"
          ]
        },
        {
          "name": "stdout",
          "output_type": "stream",
          "text": [
            "--------Starting Validation on LFW dataset---------\n"
          ]
        },
        {
          "name": "stderr",
          "output_type": "stream",
          "text": [
            "100%|██████████| 57/57 [00:17<00:00,  3.34it/s]\n"
          ]
        },
        {
          "name": "stdout",
          "output_type": "stream",
          "text": [
            "Accuracy: 75.78 %\n",
            "\n",
            "Generating 24000 triplets ...\n"
          ]
        },
        {
          "name": "stderr",
          "output_type": "stream",
          "text": [
            "100%|██████████| 1000/1000 [00:01<00:00, 663.63it/s]\n"
          ]
        },
        {
          "name": "stdout",
          "output_type": "stream",
          "text": [
            "Saving training triplets list in 'datasets/generated_triplets' directory ...\n",
            "Training triplets' list Saved!\n",
            "\n"
          ]
        },
        {
          "name": "stderr",
          "output_type": "stream",
          "text": [
            "100%|██████████| 1000/1000 [02:51<00:00,  5.83it/s]\n"
          ]
        },
        {
          "name": "stdout",
          "output_type": "stream",
          "text": [
            "--------Starting Validation on LFW dataset---------\n"
          ]
        },
        {
          "name": "stderr",
          "output_type": "stream",
          "text": [
            "100%|██████████| 57/57 [00:17<00:00,  3.28it/s]\n"
          ]
        },
        {
          "name": "stdout",
          "output_type": "stream",
          "text": [
            "Accuracy: 75.17 %\n",
            "\n",
            "Generating 24000 triplets ...\n"
          ]
        },
        {
          "name": "stderr",
          "output_type": "stream",
          "text": [
            "100%|██████████| 1000/1000 [00:00<00:00, 1457.40it/s]\n"
          ]
        },
        {
          "name": "stdout",
          "output_type": "stream",
          "text": [
            "Saving training triplets list in 'datasets/generated_triplets' directory ...\n",
            "Training triplets' list Saved!\n",
            "\n"
          ]
        },
        {
          "name": "stderr",
          "output_type": "stream",
          "text": [
            "100%|██████████| 1000/1000 [02:49<00:00,  5.90it/s]\n"
          ]
        },
        {
          "name": "stdout",
          "output_type": "stream",
          "text": [
            "--------Starting Validation on LFW dataset---------\n"
          ]
        },
        {
          "name": "stderr",
          "output_type": "stream",
          "text": [
            "100%|██████████| 57/57 [00:17<00:00,  3.27it/s]\n"
          ]
        },
        {
          "name": "stdout",
          "output_type": "stream",
          "text": [
            "Accuracy: 76.28 %\n"
          ]
        },
        {
          "data": {
            "image/png": "[encoded data removed]",
            "text/plain": [
              "<Figure size 640x480 with 1 Axes>"
            ]
          },
          "metadata": {},
          "output_type": "display_data"
        },
        {
          "data": {
            "image/png": "[encoded data removed]",
            "text/plain": [
              "<Figure size 640x480 with 1 Axes>"
            ]
          },
          "metadata": {},
          "output_type": "display_data"
        },
        {
          "data": {
            "image/png": "[encoded data removed]",
            "text/plain": [
              "<Figure size 640x480 with 1 Axes>"
            ]
          },
          "metadata": {},
          "output_type": "display_data"
        },
        {
          "data": {
            "image/png": "[encoded data removed]",
            "text/plain": [
              "<Figure size 640x480 with 1 Axes>"
            ]
          },
          "metadata": {},
          "output_type": "display_data"
        }
      ],
      "source": [
        "model=my_CNN()\n",
        "if torch.cuda.is_available():\n",
        "    model.cuda()\n",
        "def get_optimizer(model, learning_rate=0.001):\n",
        "    return optim.Adam(\n",
        "              params=model.parameters(),\n",
        "              lr=learning_rate,\n",
        "              betas=(0.9, 0.999),\n",
        "              eps=1e-08,\n",
        "              amsgrad=False,\n",
        "              weight_decay=1e-5\n",
        "          )\n",
        "  \n",
        "train(model, get_optimizer(model), 50, batch_size=24)"
      ]
    },
    {
      "cell_type": "markdown",
      "source": [
        "**Printing the final Validation metrics for CNN:**"
      ],
      "metadata": {
        "id": "a2KRbt9lBZdB"
      }
    },
    {
      "cell_type": "code",
      "execution_count": null,
      "metadata": {
        "outputId": "77cc68b1-64c4-4311-835c-a66c1eba5a9c",
        "id": "zn2wFKIxBZdB"
      },
      "outputs": [
        {
          "name": "stdout",
          "output_type": "stream",
          "text": [
            "-----------The final validation metrics for CNN model after 50 epochs-----------\n",
            "Accuracy: 76.28 %\n",
            "Precision: 0.756\n",
            "Recall: 0.788\n",
            "Area Under ROC: 0.432\n",
            "Best distance threshold: 3.074\n",
            "True acceptance rate: 0.017010\n",
            "False acceptance rate: 0.001070\n"
          ]
        }
      ],
      "source": [
        "PATH='C:\\\\Users\\\\bhagyashreekeswani\\\\Desktop\\\\DL_Project\\\\all_checkpoints\\\\model_training_checkpoints_cnn\\\\model_my_CNN_triplet_epoch_49.pt'\n",
        "final_metrics_cnn=torch.load(PATH)['validation_metrics']\n",
        "print('-----------The final validation metrics for CNN model after 50 epochs-----------')\n",
        "print('Accuracy: {:.2f} %'.format(final_metrics_cnn[0]*100))\n",
        "print('Precision: {:.3f}'.format(final_metrics_cnn[1]))\n",
        "print('Recall: {:.3f}'.format(final_metrics_cnn[2]))\n",
        "print('Area Under ROC: {:.3f}'.format(final_metrics_cnn[3]))\n",
        "print('Best distance threshold: {:.3f}'.format(final_metrics_cnn[4]))\n",
        "print('True acceptance rate: {:.6f}'.format(final_metrics_cnn[5]))\n",
        "print('False acceptance rate: {:.6f}'.format(final_metrics_cnn[6]))"
      ]
    },
    {
      "cell_type": "code",
      "execution_count": null,
      "metadata": {
        "outputId": "3ee58bff-5f01-4834-b23b-fa2f7dcb1e84",
        "id": "U2bzIO85BZdB"
      },
      "outputs": [
        {
          "name": "stderr",
          "output_type": "stream",
          "text": [
            "  0%|          | 0/1000 [01:12<?, ?it/s]\n"
          ]
        }
      ],
      "source": [
        "#clear cache to avoid running out of memory\n",
        "import gc\n",
        "import torch\n",
        "gc.collect()\n",
        "torch.cuda.empty_cache()"
      ]
    },
    {
      "cell_type": "markdown",
      "metadata": {
        "id": "jBjLfNWXdt8A"
      },
      "source": [
        "### Training InceptionResnetV1 model \n",
        "\n",
        "**Note: As specified in the rubric, just 50 runs have been shown below. For the rest of the runs, the model training checkpoints were used to display the final validation/train accuracies and other metrics.**"
      ]
    },
    {
      "cell_type": "code",
      "execution_count": null,
      "metadata": {
        "colab": {
          "base_uri": "https://localhost:8080/"
        },
        "outputId": "cd8f303c-f7d9-4f23-88ef-0f30ebdb9b82",
        "id": "dhH-fNoVKb8E"
      },
      "outputs": [
        {
          "name": "stdout",
          "output_type": "stream",
          "text": [
            "Skipped 330 image pairs\n",
            "Training using triplet loss starting for 50 epochs:\n",
            "\n",
            "\n",
            "Generating 24000 triplets ...\n"
          ]
        },
        {
          "name": "stderr",
          "output_type": "stream",
          "text": [
            "\n",
            "  0%|          | 0/1000 [00:00<?, ?it/s]\u001b[A\n",
            " 13%|█▎        | 130/1000 [00:00<00:00, 1299.71it/s]\u001b[A\n",
            " 26%|██▌       | 260/1000 [00:00<00:00, 1299.71it/s]\u001b[A\n",
            " 39%|███▉      | 394/1000 [00:00<00:00, 1317.23it/s]\u001b[A\n",
            " 53%|█████▎    | 526/1000 [00:00<00:00, 1253.87it/s]\u001b[A\n",
            " 65%|██████▌   | 652/1000 [00:00<00:00, 1213.55it/s]\u001b[A\n",
            " 79%|███████▉  | 789/1000 [00:00<00:00, 1260.90it/s]\u001b[A\n",
            "100%|██████████| 1000/1000 [00:00<00:00, 1272.04it/s][A\n"
          ]
        },
        {
          "name": "stdout",
          "output_type": "stream",
          "text": [
            "Saving training triplets list in 'datasets/generated_triplets' directory ...\n",
            "Training triplets' list Saved!\n",
            "\n"
          ]
        },
        {
          "name": "stderr",
          "output_type": "stream",
          "text": [
            "100%|██████████| 1000/1000 [11:06<00:00,  1.50it/s]\n"
          ]
        },
        {
          "name": "stdout",
          "output_type": "stream",
          "text": [
            "--------Starting Validation on LFW dataset---------\n"
          ]
        },
        {
          "name": "stderr",
          "output_type": "stream",
          "text": [
            "100%|██████████| 57/57 [00:34<00:00,  1.63it/s]\n"
          ]
        },
        {
          "name": "stdout",
          "output_type": "stream",
          "text": [
            "Accuracy: 66.70 %\n",
            "\n",
            "Generating 24000 triplets ...\n"
          ]
        },
        {
          "name": "stderr",
          "output_type": "stream",
          "text": [
            "\n",
            "  0%|          | 0/1000 [00:00<?, ?it/s]\u001b[A\n",
            " 12%|█▎        | 125/1000 [00:00<00:00, 1249.72it/s]\u001b[A\n",
            " 25%|██▌       | 251/1000 [00:00<00:00, 1255.60it/s]\u001b[A\n",
            " 38%|███▊      | 382/1000 [00:00<00:00, 1280.24it/s]\u001b[A\n",
            " 51%|█████     | 511/1000 [00:00<00:00, 1249.45it/s]\u001b[A\n",
            " 64%|██████▎   | 637/1000 [00:00<00:00, 1244.27it/s]\u001b[A\n",
            " 78%|███████▊  | 777/1000 [00:00<00:00, 1296.26it/s]\u001b[A\n",
            "100%|██████████| 1000/1000 [00:01<00:00, 662.77it/s]\u001b[A\n"
          ]
        },
        {
          "name": "stdout",
          "output_type": "stream",
          "text": [
            "Saving training triplets list in 'datasets/generated_triplets' directory ...\n",
            "Training triplets' list Saved!\n",
            "\n"
          ]
        },
        {
          "name": "stderr",
          "output_type": "stream",
          "text": [
            "100%|██████████| 1000/1000 [11:08<00:00,  1.50it/s]\n"
          ]
        },
        {
          "name": "stdout",
          "output_type": "stream",
          "text": [
            "--------Starting Validation on LFW dataset---------\n"
          ]
        },
        {
          "name": "stderr",
          "output_type": "stream",
          "text": [
            "100%|██████████| 57/57 [00:35<00:00,  1.60it/s]\n"
          ]
        },
        {
          "name": "stdout",
          "output_type": "stream",
          "text": [
            "Accuracy: 66.83 %\n",
            "\n",
            "Generating 24000 triplets ...\n"
          ]
        },
        {
          "name": "stderr",
          "output_type": "stream",
          "text": [
            "\n",
            "  0%|          | 0/1000 [00:00<?, ?it/s]\u001b[A\n",
            " 14%|█▎        | 136/1000 [00:00<00:00, 1357.78it/s]\u001b[A\n",
            " 27%|██▋       | 272/1000 [00:00<00:00, 1310.88it/s]\u001b[A\n",
            " 40%|████      | 404/1000 [00:00<00:00, 1297.41it/s]\u001b[A\n",
            " 54%|█████▍    | 542/1000 [00:00<00:00, 1329.24it/s]\u001b[A\n",
            " 68%|██████▊   | 676/1000 [00:00<00:00, 1323.53it/s]\u001b[A\n",
            " 81%|████████  | 809/1000 [00:00<00:00, 1234.48it/s]\u001b[A\n",
            "100%|██████████| 1000/1000 [00:00<00:00, 1273.27it/s][A\n"
          ]
        },
        {
          "name": "stdout",
          "output_type": "stream",
          "text": [
            "Saving training triplets list in 'datasets/generated_triplets' directory ...\n",
            "Training triplets' list Saved!\n",
            "\n"
          ]
        },
        {
          "name": "stderr",
          "output_type": "stream",
          "text": [
            "100%|██████████| 1000/1000 [11:21<00:00,  1.47it/s]\n"
          ]
        },
        {
          "name": "stdout",
          "output_type": "stream",
          "text": [
            "--------Starting Validation on LFW dataset---------\n"
          ]
        },
        {
          "name": "stderr",
          "output_type": "stream",
          "text": [
            "100%|██████████| 57/57 [00:36<00:00,  1.55it/s]\n"
          ]
        },
        {
          "name": "stdout",
          "output_type": "stream",
          "text": [
            "Accuracy: 68.43 %\n",
            "\n",
            "Generating 24000 triplets ...\n"
          ]
        },
        {
          "name": "stderr",
          "output_type": "stream",
          "text": [
            "\n",
            "  0%|          | 0/1000 [00:00<?, ?it/s]\u001b[A\n",
            " 12%|█▏        | 123/1000 [00:00<00:00, 1224.40it/s]\u001b[A\n",
            " 25%|██▌       | 251/1000 [00:00<00:00, 1256.88it/s]\u001b[A\n",
            " 39%|███▉      | 389/1000 [00:00<00:00, 1307.09it/s]\u001b[A\n",
            " 52%|█████▏    | 520/1000 [00:00<00:00, 1308.12it/s]\u001b[A\n",
            " 66%|██████▌   | 658/1000 [00:00<00:00, 1333.87it/s]\u001b[A\n",
            " 80%|███████▉  | 797/1000 [00:00<00:00, 1352.82it/s]\u001b[A\n",
            "100%|██████████| 1000/1000 [00:00<00:00, 1335.87it/s][A\n"
          ]
        },
        {
          "name": "stdout",
          "output_type": "stream",
          "text": [
            "Saving training triplets list in 'datasets/generated_triplets' directory ...\n",
            "Training triplets' list Saved!\n",
            "\n"
          ]
        },
        {
          "name": "stderr",
          "output_type": "stream",
          "text": [
            "100%|██████████| 1000/1000 [11:07<00:00,  1.50it/s]\n"
          ]
        },
        {
          "name": "stdout",
          "output_type": "stream",
          "text": [
            "--------Starting Validation on LFW dataset---------\n"
          ]
        },
        {
          "name": "stderr",
          "output_type": "stream",
          "text": [
            "100%|██████████| 57/57 [00:33<00:00,  1.68it/s]\n"
          ]
        },
        {
          "name": "stdout",
          "output_type": "stream",
          "text": [
            "Accuracy: 70.76 %\n",
            "\n",
            "Generating 24000 triplets ...\n"
          ]
        },
        {
          "name": "stderr",
          "output_type": "stream",
          "text": [
            "\n",
            "  0%|          | 0/1000 [00:00<?, ?it/s]\u001b[A\n",
            " 13%|█▎        | 126/1000 [00:00<00:00, 1259.27it/s]\u001b[A\n",
            " 26%|██▌       | 259/1000 [00:00<00:00, 1300.69it/s]\u001b[A\n",
            " 40%|███▉      | 395/1000 [00:00<00:00, 1325.02it/s]\u001b[A\n",
            " 53%|█████▎    | 529/1000 [00:00<00:00, 1330.81it/s]\u001b[A\n",
            " 66%|██████▋   | 663/1000 [00:00<00:00, 1318.58it/s]\u001b[A\n",
            " 80%|███████▉  | 795/1000 [00:00<00:00, 1314.53it/s]\u001b[A\n",
            "100%|██████████| 1000/1000 [00:00<00:00, 1319.63it/s][A\n"
          ]
        },
        {
          "name": "stdout",
          "output_type": "stream",
          "text": [
            "Saving training triplets list in 'datasets/generated_triplets' directory ...\n",
            "Training triplets' list Saved!\n",
            "\n"
          ]
        },
        {
          "name": "stderr",
          "output_type": "stream",
          "text": [
            "100%|██████████| 1000/1000 [10:53<00:00,  1.53it/s]\n"
          ]
        },
        {
          "name": "stdout",
          "output_type": "stream",
          "text": [
            "--------Starting Validation on LFW dataset---------\n"
          ]
        },
        {
          "name": "stderr",
          "output_type": "stream",
          "text": [
            "100%|██████████| 57/57 [00:33<00:00,  1.69it/s]\n"
          ]
        },
        {
          "name": "stdout",
          "output_type": "stream",
          "text": [
            "Accuracy: 72.29 %\n",
            "\n",
            "Generating 24000 triplets ...\n"
          ]
        },
        {
          "name": "stderr",
          "output_type": "stream",
          "text": [
            "\n",
            "  0%|          | 0/1000 [00:00<?, ?it/s]\u001b[A\n",
            " 13%|█▎        | 131/1000 [00:00<00:00, 1298.32it/s]\u001b[A\n",
            " 27%|██▋       | 272/1000 [00:00<00:00, 1361.01it/s]\u001b[A\n",
            " 41%|████      | 409/1000 [00:00<00:00, 1317.00it/s]\u001b[A\n",
            " 55%|█████▍    | 548/1000 [00:00<00:00, 1341.23it/s]\u001b[A\n",
            " 69%|██████▊   | 687/1000 [00:00<00:00, 1358.41it/s]\u001b[A\n",
            " 82%|████████▏ | 823/1000 [00:00<00:00, 1349.33it/s]\u001b[A\n",
            "100%|██████████| 1000/1000 [00:00<00:00, 1353.79it/s][A\n"
          ]
        },
        {
          "name": "stdout",
          "output_type": "stream",
          "text": [
            "Saving training triplets list in 'datasets/generated_triplets' directory ...\n",
            "Training triplets' list Saved!\n",
            "\n"
          ]
        },
        {
          "name": "stderr",
          "output_type": "stream",
          "text": [
            "100%|██████████| 1000/1000 [10:46<00:00,  1.55it/s]\n"
          ]
        },
        {
          "name": "stdout",
          "output_type": "stream",
          "text": [
            "--------Starting Validation on LFW dataset---------\n"
          ]
        },
        {
          "name": "stderr",
          "output_type": "stream",
          "text": [
            "100%|██████████| 57/57 [00:33<00:00,  1.69it/s]\n"
          ]
        },
        {
          "name": "stdout",
          "output_type": "stream",
          "text": [
            "Accuracy: 74.27 %\n",
            "\n",
            "Generating 24000 triplets ...\n"
          ]
        },
        {
          "name": "stderr",
          "output_type": "stream",
          "text": [
            "\n",
            "  0%|          | 0/1000 [00:00<?, ?it/s]\u001b[A\n",
            " 14%|█▎        | 135/1000 [00:00<00:00, 1347.59it/s]\u001b[A\n",
            " 28%|██▊       | 278/1000 [00:00<00:00, 1395.85it/s]\u001b[A\n",
            " 42%|████▏     | 421/1000 [00:00<00:00, 1411.29it/s]\u001b[A\n",
            " 56%|█████▋    | 563/1000 [00:00<00:00, 1403.52it/s]\u001b[A\n",
            " 70%|███████   | 704/1000 [00:00<00:00, 1395.72it/s]\u001b[A\n",
            " 84%|████████▍ | 844/1000 [00:00<00:00, 1342.71it/s]\u001b[A\n",
            "100%|██████████| 1000/1000 [00:00<00:00, 1371.14it/s][A\n"
          ]
        },
        {
          "name": "stdout",
          "output_type": "stream",
          "text": [
            "Saving training triplets list in 'datasets/generated_triplets' directory ...\n",
            "Training triplets' list Saved!\n",
            "\n"
          ]
        },
        {
          "name": "stderr",
          "output_type": "stream",
          "text": [
            "100%|██████████| 1000/1000 [10:48<00:00,  1.54it/s]\n"
          ]
        },
        {
          "name": "stdout",
          "output_type": "stream",
          "text": [
            "--------Starting Validation on LFW dataset---------\n"
          ]
        },
        {
          "name": "stderr",
          "output_type": "stream",
          "text": [
            "100%|██████████| 57/57 [00:34<00:00,  1.66it/s]\n"
          ]
        },
        {
          "name": "stdout",
          "output_type": "stream",
          "text": [
            "Accuracy: 74.02 %\n",
            "\n",
            "Generating 24000 triplets ...\n"
          ]
        },
        {
          "name": "stderr",
          "output_type": "stream",
          "text": [
            "\n",
            "  0%|          | 0/1000 [00:00<?, ?it/s]\u001b[A\n",
            " 14%|█▎        | 135/1000 [00:00<00:00, 1345.97it/s]\u001b[A\n",
            " 28%|██▊       | 278/1000 [00:00<00:00, 1395.16it/s]\u001b[A\n",
            " 42%|████▏     | 424/1000 [00:00<00:00, 1424.60it/s]\u001b[A\n",
            " 57%|█████▋    | 567/1000 [00:00<00:00, 973.08it/s] \u001b[A\n",
            " 70%|███████   | 700/1000 [00:00<00:00, 1072.13it/s]\u001b[A\n",
            " 82%|████████▏ | 820/1000 [00:00<00:00, 1099.01it/s]\u001b[A\n",
            "100%|██████████| 1000/1000 [00:00<00:00, 1171.55it/s][A\n"
          ]
        },
        {
          "name": "stdout",
          "output_type": "stream",
          "text": [
            "Saving training triplets list in 'datasets/generated_triplets' directory ...\n",
            "Training triplets' list Saved!\n",
            "\n"
          ]
        },
        {
          "name": "stderr",
          "output_type": "stream",
          "text": [
            "100%|██████████| 1000/1000 [10:48<00:00,  1.54it/s]\n"
          ]
        },
        {
          "name": "stdout",
          "output_type": "stream",
          "text": [
            "--------Starting Validation on LFW dataset---------\n"
          ]
        },
        {
          "name": "stderr",
          "output_type": "stream",
          "text": [
            "100%|██████████| 57/57 [00:34<00:00,  1.68it/s]\n"
          ]
        },
        {
          "name": "stdout",
          "output_type": "stream",
          "text": [
            "Accuracy: 74.07 %\n",
            "\n",
            "Generating 24000 triplets ...\n"
          ]
        },
        {
          "name": "stderr",
          "output_type": "stream",
          "text": [
            "\n",
            "  0%|          | 0/1000 [00:00<?, ?it/s]\u001b[A\n",
            " 15%|█▍        | 147/1000 [00:00<00:00, 1469.67it/s]\u001b[A\n",
            " 29%|██▉       | 294/1000 [00:00<00:00, 1444.18it/s]\u001b[A\n",
            " 44%|████▍     | 439/1000 [00:00<00:00, 1387.23it/s]\u001b[A\n",
            " 58%|█████▊    | 583/1000 [00:00<00:00, 1407.30it/s]\u001b[A\n",
            " 73%|███████▎  | 728/1000 [00:00<00:00, 1422.27it/s]\u001b[A\n",
            "100%|██████████| 1000/1000 [00:00<00:00, 1431.37it/s][A\n"
          ]
        },
        {
          "name": "stdout",
          "output_type": "stream",
          "text": [
            "Saving training triplets list in 'datasets/generated_triplets' directory ...\n",
            "Training triplets' list Saved!\n",
            "\n"
          ]
        },
        {
          "name": "stderr",
          "output_type": "stream",
          "text": [
            "100%|██████████| 1000/1000 [10:47<00:00,  1.54it/s]\n"
          ]
        },
        {
          "name": "stdout",
          "output_type": "stream",
          "text": [
            "--------Starting Validation on LFW dataset---------\n"
          ]
        },
        {
          "name": "stderr",
          "output_type": "stream",
          "text": [
            "100%|██████████| 57/57 [00:34<00:00,  1.67it/s]\n"
          ]
        },
        {
          "name": "stdout",
          "output_type": "stream",
          "text": [
            "Accuracy: 76.01 %\n",
            "\n",
            "Generating 24000 triplets ...\n"
          ]
        },
        {
          "name": "stderr",
          "output_type": "stream",
          "text": [
            "\n",
            "  0%|          | 0/1000 [00:00<?, ?it/s]\u001b[A\n",
            "  9%|▉         | 94/1000 [00:00<00:00, 939.79it/s]\u001b[A\n",
            " 22%|██▏       | 218/1000 [00:00<00:00, 1116.22it/s]\u001b[A\n",
            " 35%|███▍      | 349/1000 [00:00<00:00, 1204.57it/s]\u001b[A\n",
            " 48%|████▊     | 475/1000 [00:00<00:00, 1226.34it/s]\u001b[A\n",
            " 61%|██████    | 612/1000 [00:00<00:00, 1278.03it/s]\u001b[A\n",
            " 76%|███████▌  | 758/1000 [00:00<00:00, 1339.79it/s]\u001b[A\n",
            "100%|██████████| 1000/1000 [00:00<00:00, 1308.61it/s][A\n"
          ]
        },
        {
          "name": "stdout",
          "output_type": "stream",
          "text": [
            "Saving training triplets list in 'datasets/generated_triplets' directory ...\n",
            "Training triplets' list Saved!\n",
            "\n"
          ]
        },
        {
          "name": "stderr",
          "output_type": "stream",
          "text": [
            "100%|██████████| 1000/1000 [10:46<00:00,  1.55it/s]\n"
          ]
        },
        {
          "name": "stdout",
          "output_type": "stream",
          "text": [
            "--------Starting Validation on LFW dataset---------\n"
          ]
        },
        {
          "name": "stderr",
          "output_type": "stream",
          "text": [
            "100%|██████████| 57/57 [00:33<00:00,  1.68it/s]\n"
          ]
        },
        {
          "name": "stdout",
          "output_type": "stream",
          "text": [
            "Accuracy: 75.49 %\n",
            "\n",
            "Generating 24000 triplets ...\n"
          ]
        },
        {
          "name": "stderr",
          "output_type": "stream",
          "text": [
            "\n",
            "  0%|          | 0/1000 [00:00<?, ?it/s]\u001b[A\n",
            " 14%|█▎        | 135/1000 [00:00<00:00, 1349.69it/s]\u001b[A\n",
            " 27%|██▋       | 270/1000 [00:00<00:00, 1318.67it/s]\u001b[A\n",
            " 42%|████▏     | 415/1000 [00:00<00:00, 1377.73it/s]\u001b[A\n",
            " 56%|█████▌    | 558/1000 [00:00<00:00, 1398.09it/s]\u001b[A\n",
            " 70%|██████▉   | 698/1000 [00:00<00:00, 1383.76it/s]\u001b[A\n",
            " 84%|████████▍ | 845/1000 [00:00<00:00, 1412.67it/s]\u001b[A\n",
            "100%|██████████| 1000/1000 [00:00<00:00, 1398.29it/s][A\n"
          ]
        },
        {
          "name": "stdout",
          "output_type": "stream",
          "text": [
            "Saving training triplets list in 'datasets/generated_triplets' directory ...\n",
            "Training triplets' list Saved!\n",
            "\n"
          ]
        },
        {
          "name": "stderr",
          "output_type": "stream",
          "text": [
            "100%|██████████| 1000/1000 [10:47<00:00,  1.54it/s]\n"
          ]
        },
        {
          "name": "stdout",
          "output_type": "stream",
          "text": [
            "--------Starting Validation on LFW dataset---------\n"
          ]
        },
        {
          "name": "stderr",
          "output_type": "stream",
          "text": [
            "100%|██████████| 57/57 [00:33<00:00,  1.69it/s]\n"
          ]
        },
        {
          "name": "stdout",
          "output_type": "stream",
          "text": [
            "Accuracy: 76.51 %\n",
            "\n",
            "Generating 24000 triplets ...\n"
          ]
        },
        {
          "name": "stderr",
          "output_type": "stream",
          "text": [
            "\n",
            "  0%|          | 0/1000 [00:00<?, ?it/s]\u001b[A\n",
            " 15%|█▍        | 148/1000 [00:00<00:00, 1479.66it/s]\u001b[A\n",
            " 30%|██▉       | 297/1000 [00:00<00:00, 1485.56it/s]\u001b[A\n",
            " 45%|████▍     | 446/1000 [00:00<00:00, 1473.97it/s]\u001b[A\n",
            " 59%|█████▉    | 594/1000 [00:00<00:00, 1464.70it/s]\u001b[A\n",
            " 74%|███████▍  | 741/1000 [00:00<00:00, 1440.72it/s]\u001b[A\n",
            "100%|██████████| 1000/1000 [00:00<00:00, 1455.28it/s][A\n"
          ]
        },
        {
          "name": "stdout",
          "output_type": "stream",
          "text": [
            "Saving training triplets list in 'datasets/generated_triplets' directory ...\n",
            "Training triplets' list Saved!\n",
            "\n"
          ]
        },
        {
          "name": "stderr",
          "output_type": "stream",
          "text": [
            "100%|██████████| 1000/1000 [10:47<00:00,  1.55it/s]\n"
          ]
        },
        {
          "name": "stdout",
          "output_type": "stream",
          "text": [
            "--------Starting Validation on LFW dataset---------\n"
          ]
        },
        {
          "name": "stderr",
          "output_type": "stream",
          "text": [
            "100%|██████████| 57/57 [00:33<00:00,  1.69it/s]\n"
          ]
        },
        {
          "name": "stdout",
          "output_type": "stream",
          "text": [
            "Accuracy: 78.20 %\n",
            "\n",
            "Generating 24000 triplets ...\n"
          ]
        },
        {
          "name": "stderr",
          "output_type": "stream",
          "text": [
            "\n",
            "  0%|          | 0/1000 [00:00<?, ?it/s]\u001b[A\n",
            " 14%|█▎        | 136/1000 [00:00<00:00, 1347.51it/s]\u001b[A\n",
            " 28%|██▊       | 280/1000 [00:00<00:00, 1401.53it/s]\u001b[A\n",
            " 42%|████▏     | 421/1000 [00:00<00:00, 1405.24it/s]\u001b[A\n",
            " 56%|█████▋    | 565/1000 [00:00<00:00, 1418.82it/s]\u001b[A\n",
            " 71%|███████▏  | 714/1000 [00:00<00:00, 1444.35it/s]\u001b[A\n",
            "100%|██████████| 1000/1000 [00:01<00:00, 922.10it/s]\u001b[A\n"
          ]
        },
        {
          "name": "stdout",
          "output_type": "stream",
          "text": [
            "Saving training triplets list in 'datasets/generated_triplets' directory ...\n",
            "Training triplets' list Saved!\n",
            "\n"
          ]
        },
        {
          "name": "stderr",
          "output_type": "stream",
          "text": [
            "100%|██████████| 1000/1000 [10:47<00:00,  1.54it/s]\n"
          ]
        },
        {
          "name": "stdout",
          "output_type": "stream",
          "text": [
            "--------Starting Validation on LFW dataset---------\n"
          ]
        },
        {
          "name": "stderr",
          "output_type": "stream",
          "text": [
            "100%|██████████| 57/57 [00:33<00:00,  1.70it/s]\n"
          ]
        },
        {
          "name": "stdout",
          "output_type": "stream",
          "text": [
            "Accuracy: 77.34 %\n",
            "\n",
            "Generating 24000 triplets ...\n"
          ]
        },
        {
          "name": "stderr",
          "output_type": "stream",
          "text": [
            "\n",
            "  0%|          | 0/1000 [00:00<?, ?it/s]\u001b[A\n",
            " 14%|█▎        | 135/1000 [00:00<00:00, 1344.94it/s]\u001b[A\n",
            " 27%|██▋       | 273/1000 [00:00<00:00, 1361.37it/s]\u001b[A\n",
            " 41%|████      | 412/1000 [00:00<00:00, 1369.22it/s]\u001b[A\n",
            " 55%|█████▌    | 552/1000 [00:00<00:00, 1380.43it/s]\u001b[A\n",
            " 69%|██████▉   | 694/1000 [00:00<00:00, 1390.25it/s]\u001b[A\n",
            " 83%|████████▎ | 834/1000 [00:00<00:00, 1393.16it/s]\u001b[A\n",
            "100%|██████████| 1000/1000 [00:00<00:00, 1379.53it/s][A\n"
          ]
        },
        {
          "name": "stdout",
          "output_type": "stream",
          "text": [
            "Saving training triplets list in 'datasets/generated_triplets' directory ...\n",
            "Training triplets' list Saved!\n",
            "\n"
          ]
        },
        {
          "name": "stderr",
          "output_type": "stream",
          "text": [
            "100%|██████████| 1000/1000 [10:44<00:00,  1.55it/s]\n"
          ]
        },
        {
          "name": "stdout",
          "output_type": "stream",
          "text": [
            "--------Starting Validation on LFW dataset---------\n"
          ]
        },
        {
          "name": "stderr",
          "output_type": "stream",
          "text": [
            "100%|██████████| 57/57 [00:34<00:00,  1.67it/s]\n"
          ]
        },
        {
          "name": "stdout",
          "output_type": "stream",
          "text": [
            "Accuracy: 77.32 %\n",
            "\n",
            "Generating 24000 triplets ...\n"
          ]
        },
        {
          "name": "stderr",
          "output_type": "stream",
          "text": [
            "\n",
            "  0%|          | 0/1000 [00:00<?, ?it/s]\u001b[A\n",
            " 11%|█         | 111/1000 [00:00<00:00, 1101.49it/s]\u001b[A\n",
            " 23%|██▎       | 232/1000 [00:00<00:00, 1164.96it/s]\u001b[A\n",
            " 37%|███▋      | 370/1000 [00:00<00:00, 1261.60it/s]\u001b[A\n",
            " 51%|█████     | 507/1000 [00:00<00:00, 1302.29it/s]\u001b[A\n",
            " 65%|██████▍   | 648/1000 [00:00<00:00, 1338.80it/s]\u001b[A\n",
            " 78%|███████▊  | 782/1000 [00:00<00:00, 1266.10it/s]\u001b[A\n",
            "100%|██████████| 1000/1000 [00:00<00:00, 1256.34it/s][A\n"
          ]
        },
        {
          "name": "stdout",
          "output_type": "stream",
          "text": [
            "Saving training triplets list in 'datasets/generated_triplets' directory ...\n",
            "Training triplets' list Saved!\n",
            "\n"
          ]
        },
        {
          "name": "stderr",
          "output_type": "stream",
          "text": [
            "100%|██████████| 1000/1000 [10:43<00:00,  1.55it/s]\n"
          ]
        },
        {
          "name": "stdout",
          "output_type": "stream",
          "text": [
            "--------Starting Validation on LFW dataset---------\n"
          ]
        },
        {
          "name": "stderr",
          "output_type": "stream",
          "text": [
            "100%|██████████| 57/57 [00:33<00:00,  1.69it/s]\n"
          ]
        },
        {
          "name": "stdout",
          "output_type": "stream",
          "text": [
            "Accuracy: 76.77 %\n",
            "\n",
            "Generating 24000 triplets ...\n"
          ]
        },
        {
          "name": "stderr",
          "output_type": "stream",
          "text": [
            "\n",
            "  0%|          | 0/1000 [00:00<?, ?it/s]\u001b[A\n",
            " 14%|█▎        | 136/1000 [00:00<00:00, 1356.48it/s]\u001b[A\n",
            " 28%|██▊       | 279/1000 [00:00<00:00, 1399.50it/s]\u001b[A\n",
            " 42%|████▏     | 419/1000 [00:00<00:00, 1368.36it/s]\u001b[A\n",
            " 56%|█████▌    | 556/1000 [00:00<00:00, 1363.57it/s]\u001b[A\n",
            " 70%|███████   | 700/1000 [00:00<00:00, 1390.70it/s]\u001b[A\n",
            " 84%|████████▍ | 844/1000 [00:00<00:00, 1407.22it/s]\u001b[A\n",
            "100%|██████████| 1000/1000 [00:00<00:00, 1391.98it/s][A\n"
          ]
        },
        {
          "name": "stdout",
          "output_type": "stream",
          "text": [
            "Saving training triplets list in 'datasets/generated_triplets' directory ...\n",
            "Training triplets' list Saved!\n",
            "\n"
          ]
        },
        {
          "name": "stderr",
          "output_type": "stream",
          "text": [
            "100%|██████████| 1000/1000 [10:43<00:00,  1.55it/s]\n"
          ]
        },
        {
          "name": "stdout",
          "output_type": "stream",
          "text": [
            "--------Starting Validation on LFW dataset---------\n"
          ]
        },
        {
          "name": "stderr",
          "output_type": "stream",
          "text": [
            "100%|██████████| 57/57 [00:33<00:00,  1.69it/s]\n"
          ]
        },
        {
          "name": "stdout",
          "output_type": "stream",
          "text": [
            "Accuracy: 76.60 %\n",
            "\n",
            "Generating 24000 triplets ...\n"
          ]
        },
        {
          "name": "stderr",
          "output_type": "stream",
          "text": [
            "\n",
            "  0%|          | 0/1000 [00:00<?, ?it/s]\u001b[A\n",
            " 14%|█▍        | 145/1000 [00:00<00:00, 1449.68it/s]\u001b[A\n",
            " 29%|██▉       | 293/1000 [00:00<00:00, 1464.36it/s]\u001b[A\n",
            " 44%|████▍     | 440/1000 [00:00<00:00, 1453.52it/s]\u001b[A\n",
            " 59%|█████▉    | 588/1000 [00:00<00:00, 1463.78it/s]\u001b[A\n",
            " 74%|███████▎  | 735/1000 [00:00<00:00, 1460.65it/s]\u001b[A\n",
            "100%|██████████| 1000/1000 [00:00<00:00, 1450.33it/s][A\n"
          ]
        },
        {
          "name": "stdout",
          "output_type": "stream",
          "text": [
            "Saving training triplets list in 'datasets/generated_triplets' directory ...\n",
            "Training triplets' list Saved!\n",
            "\n"
          ]
        },
        {
          "name": "stderr",
          "output_type": "stream",
          "text": [
            "100%|██████████| 1000/1000 [10:44<00:00,  1.55it/s]\n"
          ]
        },
        {
          "name": "stdout",
          "output_type": "stream",
          "text": [
            "--------Starting Validation on LFW dataset---------\n"
          ]
        },
        {
          "name": "stderr",
          "output_type": "stream",
          "text": [
            "100%|██████████| 57/57 [00:33<00:00,  1.69it/s]\n"
          ]
        },
        {
          "name": "stdout",
          "output_type": "stream",
          "text": [
            "Accuracy: 78.31 %\n",
            "\n",
            "Generating 24000 triplets ...\n"
          ]
        },
        {
          "name": "stderr",
          "output_type": "stream",
          "text": [
            "\n",
            "  0%|          | 0/1000 [00:00<?, ?it/s]\u001b[A\n",
            " 14%|█▍        | 143/1000 [00:00<00:00, 1429.69it/s]\u001b[A\n",
            " 29%|██▊       | 286/1000 [00:00<00:00, 1418.92it/s]\u001b[A\n",
            " 43%|████▎     | 430/1000 [00:00<00:00, 1428.37it/s]\u001b[A\n",
            " 58%|█████▊    | 576/1000 [00:00<00:00, 1440.69it/s]\u001b[A\n",
            " 72%|███████▏  | 721/1000 [00:00<00:00, 1443.91it/s]\u001b[A\n",
            "100%|██████████| 1000/1000 [00:00<00:00, 1446.25it/s][A\n"
          ]
        },
        {
          "name": "stdout",
          "output_type": "stream",
          "text": [
            "Saving training triplets list in 'datasets/generated_triplets' directory ...\n",
            "Training triplets' list Saved!\n",
            "\n"
          ]
        },
        {
          "name": "stderr",
          "output_type": "stream",
          "text": [
            "100%|██████████| 1000/1000 [10:51<00:00,  1.53it/s]\n"
          ]
        },
        {
          "name": "stdout",
          "output_type": "stream",
          "text": [
            "--------Starting Validation on LFW dataset---------\n"
          ]
        },
        {
          "name": "stderr",
          "output_type": "stream",
          "text": [
            "100%|██████████| 57/57 [00:35<00:00,  1.61it/s]\n"
          ]
        },
        {
          "name": "stdout",
          "output_type": "stream",
          "text": [
            "Accuracy: 77.23 %\n",
            "\n",
            "Generating 24000 triplets ...\n"
          ]
        },
        {
          "name": "stderr",
          "output_type": "stream",
          "text": [
            "\n",
            "  0%|          | 0/1000 [00:00<?, ?it/s]\u001b[A\n",
            " 10%|▉         | 96/1000 [00:00<00:00, 954.60it/s]\u001b[A\n",
            " 23%|██▎       | 231/1000 [00:00<00:00, 1184.96it/s]\u001b[A\n",
            " 37%|███▋      | 373/1000 [00:00<00:00, 1291.94it/s]\u001b[A\n",
            " 50%|█████     | 503/1000 [00:01<00:01, 281.51it/s] \u001b[A\n",
            " 64%|██████▍   | 641/1000 [00:01<00:00, 401.32it/s]\u001b[A\n",
            " 78%|███████▊  | 776/1000 [00:01<00:00, 529.19it/s]\u001b[A\n",
            "100%|██████████| 1000/1000 [00:01<00:00, 594.04it/s][A\n"
          ]
        },
        {
          "name": "stdout",
          "output_type": "stream",
          "text": [
            "Saving training triplets list in 'datasets/generated_triplets' directory ...\n",
            "Training triplets' list Saved!\n",
            "\n"
          ]
        },
        {
          "name": "stderr",
          "output_type": "stream",
          "text": [
            "100%|██████████| 1000/1000 [10:53<00:00,  1.53it/s]\n"
          ]
        },
        {
          "name": "stdout",
          "output_type": "stream",
          "text": [
            "--------Starting Validation on LFW dataset---------\n"
          ]
        },
        {
          "name": "stderr",
          "output_type": "stream",
          "text": [
            "100%|██████████| 57/57 [00:33<00:00,  1.70it/s]\n"
          ]
        },
        {
          "name": "stdout",
          "output_type": "stream",
          "text": [
            "Accuracy: 74.99 %\n",
            "\n",
            "Generating 24000 triplets ...\n"
          ]
        },
        {
          "name": "stderr",
          "output_type": "stream",
          "text": [
            "\n",
            "  0%|          | 0/1000 [00:00<?, ?it/s]\u001b[A\n",
            " 13%|█▎        | 133/1000 [00:00<00:00, 1322.96it/s]\u001b[A\n",
            " 27%|██▋       | 271/1000 [00:00<00:00, 1354.27it/s]\u001b[A\n",
            " 41%|████      | 407/1000 [00:00<00:00, 1356.51it/s]\u001b[A\n",
            " 55%|█████▌    | 551/1000 [00:00<00:00, 1387.50it/s]\u001b[A\n",
            " 69%|██████▉   | 694/1000 [00:00<00:00, 1400.08it/s]\u001b[A\n",
            " 84%|████████▎ | 835/1000 [00:00<00:00, 1384.55it/s]\u001b[A\n",
            "100%|██████████| 1000/1000 [00:00<00:00, 1385.27it/s][A\n"
          ]
        },
        {
          "name": "stdout",
          "output_type": "stream",
          "text": [
            "Saving training triplets list in 'datasets/generated_triplets' directory ...\n",
            "Training triplets' list Saved!\n",
            "\n"
          ]
        },
        {
          "name": "stderr",
          "output_type": "stream",
          "text": [
            "100%|██████████| 1000/1000 [11:11<00:00,  1.49it/s]\n"
          ]
        },
        {
          "name": "stdout",
          "output_type": "stream",
          "text": [
            "--------Starting Validation on LFW dataset---------\n"
          ]
        },
        {
          "name": "stderr",
          "output_type": "stream",
          "text": [
            "100%|██████████| 57/57 [00:33<00:00,  1.68it/s]\n"
          ]
        },
        {
          "name": "stdout",
          "output_type": "stream",
          "text": [
            "Accuracy: 78.82 %\n",
            "\n",
            "Generating 24000 triplets ...\n"
          ]
        },
        {
          "name": "stderr",
          "output_type": "stream",
          "text": [
            "\n",
            "  0%|          | 0/1000 [00:00<?, ?it/s]\u001b[A\n",
            " 13%|█▎        | 133/1000 [00:00<00:00, 1323.55it/s]\u001b[A\n",
            " 27%|██▋       | 267/1000 [00:00<00:00, 1333.03it/s]\u001b[A\n",
            " 40%|████      | 401/1000 [00:00<00:00, 1336.06it/s]\u001b[A\n",
            " 54%|█████▎    | 536/1000 [00:00<00:00, 1341.45it/s]\u001b[A\n",
            " 67%|██████▋   | 671/1000 [00:00<00:00, 1325.31it/s]\u001b[A\n",
            " 80%|████████  | 804/1000 [00:00<00:00, 1216.22it/s]\u001b[A\n",
            "100%|██████████| 1000/1000 [00:00<00:00, 1285.94it/s][A\n"
          ]
        },
        {
          "name": "stdout",
          "output_type": "stream",
          "text": [
            "Saving training triplets list in 'datasets/generated_triplets' directory ...\n",
            "Training triplets' list Saved!\n",
            "\n"
          ]
        },
        {
          "name": "stderr",
          "output_type": "stream",
          "text": [
            "100%|██████████| 1000/1000 [10:51<00:00,  1.54it/s]\n"
          ]
        },
        {
          "name": "stdout",
          "output_type": "stream",
          "text": [
            "--------Starting Validation on LFW dataset---------\n"
          ]
        },
        {
          "name": "stderr",
          "output_type": "stream",
          "text": [
            "100%|██████████| 57/57 [00:33<00:00,  1.69it/s]\n"
          ]
        },
        {
          "name": "stdout",
          "output_type": "stream",
          "text": [
            "Accuracy: 77.00 %\n",
            "\n",
            "Generating 24000 triplets ...\n"
          ]
        },
        {
          "name": "stderr",
          "output_type": "stream",
          "text": [
            "\n",
            "  0%|          | 0/1000 [00:00<?, ?it/s]\u001b[A\n",
            " 14%|█▍        | 144/1000 [00:00<00:00, 1439.69it/s]\u001b[A\n",
            " 29%|██▉       | 288/1000 [00:00<00:00, 1431.26it/s]\u001b[A\n",
            " 43%|████▎     | 433/1000 [00:00<00:00, 1437.09it/s]\u001b[A\n",
            " 58%|█████▊    | 580/1000 [00:00<00:00, 1449.91it/s]\u001b[A\n",
            " 72%|███████▎  | 725/1000 [00:00<00:00, 1449.82it/s]\u001b[A\n",
            "100%|██████████| 1000/1000 [00:00<00:00, 1452.34it/s][A\n"
          ]
        },
        {
          "name": "stdout",
          "output_type": "stream",
          "text": [
            "Saving training triplets list in 'datasets/generated_triplets' directory ...\n",
            "Training triplets' list Saved!\n",
            "\n"
          ]
        },
        {
          "name": "stderr",
          "output_type": "stream",
          "text": [
            "100%|██████████| 1000/1000 [10:52<00:00,  1.53it/s]\n"
          ]
        },
        {
          "name": "stdout",
          "output_type": "stream",
          "text": [
            "--------Starting Validation on LFW dataset---------\n"
          ]
        },
        {
          "name": "stderr",
          "output_type": "stream",
          "text": [
            "100%|██████████| 57/57 [00:33<00:00,  1.69it/s]\n"
          ]
        },
        {
          "name": "stdout",
          "output_type": "stream",
          "text": [
            "Accuracy: 78.80 %\n",
            "\n",
            "Generating 24000 triplets ...\n"
          ]
        },
        {
          "name": "stderr",
          "output_type": "stream",
          "text": [
            "\n",
            "  0%|          | 0/1000 [00:00<?, ?it/s]\u001b[A\n",
            " 14%|█▍        | 140/1000 [00:00<00:00, 1391.08it/s]\u001b[A\n",
            " 28%|██▊       | 280/1000 [00:00<00:00, 1371.98it/s]\u001b[A\n",
            " 42%|████▏     | 418/1000 [00:00<00:00, 1272.04it/s]\u001b[A\n",
            " 55%|█████▍    | 547/1000 [00:00<00:00, 1278.65it/s]\u001b[A\n",
            " 68%|██████▊   | 676/1000 [00:00<00:00, 1273.63it/s]\u001b[A\n",
            " 82%|████████▏ | 815/1000 [00:00<00:00, 1308.49it/s]\u001b[A\n",
            "100%|██████████| 1000/1000 [00:00<00:00, 1274.52it/s][A\n"
          ]
        },
        {
          "name": "stdout",
          "output_type": "stream",
          "text": [
            "Saving training triplets list in 'datasets/generated_triplets' directory ...\n",
            "Training triplets' list Saved!\n",
            "\n"
          ]
        },
        {
          "name": "stderr",
          "output_type": "stream",
          "text": [
            "100%|██████████| 1000/1000 [11:01<00:00,  1.51it/s]\n"
          ]
        },
        {
          "name": "stdout",
          "output_type": "stream",
          "text": [
            "--------Starting Validation on LFW dataset---------\n"
          ]
        },
        {
          "name": "stderr",
          "output_type": "stream",
          "text": [
            "100%|██████████| 57/57 [00:33<00:00,  1.68it/s]\n"
          ]
        },
        {
          "name": "stdout",
          "output_type": "stream",
          "text": [
            "Accuracy: 78.20 %\n",
            "\n",
            "Generating 24000 triplets ...\n"
          ]
        },
        {
          "name": "stderr",
          "output_type": "stream",
          "text": [
            "\n",
            "  0%|          | 0/1000 [00:00<?, ?it/s]\u001b[A\n",
            " 14%|█▎        | 136/1000 [00:00<00:00, 1351.69it/s]\u001b[A\n",
            " 28%|██▊       | 276/1000 [00:00<00:00, 1373.14it/s]\u001b[A\n",
            " 42%|████▏     | 416/1000 [00:00<00:00, 1382.70it/s]\u001b[A\n",
            " 56%|█████▌    | 557/1000 [00:00<00:00, 1391.29it/s]\u001b[A\n",
            " 70%|██████▉   | 699/1000 [00:00<00:00, 1399.10it/s]\u001b[A\n",
            " 84%|████████▍ | 840/1000 [00:00<00:00, 1399.72it/s]\u001b[A\n",
            "100%|██████████| 1000/1000 [00:01<00:00, 518.24it/s]\u001b[A\n"
          ]
        },
        {
          "name": "stdout",
          "output_type": "stream",
          "text": [
            "Saving training triplets list in 'datasets/generated_triplets' directory ...\n",
            "Training triplets' list Saved!\n",
            "\n"
          ]
        },
        {
          "name": "stderr",
          "output_type": "stream",
          "text": [
            "100%|██████████| 1000/1000 [10:44<00:00,  1.55it/s]\n"
          ]
        },
        {
          "name": "stdout",
          "output_type": "stream",
          "text": [
            "--------Starting Validation on LFW dataset---------\n"
          ]
        },
        {
          "name": "stderr",
          "output_type": "stream",
          "text": [
            "100%|██████████| 57/57 [00:33<00:00,  1.69it/s]\n"
          ]
        },
        {
          "name": "stdout",
          "output_type": "stream",
          "text": [
            "Accuracy: 78.43 %\n",
            "\n",
            "Generating 24000 triplets ...\n"
          ]
        },
        {
          "name": "stderr",
          "output_type": "stream",
          "text": [
            "\n",
            "  0%|          | 0/1000 [00:00<?, ?it/s]\u001b[A\n",
            " 14%|█▎        | 137/1000 [00:00<00:00, 1366.78it/s]\u001b[A\n",
            " 27%|██▋       | 274/1000 [00:00<00:00, 1307.04it/s]\u001b[A\n",
            " 40%|████      | 405/1000 [00:00<00:00, 1308.22it/s]\u001b[A\n",
            " 54%|█████▍    | 541/1000 [00:00<00:00, 1328.23it/s]\u001b[A\n",
            " 67%|██████▋   | 674/1000 [00:00<00:00, 1310.05it/s]\u001b[A\n",
            " 81%|████████  | 806/1000 [00:00<00:00, 1303.06it/s]\u001b[A\n",
            "100%|██████████| 1000/1000 [00:00<00:00, 1302.54it/s][A\n"
          ]
        },
        {
          "name": "stdout",
          "output_type": "stream",
          "text": [
            "Saving training triplets list in 'datasets/generated_triplets' directory ...\n",
            "Training triplets' list Saved!\n",
            "\n"
          ]
        },
        {
          "name": "stderr",
          "output_type": "stream",
          "text": [
            "100%|██████████| 1000/1000 [10:42<00:00,  1.56it/s]\n"
          ]
        },
        {
          "name": "stdout",
          "output_type": "stream",
          "text": [
            "--------Starting Validation on LFW dataset---------\n"
          ]
        },
        {
          "name": "stderr",
          "output_type": "stream",
          "text": [
            "100%|██████████| 57/57 [00:33<00:00,  1.68it/s]\n"
          ]
        },
        {
          "name": "stdout",
          "output_type": "stream",
          "text": [
            "Accuracy: 78.62 %\n",
            "\n",
            "Generating 24000 triplets ...\n"
          ]
        },
        {
          "name": "stderr",
          "output_type": "stream",
          "text": [
            "\n",
            "  0%|          | 0/1000 [00:00<?, ?it/s]\u001b[A\n",
            " 11%|█         | 110/1000 [00:00<00:00, 1099.75it/s]\u001b[A\n",
            " 25%|██▍       | 246/1000 [00:00<00:00, 1252.66it/s]\u001b[A\n",
            " 38%|███▊      | 376/1000 [00:00<00:00, 1274.14it/s]\u001b[A\n",
            " 50%|█████     | 504/1000 [00:00<00:00, 1261.40it/s]\u001b[A\n",
            " 63%|██████▎   | 631/1000 [00:00<00:00, 1259.87it/s]\u001b[A\n",
            " 76%|███████▋  | 765/1000 [00:00<00:00, 1286.81it/s]\u001b[A\n",
            "100%|██████████| 1000/1000 [00:00<00:00, 1298.41it/s][A\n"
          ]
        },
        {
          "name": "stdout",
          "output_type": "stream",
          "text": [
            "Saving training triplets list in 'datasets/generated_triplets' directory ...\n",
            "Training triplets' list Saved!\n",
            "\n"
          ]
        },
        {
          "name": "stderr",
          "output_type": "stream",
          "text": [
            "100%|██████████| 1000/1000 [10:41<00:00,  1.56it/s]\n"
          ]
        },
        {
          "name": "stdout",
          "output_type": "stream",
          "text": [
            "--------Starting Validation on LFW dataset---------\n"
          ]
        },
        {
          "name": "stderr",
          "output_type": "stream",
          "text": [
            "100%|██████████| 57/57 [00:33<00:00,  1.70it/s]\n"
          ]
        },
        {
          "name": "stdout",
          "output_type": "stream",
          "text": [
            "Accuracy: 79.61 %\n",
            "\n",
            "Generating 24000 triplets ...\n"
          ]
        },
        {
          "name": "stderr",
          "output_type": "stream",
          "text": [
            "\n",
            "  0%|          | 0/1000 [00:00<?, ?it/s]\u001b[A\n",
            " 14%|█▎        | 135/1000 [00:00<00:00, 1349.70it/s]\u001b[A\n",
            " 27%|██▋       | 270/1000 [00:00<00:00, 1311.14it/s]\u001b[A\n",
            " 41%|████      | 412/1000 [00:00<00:00, 1359.92it/s]\u001b[A\n",
            " 55%|█████▌    | 554/1000 [00:00<00:00, 1383.29it/s]\u001b[A\n",
            " 70%|██████▉   | 695/1000 [00:00<00:00, 1391.87it/s]\u001b[A\n",
            " 84%|████████▎ | 836/1000 [00:00<00:00, 1397.90it/s]\u001b[A\n",
            "100%|██████████| 1000/1000 [00:00<00:00, 1380.57it/s][A\n"
          ]
        },
        {
          "name": "stdout",
          "output_type": "stream",
          "text": [
            "Saving training triplets list in 'datasets/generated_triplets' directory ...\n",
            "Training triplets' list Saved!\n",
            "\n"
          ]
        },
        {
          "name": "stderr",
          "output_type": "stream",
          "text": [
            "100%|██████████| 1000/1000 [11:02<00:00,  1.51it/s]\n"
          ]
        },
        {
          "name": "stdout",
          "output_type": "stream",
          "text": [
            "--------Starting Validation on LFW dataset---------\n"
          ]
        },
        {
          "name": "stderr",
          "output_type": "stream",
          "text": [
            "100%|██████████| 57/57 [00:33<00:00,  1.70it/s]\n"
          ]
        },
        {
          "name": "stdout",
          "output_type": "stream",
          "text": [
            "Accuracy: 78.57 %\n",
            "\n",
            "Generating 24000 triplets ...\n"
          ]
        },
        {
          "name": "stderr",
          "output_type": "stream",
          "text": [
            "\n",
            "  0%|          | 0/1000 [00:00<?, ?it/s]\u001b[A\n",
            " 13%|█▎        | 128/1000 [00:00<00:00, 1279.71it/s]\u001b[A\n",
            " 27%|██▋       | 267/1000 [00:00<00:00, 1344.40it/s]\u001b[A\n",
            " 41%|████      | 411/1000 [00:00<00:00, 1382.23it/s]\u001b[A\n",
            " 56%|█████▌    | 557/1000 [00:00<00:00, 1411.82it/s]\u001b[A\n",
            " 70%|███████   | 703/1000 [00:00<00:00, 1424.03it/s]\u001b[A\n",
            " 85%|████████▍ | 846/1000 [00:00<00:00, 1424.09it/s]\u001b[A\n",
            "100%|██████████| 1000/1000 [00:00<00:00, 1405.86it/s][A\n"
          ]
        },
        {
          "name": "stdout",
          "output_type": "stream",
          "text": [
            "Saving training triplets list in 'datasets/generated_triplets' directory ...\n",
            "Training triplets' list Saved!\n",
            "\n"
          ]
        },
        {
          "name": "stderr",
          "output_type": "stream",
          "text": [
            "100%|██████████| 1000/1000 [10:59<00:00,  1.52it/s]\n"
          ]
        },
        {
          "name": "stdout",
          "output_type": "stream",
          "text": [
            "--------Starting Validation on LFW dataset---------\n"
          ]
        },
        {
          "name": "stderr",
          "output_type": "stream",
          "text": [
            "100%|██████████| 57/57 [00:34<00:00,  1.65it/s]\n"
          ]
        },
        {
          "name": "stdout",
          "output_type": "stream",
          "text": [
            "Accuracy: 78.69 %\n",
            "\n",
            "Generating 24000 triplets ...\n"
          ]
        },
        {
          "name": "stderr",
          "output_type": "stream",
          "text": [
            "\n",
            "  0%|          | 0/1000 [00:00<?, ?it/s]\u001b[A\n",
            " 13%|█▎        | 134/1000 [00:00<00:00, 1336.17it/s]\u001b[A\n",
            " 27%|██▋       | 269/1000 [00:00<00:00, 1343.58it/s]\u001b[A\n",
            " 40%|████      | 404/1000 [00:00<00:00, 1335.43it/s]\u001b[A\n",
            " 54%|█████▍    | 540/1000 [00:00<00:00, 1344.69it/s]\u001b[A\n",
            " 68%|██████▊   | 684/1000 [00:00<00:00, 1375.79it/s]\u001b[A\n",
            " 82%|████████▏ | 824/1000 [00:00<00:00, 1383.52it/s]\u001b[A\n",
            "100%|██████████| 1000/1000 [00:00<00:00, 1360.79it/s][A\n"
          ]
        },
        {
          "name": "stdout",
          "output_type": "stream",
          "text": [
            "Saving training triplets list in 'datasets/generated_triplets' directory ...\n",
            "Training triplets' list Saved!\n",
            "\n"
          ]
        },
        {
          "name": "stderr",
          "output_type": "stream",
          "text": [
            "100%|██████████| 1000/1000 [10:44<00:00,  1.55it/s]\n"
          ]
        },
        {
          "name": "stdout",
          "output_type": "stream",
          "text": [
            "--------Starting Validation on LFW dataset---------\n"
          ]
        },
        {
          "name": "stderr",
          "output_type": "stream",
          "text": [
            "100%|██████████| 57/57 [00:33<00:00,  1.73it/s]\n"
          ]
        },
        {
          "name": "stdout",
          "output_type": "stream",
          "text": [
            "Accuracy: 78.98 %\n",
            "\n",
            "Generating 24000 triplets ...\n"
          ]
        },
        {
          "name": "stderr",
          "output_type": "stream",
          "text": [
            "\n",
            "  0%|          | 0/1000 [00:00<?, ?it/s]\u001b[A\n",
            " 14%|█▎        | 135/1000 [00:00<00:00, 1338.10it/s]\u001b[A\n",
            " 28%|██▊       | 277/1000 [00:00<00:00, 1385.13it/s]\u001b[A\n",
            " 42%|████▏     | 417/1000 [00:00<00:00, 1389.12it/s]\u001b[A\n",
            " 56%|█████▌    | 556/1000 [00:01<00:01, 284.38it/s] \u001b[A\n",
            " 70%|██████▉   | 696/1000 [00:01<00:00, 399.54it/s]\u001b[A\n",
            " 84%|████████▍ | 839/1000 [00:01<00:00, 531.52it/s]\u001b[A\n",
            "100%|██████████| 1000/1000 [00:01<00:00, 581.02it/s][A\n"
          ]
        },
        {
          "name": "stdout",
          "output_type": "stream",
          "text": [
            "Saving training triplets list in 'datasets/generated_triplets' directory ...\n",
            "Training triplets' list Saved!\n",
            "\n"
          ]
        },
        {
          "name": "stderr",
          "output_type": "stream",
          "text": [
            "100%|██████████| 1000/1000 [10:44<00:00,  1.55it/s]\n"
          ]
        },
        {
          "name": "stdout",
          "output_type": "stream",
          "text": [
            "--------Starting Validation on LFW dataset---------\n"
          ]
        },
        {
          "name": "stderr",
          "output_type": "stream",
          "text": [
            "100%|██████████| 57/57 [00:33<00:00,  1.72it/s]\n"
          ]
        },
        {
          "name": "stdout",
          "output_type": "stream",
          "text": [
            "Accuracy: 78.92 %\n",
            "\n",
            "Generating 24000 triplets ...\n"
          ]
        },
        {
          "name": "stderr",
          "output_type": "stream",
          "text": [
            "\n",
            "  0%|          | 0/1000 [00:00<?, ?it/s]\u001b[A\n",
            " 13%|█▎        | 129/1000 [00:00<00:00, 1289.72it/s]\u001b[A\n",
            " 27%|██▋       | 268/1000 [00:00<00:00, 1342.99it/s]\u001b[A\n",
            " 41%|████      | 409/1000 [00:00<00:00, 1373.37it/s]\u001b[A\n",
            " 55%|█████▌    | 552/1000 [00:00<00:00, 1395.57it/s]\u001b[A\n",
            " 69%|██████▉   | 692/1000 [00:00<00:00, 1392.04it/s]\u001b[A\n",
            " 83%|████████▎ | 832/1000 [00:00<00:00, 1322.88it/s]\u001b[A\n",
            "100%|██████████| 1000/1000 [00:00<00:00, 1317.75it/s][A\n"
          ]
        },
        {
          "name": "stdout",
          "output_type": "stream",
          "text": [
            "Saving training triplets list in 'datasets/generated_triplets' directory ...\n",
            "Training triplets' list Saved!\n",
            "\n"
          ]
        },
        {
          "name": "stderr",
          "output_type": "stream",
          "text": [
            "100%|██████████| 1000/1000 [10:44<00:00,  1.55it/s]\n"
          ]
        },
        {
          "name": "stdout",
          "output_type": "stream",
          "text": [
            "--------Starting Validation on LFW dataset---------\n"
          ]
        },
        {
          "name": "stderr",
          "output_type": "stream",
          "text": [
            "100%|██████████| 57/57 [00:33<00:00,  1.68it/s]\n"
          ]
        },
        {
          "name": "stdout",
          "output_type": "stream",
          "text": [
            "Accuracy: 79.72 %\n",
            "\n",
            "Generating 24000 triplets ...\n"
          ]
        },
        {
          "name": "stderr",
          "output_type": "stream",
          "text": [
            "\n",
            "  0%|          | 0/1000 [00:00<?, ?it/s]\u001b[A\n",
            " 14%|█▍        | 140/1000 [00:00<00:00, 1398.39it/s]\u001b[A\n",
            " 28%|██▊       | 280/1000 [00:00<00:00, 1336.29it/s]\u001b[A\n",
            " 41%|████▏     | 414/1000 [00:00<00:00, 1331.87it/s]\u001b[A\n",
            " 55%|█████▌    | 550/1000 [00:00<00:00, 1342.66it/s]\u001b[A\n",
            " 70%|██████▉   | 695/1000 [00:00<00:00, 1380.80it/s]\u001b[A\n",
            " 84%|████████▍ | 838/1000 [00:00<00:00, 1397.30it/s]\u001b[A\n",
            "100%|██████████| 1000/1000 [00:00<00:00, 1382.64it/s][A\n"
          ]
        },
        {
          "name": "stdout",
          "output_type": "stream",
          "text": [
            "Saving training triplets list in 'datasets/generated_triplets' directory ...\n",
            "Training triplets' list Saved!\n",
            "\n"
          ]
        },
        {
          "name": "stderr",
          "output_type": "stream",
          "text": [
            "100%|██████████| 1000/1000 [10:42<00:00,  1.56it/s]\n"
          ]
        },
        {
          "name": "stdout",
          "output_type": "stream",
          "text": [
            "--------Starting Validation on LFW dataset---------\n"
          ]
        },
        {
          "name": "stderr",
          "output_type": "stream",
          "text": [
            "100%|██████████| 57/57 [00:33<00:00,  1.71it/s]\n"
          ]
        },
        {
          "name": "stdout",
          "output_type": "stream",
          "text": [
            "Accuracy: 78.32 %\n",
            "\n",
            "Generating 24000 triplets ...\n"
          ]
        },
        {
          "name": "stderr",
          "output_type": "stream",
          "text": [
            "\n",
            "  0%|          | 0/1000 [00:00<?, ?it/s]\u001b[A\n",
            " 14%|█▍        | 138/1000 [00:00<00:00, 1379.70it/s]\u001b[A\n",
            " 28%|██▊       | 279/1000 [00:00<00:00, 1397.34it/s]\u001b[A\n",
            " 42%|████▏     | 420/1000 [00:00<00:00, 1402.97it/s]\u001b[A\n",
            " 56%|█████▋    | 564/1000 [00:00<00:00, 1417.47it/s]\u001b[A\n",
            " 71%|███████   | 708/1000 [00:00<00:00, 1421.43it/s]\u001b[A\n",
            " 85%|████████▌ | 854/1000 [00:00<00:00, 1434.41it/s]\u001b[A\n",
            "100%|██████████| 1000/1000 [00:00<00:00, 1422.58it/s][A\n"
          ]
        },
        {
          "name": "stdout",
          "output_type": "stream",
          "text": [
            "Saving training triplets list in 'datasets/generated_triplets' directory ...\n",
            "Training triplets' list Saved!\n",
            "\n"
          ]
        },
        {
          "name": "stderr",
          "output_type": "stream",
          "text": [
            "100%|██████████| 1000/1000 [10:41<00:00,  1.56it/s]\n"
          ]
        },
        {
          "name": "stdout",
          "output_type": "stream",
          "text": [
            "--------Starting Validation on LFW dataset---------\n"
          ]
        },
        {
          "name": "stderr",
          "output_type": "stream",
          "text": [
            "100%|██████████| 57/57 [00:33<00:00,  1.69it/s]\n"
          ]
        },
        {
          "name": "stdout",
          "output_type": "stream",
          "text": [
            "Accuracy: 78.36 %\n",
            "\n",
            "Generating 24000 triplets ...\n"
          ]
        },
        {
          "name": "stderr",
          "output_type": "stream",
          "text": [
            "\n",
            "  0%|          | 0/1000 [00:00<?, ?it/s]\u001b[A\n",
            " 13%|█▎        | 133/1000 [00:00<00:00, 1329.69it/s]\u001b[A\n",
            " 27%|██▋       | 272/1000 [00:00<00:00, 1364.98it/s]\u001b[A\n",
            " 42%|████▏     | 416/1000 [00:00<00:00, 1395.70it/s]\u001b[A\n",
            " 56%|█████▋    | 565/1000 [00:00<00:00, 1432.75it/s]\u001b[A\n",
            " 71%|███████   | 709/1000 [00:00<00:00, 1430.06it/s]\u001b[A\n",
            "100%|██████████| 1000/1000 [00:00<00:00, 1429.19it/s][A\n"
          ]
        },
        {
          "name": "stdout",
          "output_type": "stream",
          "text": [
            "Saving training triplets list in 'datasets/generated_triplets' directory ...\n",
            "Training triplets' list Saved!\n",
            "\n"
          ]
        },
        {
          "name": "stderr",
          "output_type": "stream",
          "text": [
            "100%|██████████| 1000/1000 [10:40<00:00,  1.56it/s]\n"
          ]
        },
        {
          "name": "stdout",
          "output_type": "stream",
          "text": [
            "--------Starting Validation on LFW dataset---------\n"
          ]
        },
        {
          "name": "stderr",
          "output_type": "stream",
          "text": [
            "100%|██████████| 57/57 [00:33<00:00,  1.72it/s]\n"
          ]
        },
        {
          "name": "stdout",
          "output_type": "stream",
          "text": [
            "Accuracy: 78.75 %\n",
            "\n",
            "Generating 24000 triplets ...\n"
          ]
        },
        {
          "name": "stderr",
          "output_type": "stream",
          "text": [
            "\n",
            "  0%|          | 0/1000 [00:00<?, ?it/s]\u001b[A\n",
            " 14%|█▍        | 140/1000 [00:00<00:00, 1388.71it/s]\u001b[A\n",
            " 28%|██▊       | 283/1000 [00:00<00:00, 1412.73it/s]\u001b[A\n",
            " 43%|████▎     | 433/1000 [00:00<00:00, 1452.36it/s]\u001b[A\n",
            " 58%|█████▊    | 579/1000 [00:00<00:00, 1449.53it/s]\u001b[A\n",
            " 73%|███████▎  | 731/1000 [00:00<00:00, 1474.73it/s]\u001b[A\n",
            "100%|██████████| 1000/1000 [00:01<00:00, 635.82it/s]\u001b[A\n"
          ]
        },
        {
          "name": "stdout",
          "output_type": "stream",
          "text": [
            "Saving training triplets list in 'datasets/generated_triplets' directory ...\n",
            "Training triplets' list Saved!\n",
            "\n"
          ]
        },
        {
          "name": "stderr",
          "output_type": "stream",
          "text": [
            "100%|██████████| 1000/1000 [10:38<00:00,  1.57it/s]\n"
          ]
        },
        {
          "name": "stdout",
          "output_type": "stream",
          "text": [
            "--------Starting Validation on LFW dataset---------\n"
          ]
        },
        {
          "name": "stderr",
          "output_type": "stream",
          "text": [
            "100%|██████████| 57/57 [00:33<00:00,  1.69it/s]\n"
          ]
        },
        {
          "name": "stdout",
          "output_type": "stream",
          "text": [
            "Accuracy: 79.29 %\n",
            "\n",
            "Generating 24000 triplets ...\n"
          ]
        },
        {
          "name": "stderr",
          "output_type": "stream",
          "text": [
            "\n",
            "  0%|          | 0/1000 [00:00<?, ?it/s]\u001b[A\n",
            " 14%|█▍        | 142/1000 [00:00<00:00, 1410.62it/s]\u001b[A\n",
            " 29%|██▉       | 288/1000 [00:00<00:00, 1439.40it/s]\u001b[A\n",
            " 43%|████▎     | 432/1000 [00:00<00:00, 1439.52it/s]\u001b[A\n",
            " 58%|█████▊    | 578/1000 [00:00<00:00, 1447.47it/s]\u001b[A\n",
            " 72%|███████▏  | 724/1000 [00:00<00:00, 1451.87it/s]\u001b[A\n",
            "100%|██████████| 1000/1000 [00:00<00:00, 1449.70it/s][A\n"
          ]
        },
        {
          "name": "stdout",
          "output_type": "stream",
          "text": [
            "Saving training triplets list in 'datasets/generated_triplets' directory ...\n",
            "Training triplets' list Saved!\n",
            "\n"
          ]
        },
        {
          "name": "stderr",
          "output_type": "stream",
          "text": [
            "100%|██████████| 1000/1000 [10:43<00:00,  1.56it/s]\n"
          ]
        },
        {
          "name": "stdout",
          "output_type": "stream",
          "text": [
            "--------Starting Validation on LFW dataset---------\n"
          ]
        },
        {
          "name": "stderr",
          "output_type": "stream",
          "text": [
            "100%|██████████| 57/57 [00:33<00:00,  1.70it/s]\n"
          ]
        },
        {
          "name": "stdout",
          "output_type": "stream",
          "text": [
            "Accuracy: 79.01 %\n",
            "\n",
            "Generating 24000 triplets ...\n"
          ]
        },
        {
          "name": "stderr",
          "output_type": "stream",
          "text": [
            "\n",
            "  0%|          | 0/1000 [00:00<?, ?it/s]\u001b[A\n",
            " 13%|█▎        | 134/1000 [00:00<00:00, 1339.70it/s]\u001b[A\n",
            " 27%|██▋       | 270/1000 [00:00<00:00, 1351.46it/s]\u001b[A\n",
            " 41%|████      | 409/1000 [00:00<00:00, 1368.82it/s]\u001b[A\n",
            " 55%|█████▌    | 553/1000 [00:00<00:00, 1396.79it/s]\u001b[A\n",
            " 70%|██████▉   | 696/1000 [00:00<00:00, 1408.65it/s]\u001b[A\n",
            " 84%|████████▎ | 837/1000 [00:00<00:00, 1402.45it/s]\u001b[A\n",
            "100%|██████████| 1000/1000 [00:00<00:00, 1395.58it/s][A\n"
          ]
        },
        {
          "name": "stdout",
          "output_type": "stream",
          "text": [
            "Saving training triplets list in 'datasets/generated_triplets' directory ...\n",
            "Training triplets' list Saved!\n",
            "\n"
          ]
        },
        {
          "name": "stderr",
          "output_type": "stream",
          "text": [
            "100%|██████████| 1000/1000 [10:44<00:00,  1.55it/s]\n"
          ]
        },
        {
          "name": "stdout",
          "output_type": "stream",
          "text": [
            "--------Starting Validation on LFW dataset---------\n"
          ]
        },
        {
          "name": "stderr",
          "output_type": "stream",
          "text": [
            "100%|██████████| 57/57 [00:34<00:00,  1.67it/s]\n"
          ]
        },
        {
          "name": "stdout",
          "output_type": "stream",
          "text": [
            "Accuracy: 78.84 %\n",
            "\n",
            "Generating 24000 triplets ...\n"
          ]
        },
        {
          "name": "stderr",
          "output_type": "stream",
          "text": [
            "\n",
            "  0%|          | 0/1000 [00:00<?, ?it/s]\u001b[A\n",
            " 14%|█▍        | 138/1000 [00:00<00:00, 1379.72it/s]\u001b[A\n",
            " 28%|██▊       | 282/1000 [00:00<00:00, 1414.96it/s]\u001b[A\n",
            " 43%|████▎     | 426/1000 [00:00<00:00, 1426.26it/s]\u001b[A\n",
            " 57%|█████▋    | 571/1000 [00:00<00:00, 1435.51it/s]\u001b[A\n",
            " 72%|███████▏  | 715/1000 [00:00<00:00, 1437.01it/s]\u001b[A\n",
            "100%|██████████| 1000/1000 [00:00<00:00, 1440.60it/s][A\n"
          ]
        },
        {
          "name": "stdout",
          "output_type": "stream",
          "text": [
            "Saving training triplets list in 'datasets/generated_triplets' directory ...\n",
            "Training triplets' list Saved!\n",
            "\n"
          ]
        },
        {
          "name": "stderr",
          "output_type": "stream",
          "text": [
            "100%|██████████| 1000/1000 [10:42<00:00,  1.56it/s]\n"
          ]
        },
        {
          "name": "stdout",
          "output_type": "stream",
          "text": [
            "--------Starting Validation on LFW dataset---------\n"
          ]
        },
        {
          "name": "stderr",
          "output_type": "stream",
          "text": [
            "100%|██████████| 57/57 [00:34<00:00,  1.64it/s]\n"
          ]
        },
        {
          "name": "stdout",
          "output_type": "stream",
          "text": [
            "Accuracy: 79.29 %\n",
            "\n",
            "Generating 24000 triplets ...\n"
          ]
        },
        {
          "name": "stderr",
          "output_type": "stream",
          "text": [
            "\n",
            "  0%|          | 0/1000 [00:00<?, ?it/s]\u001b[A\n",
            " 15%|█▍        | 149/1000 [00:00<00:00, 1489.27it/s]\u001b[A\n",
            " 30%|██▉       | 299/1000 [00:00<00:00, 1495.37it/s]\u001b[A\n",
            " 45%|████▍     | 449/1000 [00:00<00:00, 1477.10it/s]\u001b[A\n",
            " 60%|█████▉    | 599/1000 [00:00<00:00, 1485.94it/s]\u001b[A\n",
            " 75%|███████▍  | 748/1000 [00:00<00:00, 1481.96it/s]\u001b[A\n",
            "100%|██████████| 1000/1000 [00:00<00:00, 1481.09it/s][A\n"
          ]
        },
        {
          "name": "stdout",
          "output_type": "stream",
          "text": [
            "Saving training triplets list in 'datasets/generated_triplets' directory ...\n",
            "Training triplets' list Saved!\n",
            "\n"
          ]
        },
        {
          "name": "stderr",
          "output_type": "stream",
          "text": [
            "100%|██████████| 1000/1000 [10:42<00:00,  1.56it/s]\n"
          ]
        },
        {
          "name": "stdout",
          "output_type": "stream",
          "text": [
            "--------Starting Validation on LFW dataset---------\n"
          ]
        },
        {
          "name": "stderr",
          "output_type": "stream",
          "text": [
            "100%|██████████| 57/57 [00:33<00:00,  1.69it/s]\n"
          ]
        },
        {
          "name": "stdout",
          "output_type": "stream",
          "text": [
            "Accuracy: 79.38 %\n",
            "\n",
            "Generating 24000 triplets ...\n"
          ]
        },
        {
          "name": "stderr",
          "output_type": "stream",
          "text": [
            "\n",
            "  0%|          | 0/1000 [00:00<?, ?it/s]\u001b[A\n",
            " 12%|█▏        | 117/1000 [00:00<00:00, 1169.73it/s]\u001b[A\n",
            " 26%|██▌       | 256/1000 [00:00<00:00, 1299.12it/s]\u001b[A\n",
            " 40%|███▉      | 398/1000 [00:00<00:00, 1348.64it/s]\u001b[A\n",
            " 54%|█████▍    | 542/1000 [00:00<00:00, 1384.48it/s]\u001b[A\n",
            " 68%|██████▊   | 681/1000 [00:00<00:00, 1381.38it/s]\u001b[A\n",
            " 82%|████████▏ | 821/1000 [00:00<00:00, 1387.59it/s]\u001b[A\n",
            "100%|██████████| 1000/1000 [00:00<00:00, 1366.00it/s][A\n"
          ]
        },
        {
          "name": "stdout",
          "output_type": "stream",
          "text": [
            "Saving training triplets list in 'datasets/generated_triplets' directory ...\n",
            "Training triplets' list Saved!\n",
            "\n"
          ]
        },
        {
          "name": "stderr",
          "output_type": "stream",
          "text": [
            "100%|██████████| 1000/1000 [10:54<00:00,  1.53it/s]\n"
          ]
        },
        {
          "name": "stdout",
          "output_type": "stream",
          "text": [
            "--------Starting Validation on LFW dataset---------\n"
          ]
        },
        {
          "name": "stderr",
          "output_type": "stream",
          "text": [
            "100%|██████████| 57/57 [00:34<00:00,  1.63it/s]\n"
          ]
        },
        {
          "name": "stdout",
          "output_type": "stream",
          "text": [
            "Accuracy: 79.82 %\n",
            "\n",
            "Generating 24000 triplets ...\n"
          ]
        },
        {
          "name": "stderr",
          "output_type": "stream",
          "text": [
            "\n",
            "  0%|          | 0/1000 [00:00<?, ?it/s]\u001b[A\n",
            " 12%|█▏        | 120/1000 [00:00<00:00, 1197.91it/s]\u001b[A\n",
            " 26%|██▌       | 256/1000 [00:00<00:00, 1289.05it/s]\u001b[A\n",
            " 40%|███▉      | 395/1000 [00:00<00:00, 1333.32it/s]\u001b[A\n",
            " 53%|█████▎    | 529/1000 [00:01<00:02, 219.44it/s] \u001b[A\n",
            " 63%|██████▎   | 634/1000 [00:01<00:01, 289.72it/s]\u001b[A\n",
            " 76%|███████▌  | 757/1000 [00:01<00:00, 391.13it/s]\u001b[A\n",
            "100%|██████████| 1000/1000 [00:02<00:00, 482.27it/s][A\n"
          ]
        },
        {
          "name": "stdout",
          "output_type": "stream",
          "text": [
            "Saving training triplets list in 'datasets/generated_triplets' directory ...\n",
            "Training triplets' list Saved!\n",
            "\n"
          ]
        },
        {
          "name": "stderr",
          "output_type": "stream",
          "text": [
            "100%|██████████| 1000/1000 [10:44<00:00,  1.55it/s]\n"
          ]
        },
        {
          "name": "stdout",
          "output_type": "stream",
          "text": [
            "--------Starting Validation on LFW dataset---------\n"
          ]
        },
        {
          "name": "stderr",
          "output_type": "stream",
          "text": [
            "100%|██████████| 57/57 [00:33<00:00,  1.70it/s]\n"
          ]
        },
        {
          "name": "stdout",
          "output_type": "stream",
          "text": [
            "Accuracy: 78.94 %\n",
            "\n",
            "Generating 24000 triplets ...\n"
          ]
        },
        {
          "name": "stderr",
          "output_type": "stream",
          "text": [
            "\n",
            "  0%|          | 0/1000 [00:00<?, ?it/s]\u001b[A\n",
            " 14%|█▍        | 145/1000 [00:00<00:00, 1442.90it/s]\u001b[A\n",
            " 29%|██▉       | 291/1000 [00:00<00:00, 1452.75it/s]\u001b[A\n",
            " 44%|████▎     | 437/1000 [00:00<00:00, 1442.74it/s]\u001b[A\n",
            " 58%|█████▊    | 584/1000 [00:00<00:00, 1453.31it/s]\u001b[A\n",
            " 73%|███████▎  | 730/1000 [00:00<00:00, 1410.01it/s]\u001b[A\n",
            "100%|██████████| 1000/1000 [00:00<00:00, 1427.29it/s][A\n"
          ]
        },
        {
          "name": "stdout",
          "output_type": "stream",
          "text": [
            "Saving training triplets list in 'datasets/generated_triplets' directory ...\n",
            "Training triplets' list Saved!\n",
            "\n"
          ]
        },
        {
          "name": "stderr",
          "output_type": "stream",
          "text": [
            "100%|██████████| 1000/1000 [11:19<00:00,  1.47it/s]\n"
          ]
        },
        {
          "name": "stdout",
          "output_type": "stream",
          "text": [
            "--------Starting Validation on LFW dataset---------\n"
          ]
        },
        {
          "name": "stderr",
          "output_type": "stream",
          "text": [
            "100%|██████████| 57/57 [00:35<00:00,  1.59it/s]\n"
          ]
        },
        {
          "name": "stdout",
          "output_type": "stream",
          "text": [
            "Accuracy: 79.89 %\n",
            "\n",
            "Generating 24000 triplets ...\n"
          ]
        },
        {
          "name": "stderr",
          "output_type": "stream",
          "text": [
            "\n",
            "  0%|          | 0/1000 [00:00<?, ?it/s]\u001b[A\n",
            " 13%|█▎        | 126/1000 [00:00<00:00, 1259.71it/s]\u001b[A\n",
            " 26%|██▌       | 261/1000 [00:00<00:00, 1312.64it/s]\u001b[A\n",
            " 40%|████      | 403/1000 [00:00<00:00, 1361.52it/s]\u001b[A\n",
            " 54%|█████▍    | 543/1000 [00:00<00:00, 1371.95it/s]\u001b[A\n",
            " 68%|██████▊   | 684/1000 [00:00<00:00, 1380.80it/s]\u001b[A\n",
            " 82%|████████▏ | 823/1000 [00:00<00:00, 1379.14it/s]\u001b[A\n",
            "100%|██████████| 1000/1000 [00:00<00:00, 1361.03it/s][A\n"
          ]
        },
        {
          "name": "stdout",
          "output_type": "stream",
          "text": [
            "Saving training triplets list in 'datasets/generated_triplets' directory ...\n",
            "Training triplets' list Saved!\n",
            "\n"
          ]
        },
        {
          "name": "stderr",
          "output_type": "stream",
          "text": [
            "100%|██████████| 1000/1000 [10:55<00:00,  1.53it/s]\n"
          ]
        },
        {
          "name": "stdout",
          "output_type": "stream",
          "text": [
            "--------Starting Validation on LFW dataset---------\n"
          ]
        },
        {
          "name": "stderr",
          "output_type": "stream",
          "text": [
            "100%|██████████| 57/57 [00:35<00:00,  1.61it/s]\n"
          ]
        },
        {
          "name": "stdout",
          "output_type": "stream",
          "text": [
            "Accuracy: 79.89 %\n",
            "\n",
            "Generating 24000 triplets ...\n"
          ]
        },
        {
          "name": "stderr",
          "output_type": "stream",
          "text": [
            "\n",
            "  0%|          | 0/1000 [00:00<?, ?it/s]\u001b[A\n",
            " 13%|█▎        | 134/1000 [00:00<00:00, 1339.70it/s]\u001b[A\n",
            " 27%|██▋       | 268/1000 [00:00<00:00, 1331.86it/s]\u001b[A\n",
            " 40%|████      | 405/1000 [00:00<00:00, 1349.08it/s]\u001b[A\n",
            " 54%|█████▍    | 540/1000 [00:00<00:00, 1349.07it/s]\u001b[A\n",
            " 68%|██████▊   | 675/1000 [00:00<00:00, 1316.12it/s]\u001b[A\n",
            " 81%|████████  | 807/1000 [00:00<00:00, 1308.57it/s]\u001b[A\n",
            "100%|██████████| 1000/1000 [00:00<00:00, 1319.12it/s][A\n"
          ]
        },
        {
          "name": "stdout",
          "output_type": "stream",
          "text": [
            "Saving training triplets list in 'datasets/generated_triplets' directory ...\n",
            "Training triplets' list Saved!\n",
            "\n"
          ]
        },
        {
          "name": "stderr",
          "output_type": "stream",
          "text": [
            "100%|██████████| 1000/1000 [10:42<00:00,  1.56it/s]\n"
          ]
        },
        {
          "name": "stdout",
          "output_type": "stream",
          "text": [
            "--------Starting Validation on LFW dataset---------\n"
          ]
        },
        {
          "name": "stderr",
          "output_type": "stream",
          "text": [
            "100%|██████████| 57/57 [00:33<00:00,  1.69it/s]\n"
          ]
        },
        {
          "name": "stdout",
          "output_type": "stream",
          "text": [
            "Accuracy: 79.14 %\n",
            "\n",
            "Generating 24000 triplets ...\n"
          ]
        },
        {
          "name": "stderr",
          "output_type": "stream",
          "text": [
            "\n",
            "  0%|          | 0/1000 [00:00<?, ?it/s]\u001b[A\n",
            " 14%|█▎        | 136/1000 [00:00<00:00, 1349.18it/s]\u001b[A\n",
            " 28%|██▊       | 279/1000 [00:00<00:00, 1391.26it/s]\u001b[A\n",
            " 42%|████▏     | 419/1000 [00:00<00:00, 1358.03it/s]\u001b[A\n",
            " 56%|█████▌    | 559/1000 [00:00<00:00, 1370.54it/s]\u001b[A\n",
            " 70%|██████▉   | 698/1000 [00:00<00:00, 1377.35it/s]\u001b[A\n",
            " 84%|████████▍ | 843/1000 [00:00<00:00, 1397.87it/s]\u001b[A\n",
            "100%|██████████| 1000/1000 [00:00<00:00, 1371.97it/s][A\n"
          ]
        },
        {
          "name": "stdout",
          "output_type": "stream",
          "text": [
            "Saving training triplets list in 'datasets/generated_triplets' directory ...\n",
            "Training triplets' list Saved!\n",
            "\n"
          ]
        },
        {
          "name": "stderr",
          "output_type": "stream",
          "text": [
            "100%|██████████| 1000/1000 [10:40<00:00,  1.56it/s]\n"
          ]
        },
        {
          "name": "stdout",
          "output_type": "stream",
          "text": [
            "--------Starting Validation on LFW dataset---------\n"
          ]
        },
        {
          "name": "stderr",
          "output_type": "stream",
          "text": [
            "100%|██████████| 57/57 [00:33<00:00,  1.71it/s]\n"
          ]
        },
        {
          "name": "stdout",
          "output_type": "stream",
          "text": [
            "Accuracy: 78.98 %\n",
            "\n",
            "Generating 24000 triplets ...\n"
          ]
        },
        {
          "name": "stderr",
          "output_type": "stream",
          "text": [
            "\n",
            "  0%|          | 0/1000 [00:00<?, ?it/s]\u001b[A\n",
            " 15%|█▌        | 152/1000 [00:00<00:00, 1519.67it/s]\u001b[A\n",
            " 30%|███       | 304/1000 [00:00<00:00, 1476.23it/s]\u001b[A\n",
            " 45%|████▌     | 452/1000 [00:00<00:00, 1477.78it/s]\u001b[A\n",
            " 60%|██████    | 600/1000 [00:00<00:00, 1450.16it/s]\u001b[A\n",
            " 75%|███████▍  | 746/1000 [00:00<00:00, 1453.53it/s]\u001b[A\n",
            "100%|██████████| 1000/1000 [00:01<00:00, 576.04it/s]\u001b[A\n"
          ]
        },
        {
          "name": "stdout",
          "output_type": "stream",
          "text": [
            "Saving training triplets list in 'datasets/generated_triplets' directory ...\n",
            "Training triplets' list Saved!\n",
            "\n"
          ]
        },
        {
          "name": "stderr",
          "output_type": "stream",
          "text": [
            "100%|██████████| 1000/1000 [10:40<00:00,  1.56it/s]\n"
          ]
        },
        {
          "name": "stdout",
          "output_type": "stream",
          "text": [
            "--------Starting Validation on LFW dataset---------\n"
          ]
        },
        {
          "name": "stderr",
          "output_type": "stream",
          "text": [
            "100%|██████████| 57/57 [00:33<00:00,  1.70it/s]\n"
          ]
        },
        {
          "name": "stdout",
          "output_type": "stream",
          "text": [
            "Accuracy: 79.14 %\n",
            "\n",
            "Generating 24000 triplets ...\n"
          ]
        },
        {
          "name": "stderr",
          "output_type": "stream",
          "text": [
            "\n",
            "  0%|          | 0/1000 [00:00<?, ?it/s]\u001b[A\n",
            " 14%|█▍        | 139/1000 [00:00<00:00, 1389.69it/s]\u001b[A\n",
            " 29%|██▊       | 287/1000 [00:00<00:00, 1442.62it/s]\u001b[A\n",
            " 43%|████▎     | 434/1000 [00:00<00:00, 1454.97it/s]\u001b[A\n",
            " 58%|█████▊    | 580/1000 [00:00<00:00, 1451.09it/s]\u001b[A\n",
            " 73%|███████▎  | 726/1000 [00:00<00:00, 1454.18it/s]\u001b[A\n",
            "100%|██████████| 1000/1000 [00:00<00:00, 1433.40it/s][A\n"
          ]
        },
        {
          "name": "stdout",
          "output_type": "stream",
          "text": [
            "Saving training triplets list in 'datasets/generated_triplets' directory ...\n",
            "Training triplets' list Saved!\n",
            "\n"
          ]
        },
        {
          "name": "stderr",
          "output_type": "stream",
          "text": [
            "100%|██████████| 1000/1000 [10:41<00:00,  1.56it/s]\n"
          ]
        },
        {
          "name": "stdout",
          "output_type": "stream",
          "text": [
            "--------Starting Validation on LFW dataset---------\n"
          ]
        },
        {
          "name": "stderr",
          "output_type": "stream",
          "text": [
            "100%|██████████| 57/57 [00:33<00:00,  1.69it/s]\n"
          ]
        },
        {
          "name": "stdout",
          "output_type": "stream",
          "text": [
            "Accuracy: 79.56 %\n",
            "\n",
            "Generating 24000 triplets ...\n"
          ]
        },
        {
          "name": "stderr",
          "output_type": "stream",
          "text": [
            "\n",
            "  0%|          | 0/1000 [00:00<?, ?it/s]\u001b[A\n",
            " 14%|█▍        | 145/1000 [00:00<00:00, 1449.67it/s]\u001b[A\n",
            " 29%|██▉       | 293/1000 [00:00<00:00, 1467.32it/s]\u001b[A\n",
            " 44%|████▍     | 440/1000 [00:00<00:00, 1461.72it/s]\u001b[A\n",
            " 59%|█████▉    | 590/1000 [00:00<00:00, 1476.65it/s]\u001b[A\n",
            " 74%|███████▍  | 740/1000 [00:00<00:00, 1484.93it/s]\u001b[A\n",
            "100%|██████████| 1000/1000 [00:00<00:00, 1474.59it/s][A\n"
          ]
        },
        {
          "name": "stdout",
          "output_type": "stream",
          "text": [
            "Saving training triplets list in 'datasets/generated_triplets' directory ...\n",
            "Training triplets' list Saved!\n",
            "\n"
          ]
        },
        {
          "name": "stderr",
          "output_type": "stream",
          "text": [
            "100%|██████████| 1000/1000 [10:44<00:00,  1.55it/s]\n"
          ]
        },
        {
          "name": "stdout",
          "output_type": "stream",
          "text": [
            "--------Starting Validation on LFW dataset---------\n"
          ]
        },
        {
          "name": "stderr",
          "output_type": "stream",
          "text": [
            "100%|██████████| 57/57 [00:33<00:00,  1.70it/s]\n"
          ]
        },
        {
          "name": "stdout",
          "output_type": "stream",
          "text": [
            "Accuracy: 79.86 %\n",
            "\n",
            "Generating 24000 triplets ...\n"
          ]
        },
        {
          "name": "stderr",
          "output_type": "stream",
          "text": [
            "\n",
            "  0%|          | 0/1000 [00:00<?, ?it/s]\u001b[A\n",
            " 15%|█▌        | 151/1000 [00:00<00:00, 1505.01it/s]\u001b[A\n",
            " 30%|███       | 302/1000 [00:00<00:00, 1498.93it/s]\u001b[A\n",
            " 45%|████▌     | 452/1000 [00:00<00:00, 1485.75it/s]\u001b[A\n",
            " 60%|██████    | 601/1000 [00:00<00:00, 1481.48it/s]\u001b[A\n",
            " 75%|███████▌  | 750/1000 [00:00<00:00, 1473.86it/s]\u001b[A\n",
            "100%|██████████| 1000/1000 [00:00<00:00, 1476.10it/s][A\n"
          ]
        },
        {
          "name": "stdout",
          "output_type": "stream",
          "text": [
            "Saving training triplets list in 'datasets/generated_triplets' directory ...\n",
            "Training triplets' list Saved!\n",
            "\n"
          ]
        },
        {
          "name": "stderr",
          "output_type": "stream",
          "text": [
            "100%|██████████| 1000/1000 [10:41<00:00,  1.56it/s]\n"
          ]
        },
        {
          "name": "stdout",
          "output_type": "stream",
          "text": [
            "--------Starting Validation on LFW dataset---------\n"
          ]
        },
        {
          "name": "stderr",
          "output_type": "stream",
          "text": [
            "100%|██████████| 57/57 [00:33<00:00,  1.69it/s]\n"
          ]
        },
        {
          "name": "stdout",
          "output_type": "stream",
          "text": [
            "Accuracy: 79.95 %\n",
            "\n",
            "Generating 24000 triplets ...\n"
          ]
        },
        {
          "name": "stderr",
          "output_type": "stream",
          "text": [
            "\n",
            "  0%|          | 0/1000 [00:00<?, ?it/s]\u001b[A\n",
            " 14%|█▍        | 138/1000 [00:00<00:00, 1379.69it/s]\u001b[A\n",
            " 28%|██▊       | 276/1000 [00:00<00:00, 1379.69it/s]\u001b[A\n",
            " 41%|████▏     | 414/1000 [00:00<00:00, 1367.20it/s]\u001b[A\n",
            " 56%|█████▌    | 562/1000 [00:00<00:00, 1411.36it/s]\u001b[A\n",
            " 71%|███████   | 712/1000 [00:00<00:00, 1443.09it/s]\u001b[A\n",
            "100%|██████████| 1000/1000 [00:00<00:00, 1437.80it/s][A\n"
          ]
        },
        {
          "name": "stdout",
          "output_type": "stream",
          "text": [
            "Saving training triplets list in 'datasets/generated_triplets' directory ...\n",
            "Training triplets' list Saved!\n",
            "\n"
          ]
        },
        {
          "name": "stderr",
          "output_type": "stream",
          "text": [
            "100%|██████████| 1000/1000 [10:42<00:00,  1.56it/s]\n"
          ]
        },
        {
          "name": "stdout",
          "output_type": "stream",
          "text": [
            "--------Starting Validation on LFW dataset---------\n"
          ]
        },
        {
          "name": "stderr",
          "output_type": "stream",
          "text": [
            "100%|██████████| 57/57 [00:33<00:00,  1.69it/s]\n"
          ]
        },
        {
          "name": "stdout",
          "output_type": "stream",
          "text": [
            "Accuracy: 79.81 %\n"
          ]
        },
        {
          "data": {
            "image/png": "[encoded data removed]",
            "text/plain": [
              "<Figure size 640x480 with 1 Axes>"
            ]
          },
          "metadata": {},
          "output_type": "display_data"
        },
        {
          "data": {
            "image/png": "[encoded data removed]",
            "text/plain": [
              "<Figure size 640x480 with 1 Axes>"
            ]
          },
          "metadata": {},
          "output_type": "display_data"
        },
        {
          "data": {
            "image/png": "[encoded data removed]",
            "text/plain": [
              "<Figure size 640x480 with 1 Axes>"
            ]
          },
          "metadata": {},
          "output_type": "display_data"
        }
      ],
      "source": [
        "inception_model = InceptionResnetV1(\n",
        "    pretrained='vggface2',\n",
        ").to('cuda')\n",
        "def get_optimizer(model, learning_rate=0.001):\n",
        "    return optim.Adam(\n",
        "              params=model.parameters(),\n",
        "              lr=learning_rate,\n",
        "              betas=(0.9, 0.999),\n",
        "              eps=1e-08,\n",
        "              amsgrad=False,\n",
        "              weight_decay=1e-5\n",
        "          )\n",
        "  \n",
        "train(inception_model, get_optimizer(inception_model), 50, batch_size=24)"
      ]
    },
    {
      "cell_type": "markdown",
      "source": [
        "**Plotting all runs graphs combined from the saved checkpoints:**"
      ],
      "metadata": {
        "id": "dyarAC76NKT7"
      }
    },
    {
      "cell_type": "code",
      "source": [
        "total_triplet_loss_ls, val_acc_ls, train_acc_ls = [], [], []\n",
        "val_precision_ls, val_recall_ls, val_auc_ls = [], [], []"
      ],
      "metadata": {
        "id": "x0YLYXj0NV7_"
      },
      "execution_count": null,
      "outputs": []
    },
    {
      "cell_type": "code",
      "source": [
        "from google.colab import drive\n",
        "drive.mount('/gdrive', force_remount=True)\n",
        "!cp /gdrive/MyDrive/all_checkpoints.zip ."
      ],
      "metadata": {
        "colab": {
          "base_uri": "https://localhost:8080/"
        },
        "id": "8E3-m3mubt9h",
        "outputId": "0ba3d625-fde1-4399-f783-f3cc88fb8d3c"
      },
      "execution_count": null,
      "outputs": [
        {
          "output_type": "stream",
          "name": "stdout",
          "text": [
            "Mounted at /gdrive\n"
          ]
        }
      ]
    },
    {
      "cell_type": "code",
      "source": [
        "!unzip ./all_checkpoints.zip"
      ],
      "metadata": {
        "colab": {
          "base_uri": "https://localhost:8080/"
        },
        "id": "z1MxMFlRb5Yw",
        "outputId": "07c799f7-4016-495b-9349-9ad626166686"
      },
      "execution_count": null,
      "outputs": [
        {
          "output_type": "stream",
          "name": "stdout",
          "text": [
            "Archive:  ./all_checkpoints.zip\n",
            "   creating: all_checkpoints/\n",
            "   creating: all_checkpoints/model_training_checkpoints1/\n",
            "  inflating: all_checkpoints/model_training_checkpoints1/model_InceptionResnetV1_triplet_epoch_0.pt  \n",
            "  inflating: all_checkpoints/model_training_checkpoints1/model_InceptionResnetV1_triplet_epoch_1.pt  \n",
            "  inflating: all_checkpoints/model_training_checkpoints1/model_InceptionResnetV1_triplet_epoch_10.pt  \n",
            "  inflating: all_checkpoints/model_training_checkpoints1/model_InceptionResnetV1_triplet_epoch_11.pt  \n",
            "  inflating: all_checkpoints/model_training_checkpoints1/model_InceptionResnetV1_triplet_epoch_12.pt  \n",
            "  inflating: all_checkpoints/model_training_checkpoints1/model_InceptionResnetV1_triplet_epoch_13.pt  \n",
            "  inflating: all_checkpoints/model_training_checkpoints1/model_InceptionResnetV1_triplet_epoch_14.pt  \n",
            "  inflating: all_checkpoints/model_training_checkpoints1/model_InceptionResnetV1_triplet_epoch_15.pt  \n",
            "  inflating: all_checkpoints/model_training_checkpoints1/model_InceptionResnetV1_triplet_epoch_16.pt  \n",
            "  inflating: all_checkpoints/model_training_checkpoints1/model_InceptionResnetV1_triplet_epoch_17.pt  \n",
            "  inflating: all_checkpoints/model_training_checkpoints1/model_InceptionResnetV1_triplet_epoch_18.pt  \n",
            "  inflating: all_checkpoints/model_training_checkpoints1/model_InceptionResnetV1_triplet_epoch_19.pt  \n",
            "  inflating: all_checkpoints/model_training_checkpoints1/model_InceptionResnetV1_triplet_epoch_2.pt  \n",
            "  inflating: all_checkpoints/model_training_checkpoints1/model_InceptionResnetV1_triplet_epoch_20.pt  \n",
            "  inflating: all_checkpoints/model_training_checkpoints1/model_InceptionResnetV1_triplet_epoch_21.pt  \n",
            "  inflating: all_checkpoints/model_training_checkpoints1/model_InceptionResnetV1_triplet_epoch_22.pt  \n",
            "  inflating: all_checkpoints/model_training_checkpoints1/model_InceptionResnetV1_triplet_epoch_23.pt  \n",
            "  inflating: all_checkpoints/model_training_checkpoints1/model_InceptionResnetV1_triplet_epoch_24.pt  \n",
            "  inflating: all_checkpoints/model_training_checkpoints1/model_InceptionResnetV1_triplet_epoch_25.pt  \n",
            "  inflating: all_checkpoints/model_training_checkpoints1/model_InceptionResnetV1_triplet_epoch_26.pt  \n",
            "  inflating: all_checkpoints/model_training_checkpoints1/model_InceptionResnetV1_triplet_epoch_27.pt  \n",
            "  inflating: all_checkpoints/model_training_checkpoints1/model_InceptionResnetV1_triplet_epoch_28.pt  \n",
            "  inflating: all_checkpoints/model_training_checkpoints1/model_InceptionResnetV1_triplet_epoch_29.pt  \n",
            "  inflating: all_checkpoints/model_training_checkpoints1/model_InceptionResnetV1_triplet_epoch_3.pt  \n",
            "  inflating: all_checkpoints/model_training_checkpoints1/model_InceptionResnetV1_triplet_epoch_30.pt  \n",
            "  inflating: all_checkpoints/model_training_checkpoints1/model_InceptionResnetV1_triplet_epoch_31.pt  \n",
            "  inflating: all_checkpoints/model_training_checkpoints1/model_InceptionResnetV1_triplet_epoch_32.pt  \n",
            "  inflating: all_checkpoints/model_training_checkpoints1/model_InceptionResnetV1_triplet_epoch_33.pt  \n",
            "  inflating: all_checkpoints/model_training_checkpoints1/model_InceptionResnetV1_triplet_epoch_34.pt  \n",
            "  inflating: all_checkpoints/model_training_checkpoints1/model_InceptionResnetV1_triplet_epoch_35.pt  \n",
            "  inflating: all_checkpoints/model_training_checkpoints1/model_InceptionResnetV1_triplet_epoch_36.pt  \n",
            "  inflating: all_checkpoints/model_training_checkpoints1/model_InceptionResnetV1_triplet_epoch_37.pt  \n",
            "  inflating: all_checkpoints/model_training_checkpoints1/model_InceptionResnetV1_triplet_epoch_38.pt  \n",
            "  inflating: all_checkpoints/model_training_checkpoints1/model_InceptionResnetV1_triplet_epoch_39.pt  \n",
            "  inflating: all_checkpoints/model_training_checkpoints1/model_InceptionResnetV1_triplet_epoch_4.pt  \n",
            "  inflating: all_checkpoints/model_training_checkpoints1/model_InceptionResnetV1_triplet_epoch_40.pt  \n",
            "  inflating: all_checkpoints/model_training_checkpoints1/model_InceptionResnetV1_triplet_epoch_41.pt  \n",
            "  inflating: all_checkpoints/model_training_checkpoints1/model_InceptionResnetV1_triplet_epoch_42.pt  \n",
            "  inflating: all_checkpoints/model_training_checkpoints1/model_InceptionResnetV1_triplet_epoch_43.pt  \n",
            "  inflating: all_checkpoints/model_training_checkpoints1/model_InceptionResnetV1_triplet_epoch_44.pt  \n",
            "  inflating: all_checkpoints/model_training_checkpoints1/model_InceptionResnetV1_triplet_epoch_45.pt  \n",
            "  inflating: all_checkpoints/model_training_checkpoints1/model_InceptionResnetV1_triplet_epoch_46.pt  \n",
            "  inflating: all_checkpoints/model_training_checkpoints1/model_InceptionResnetV1_triplet_epoch_47.pt  \n",
            "  inflating: all_checkpoints/model_training_checkpoints1/model_InceptionResnetV1_triplet_epoch_48.pt  \n",
            "  inflating: all_checkpoints/model_training_checkpoints1/model_InceptionResnetV1_triplet_epoch_49.pt  \n",
            "  inflating: all_checkpoints/model_training_checkpoints1/model_InceptionResnetV1_triplet_epoch_5.pt  \n",
            "  inflating: all_checkpoints/model_training_checkpoints1/model_InceptionResnetV1_triplet_epoch_6.pt  \n",
            "  inflating: all_checkpoints/model_training_checkpoints1/model_InceptionResnetV1_triplet_epoch_7.pt  \n",
            "  inflating: all_checkpoints/model_training_checkpoints1/model_InceptionResnetV1_triplet_epoch_8.pt  \n",
            "  inflating: all_checkpoints/model_training_checkpoints1/model_InceptionResnetV1_triplet_epoch_9.pt  \n",
            "   creating: all_checkpoints/model_training_checkpoints2/\n",
            "   creating: all_checkpoints/model_training_checkpoints3_imp/\n",
            "  inflating: all_checkpoints/model_training_checkpoints3_imp/model_InceptionResnetV1_triplet_epoch_0.pt  \n",
            "  inflating: all_checkpoints/model_training_checkpoints3_imp/model_InceptionResnetV1_triplet_epoch_1.pt  \n",
            "  inflating: all_checkpoints/model_training_checkpoints3_imp/model_InceptionResnetV1_triplet_epoch_10.pt  \n",
            "  inflating: all_checkpoints/model_training_checkpoints3_imp/model_InceptionResnetV1_triplet_epoch_11.pt  \n",
            "  inflating: all_checkpoints/model_training_checkpoints3_imp/model_InceptionResnetV1_triplet_epoch_12.pt  \n",
            "  inflating: all_checkpoints/model_training_checkpoints3_imp/model_InceptionResnetV1_triplet_epoch_13.pt  \n",
            "  inflating: all_checkpoints/model_training_checkpoints3_imp/model_InceptionResnetV1_triplet_epoch_14.pt  \n",
            "  inflating: all_checkpoints/model_training_checkpoints3_imp/model_InceptionResnetV1_triplet_epoch_15.pt  \n",
            "  inflating: all_checkpoints/model_training_checkpoints3_imp/model_InceptionResnetV1_triplet_epoch_16.pt  \n",
            "  inflating: all_checkpoints/model_training_checkpoints3_imp/model_InceptionResnetV1_triplet_epoch_17.pt  \n",
            "  inflating: all_checkpoints/model_training_checkpoints3_imp/model_InceptionResnetV1_triplet_epoch_18.pt  \n",
            "  inflating: all_checkpoints/model_training_checkpoints3_imp/model_InceptionResnetV1_triplet_epoch_19.pt  \n",
            "  inflating: all_checkpoints/model_training_checkpoints3_imp/model_InceptionResnetV1_triplet_epoch_2.pt  \n",
            "  inflating: all_checkpoints/model_training_checkpoints3_imp/model_InceptionResnetV1_triplet_epoch_3.pt  \n",
            "  inflating: all_checkpoints/model_training_checkpoints3_imp/model_InceptionResnetV1_triplet_epoch_4.pt  \n",
            "  inflating: all_checkpoints/model_training_checkpoints3_imp/model_InceptionResnetV1_triplet_epoch_5.pt  \n",
            "  inflating: all_checkpoints/model_training_checkpoints3_imp/model_InceptionResnetV1_triplet_epoch_6.pt  \n",
            "  inflating: all_checkpoints/model_training_checkpoints3_imp/model_InceptionResnetV1_triplet_epoch_7.pt  \n",
            "  inflating: all_checkpoints/model_training_checkpoints3_imp/model_InceptionResnetV1_triplet_epoch_8.pt  \n",
            "  inflating: all_checkpoints/model_training_checkpoints3_imp/model_InceptionResnetV1_triplet_epoch_9.pt  \n",
            "   creating: all_checkpoints/model_training_checkpoints4/\n",
            "  inflating: all_checkpoints/model_training_checkpoints4/model_InceptionResnetV1_triplet_epoch_0.pt  \n",
            "  inflating: all_checkpoints/model_training_checkpoints4/model_InceptionResnetV1_triplet_epoch_1.pt  \n",
            "  inflating: all_checkpoints/model_training_checkpoints4/model_InceptionResnetV1_triplet_epoch_10.pt  \n",
            "  inflating: all_checkpoints/model_training_checkpoints4/model_InceptionResnetV1_triplet_epoch_11.pt  \n",
            "  inflating: all_checkpoints/model_training_checkpoints4/model_InceptionResnetV1_triplet_epoch_12.pt  \n",
            "  inflating: all_checkpoints/model_training_checkpoints4/model_InceptionResnetV1_triplet_epoch_13.pt  \n",
            "  inflating: all_checkpoints/model_training_checkpoints4/model_InceptionResnetV1_triplet_epoch_14.pt  \n",
            "  inflating: all_checkpoints/model_training_checkpoints4/model_InceptionResnetV1_triplet_epoch_15.pt  \n",
            "  inflating: all_checkpoints/model_training_checkpoints4/model_InceptionResnetV1_triplet_epoch_16.pt  \n",
            "  inflating: all_checkpoints/model_training_checkpoints4/model_InceptionResnetV1_triplet_epoch_17.pt  \n",
            "  inflating: all_checkpoints/model_training_checkpoints4/model_InceptionResnetV1_triplet_epoch_18.pt  \n",
            "  inflating: all_checkpoints/model_training_checkpoints4/model_InceptionResnetV1_triplet_epoch_19.pt  \n",
            "  inflating: all_checkpoints/model_training_checkpoints4/model_InceptionResnetV1_triplet_epoch_2.pt  \n",
            "  inflating: all_checkpoints/model_training_checkpoints4/model_InceptionResnetV1_triplet_epoch_20.pt  \n",
            "  inflating: all_checkpoints/model_training_checkpoints4/model_InceptionResnetV1_triplet_epoch_21.pt  \n",
            "  inflating: all_checkpoints/model_training_checkpoints4/model_InceptionResnetV1_triplet_epoch_22.pt  \n",
            "  inflating: all_checkpoints/model_training_checkpoints4/model_InceptionResnetV1_triplet_epoch_23.pt  \n",
            "  inflating: all_checkpoints/model_training_checkpoints4/model_InceptionResnetV1_triplet_epoch_24.pt  \n",
            "  inflating: all_checkpoints/model_training_checkpoints4/model_InceptionResnetV1_triplet_epoch_25.pt  \n",
            "  inflating: all_checkpoints/model_training_checkpoints4/model_InceptionResnetV1_triplet_epoch_26.pt  \n",
            "  inflating: all_checkpoints/model_training_checkpoints4/model_InceptionResnetV1_triplet_epoch_27.pt  \n",
            "  inflating: all_checkpoints/model_training_checkpoints4/model_InceptionResnetV1_triplet_epoch_28.pt  \n",
            "  inflating: all_checkpoints/model_training_checkpoints4/model_InceptionResnetV1_triplet_epoch_29.pt  \n",
            "  inflating: all_checkpoints/model_training_checkpoints4/model_InceptionResnetV1_triplet_epoch_3.pt  \n",
            "  inflating: all_checkpoints/model_training_checkpoints4/model_InceptionResnetV1_triplet_epoch_30.pt  \n",
            "  inflating: all_checkpoints/model_training_checkpoints4/model_InceptionResnetV1_triplet_epoch_31.pt  \n",
            "  inflating: all_checkpoints/model_training_checkpoints4/model_InceptionResnetV1_triplet_epoch_32.pt  \n",
            "  inflating: all_checkpoints/model_training_checkpoints4/model_InceptionResnetV1_triplet_epoch_33.pt  \n",
            "  inflating: all_checkpoints/model_training_checkpoints4/model_InceptionResnetV1_triplet_epoch_34.pt  \n",
            "  inflating: all_checkpoints/model_training_checkpoints4/model_InceptionResnetV1_triplet_epoch_35.pt  \n",
            "  inflating: all_checkpoints/model_training_checkpoints4/model_InceptionResnetV1_triplet_epoch_36.pt  \n",
            "  inflating: all_checkpoints/model_training_checkpoints4/model_InceptionResnetV1_triplet_epoch_37.pt  \n",
            "  inflating: all_checkpoints/model_training_checkpoints4/model_InceptionResnetV1_triplet_epoch_38.pt  \n",
            "  inflating: all_checkpoints/model_training_checkpoints4/model_InceptionResnetV1_triplet_epoch_39.pt  \n",
            "  inflating: all_checkpoints/model_training_checkpoints4/model_InceptionResnetV1_triplet_epoch_4.pt  \n",
            "  inflating: all_checkpoints/model_training_checkpoints4/model_InceptionResnetV1_triplet_epoch_5.pt  \n",
            "  inflating: all_checkpoints/model_training_checkpoints4/model_InceptionResnetV1_triplet_epoch_6.pt  \n",
            "  inflating: all_checkpoints/model_training_checkpoints4/model_InceptionResnetV1_triplet_epoch_7.pt  \n",
            "  inflating: all_checkpoints/model_training_checkpoints4/model_InceptionResnetV1_triplet_epoch_8.pt  \n",
            "  inflating: all_checkpoints/model_training_checkpoints4/model_InceptionResnetV1_triplet_epoch_9.pt  \n",
            "   creating: all_checkpoints/model_training_checkpoints5/\n",
            "  inflating: all_checkpoints/model_training_checkpoints5/model_InceptionResnetV1_triplet_epoch_0.pt  \n",
            "  inflating: all_checkpoints/model_training_checkpoints5/model_InceptionResnetV1_triplet_epoch_1.pt  \n",
            "  inflating: all_checkpoints/model_training_checkpoints5/model_InceptionResnetV1_triplet_epoch_10.pt  \n",
            "  inflating: all_checkpoints/model_training_checkpoints5/model_InceptionResnetV1_triplet_epoch_11.pt  \n",
            "  inflating: all_checkpoints/model_training_checkpoints5/model_InceptionResnetV1_triplet_epoch_12.pt  \n",
            "  inflating: all_checkpoints/model_training_checkpoints5/model_InceptionResnetV1_triplet_epoch_13.pt  \n",
            "  inflating: all_checkpoints/model_training_checkpoints5/model_InceptionResnetV1_triplet_epoch_14.pt  \n",
            "  inflating: all_checkpoints/model_training_checkpoints5/model_InceptionResnetV1_triplet_epoch_15.pt  \n",
            "  inflating: all_checkpoints/model_training_checkpoints5/model_InceptionResnetV1_triplet_epoch_16.pt  \n",
            "  inflating: all_checkpoints/model_training_checkpoints5/model_InceptionResnetV1_triplet_epoch_17.pt  \n",
            "  inflating: all_checkpoints/model_training_checkpoints5/model_InceptionResnetV1_triplet_epoch_18.pt  \n",
            "  inflating: all_checkpoints/model_training_checkpoints5/model_InceptionResnetV1_triplet_epoch_19.pt  \n",
            "  inflating: all_checkpoints/model_training_checkpoints5/model_InceptionResnetV1_triplet_epoch_2.pt  \n",
            "  inflating: all_checkpoints/model_training_checkpoints5/model_InceptionResnetV1_triplet_epoch_20.pt  \n",
            "  inflating: all_checkpoints/model_training_checkpoints5/model_InceptionResnetV1_triplet_epoch_21.pt  \n",
            "  inflating: all_checkpoints/model_training_checkpoints5/model_InceptionResnetV1_triplet_epoch_22.pt  \n",
            "  inflating: all_checkpoints/model_training_checkpoints5/model_InceptionResnetV1_triplet_epoch_23.pt  \n",
            "  inflating: all_checkpoints/model_training_checkpoints5/model_InceptionResnetV1_triplet_epoch_24.pt  \n",
            "  inflating: all_checkpoints/model_training_checkpoints5/model_InceptionResnetV1_triplet_epoch_25.pt  \n",
            "  inflating: all_checkpoints/model_training_checkpoints5/model_InceptionResnetV1_triplet_epoch_26.pt  \n",
            "  inflating: all_checkpoints/model_training_checkpoints5/model_InceptionResnetV1_triplet_epoch_27.pt  \n",
            "  inflating: all_checkpoints/model_training_checkpoints5/model_InceptionResnetV1_triplet_epoch_28.pt  \n",
            "  inflating: all_checkpoints/model_training_checkpoints5/model_InceptionResnetV1_triplet_epoch_29.pt  \n",
            "  inflating: all_checkpoints/model_training_checkpoints5/model_InceptionResnetV1_triplet_epoch_3.pt  \n",
            "  inflating: all_checkpoints/model_training_checkpoints5/model_InceptionResnetV1_triplet_epoch_30.pt  \n",
            "  inflating: all_checkpoints/model_training_checkpoints5/model_InceptionResnetV1_triplet_epoch_31.pt  \n",
            "  inflating: all_checkpoints/model_training_checkpoints5/model_InceptionResnetV1_triplet_epoch_32.pt  \n",
            "  inflating: all_checkpoints/model_training_checkpoints5/model_InceptionResnetV1_triplet_epoch_33.pt  \n",
            "  inflating: all_checkpoints/model_training_checkpoints5/model_InceptionResnetV1_triplet_epoch_34.pt  \n",
            "  inflating: all_checkpoints/model_training_checkpoints5/model_InceptionResnetV1_triplet_epoch_35.pt  \n",
            "  inflating: all_checkpoints/model_training_checkpoints5/model_InceptionResnetV1_triplet_epoch_36.pt  \n",
            "  inflating: all_checkpoints/model_training_checkpoints5/model_InceptionResnetV1_triplet_epoch_37.pt  \n",
            "  inflating: all_checkpoints/model_training_checkpoints5/model_InceptionResnetV1_triplet_epoch_38.pt  \n",
            "  inflating: all_checkpoints/model_training_checkpoints5/model_InceptionResnetV1_triplet_epoch_39.pt  \n",
            "  inflating: all_checkpoints/model_training_checkpoints5/model_InceptionResnetV1_triplet_epoch_4.pt  \n",
            "  inflating: all_checkpoints/model_training_checkpoints5/model_InceptionResnetV1_triplet_epoch_40.pt  \n",
            "  inflating: all_checkpoints/model_training_checkpoints5/model_InceptionResnetV1_triplet_epoch_41.pt  \n",
            "  inflating: all_checkpoints/model_training_checkpoints5/model_InceptionResnetV1_triplet_epoch_42.pt  \n",
            "  inflating: all_checkpoints/model_training_checkpoints5/model_InceptionResnetV1_triplet_epoch_43.pt  \n",
            "  inflating: all_checkpoints/model_training_checkpoints5/model_InceptionResnetV1_triplet_epoch_44.pt  \n",
            "  inflating: all_checkpoints/model_training_checkpoints5/model_InceptionResnetV1_triplet_epoch_45.pt  \n",
            "  inflating: all_checkpoints/model_training_checkpoints5/model_InceptionResnetV1_triplet_epoch_46.pt  \n",
            "  inflating: all_checkpoints/model_training_checkpoints5/model_InceptionResnetV1_triplet_epoch_47.pt  \n",
            "  inflating: all_checkpoints/model_training_checkpoints5/model_InceptionResnetV1_triplet_epoch_48.pt  \n",
            "  inflating: all_checkpoints/model_training_checkpoints5/model_InceptionResnetV1_triplet_epoch_49.pt  \n",
            "  inflating: all_checkpoints/model_training_checkpoints5/model_InceptionResnetV1_triplet_epoch_5.pt  \n",
            "  inflating: all_checkpoints/model_training_checkpoints5/model_InceptionResnetV1_triplet_epoch_6.pt  \n",
            "  inflating: all_checkpoints/model_training_checkpoints5/model_InceptionResnetV1_triplet_epoch_7.pt  \n",
            "  inflating: all_checkpoints/model_training_checkpoints5/model_InceptionResnetV1_triplet_epoch_8.pt  \n",
            "  inflating: all_checkpoints/model_training_checkpoints5/model_InceptionResnetV1_triplet_epoch_9.pt  \n"
          ]
        }
      ]
    },
    {
      "cell_type": "code",
      "source": [
        "# LIST_OF_RUNS = ['./all_checkpoints/'+x for x in os.listdir('./all_checkpoints/')]\n",
        "# LIST_OF_RUNS.sort()\n",
        "LIST_OF_RUNS = ['./all_checkpoints/model_training_checkpoints5', './all_checkpoints/model_training_checkpoints3_imp', './all_checkpoints/model_training_checkpoints4']\n",
        "print(LIST_OF_RUNS)\n",
        "for run_folder in LIST_OF_RUNS:\n",
        "  checkpoints = os.listdir(run_folder)\n",
        "  checkpoints.sort(key=lambda x: int(x.replace(\".pt\", \"\").replace(\"model_InceptionResnetV1_triplet_epoch_\", \"\")))\n",
        "  print(checkpoints)\n",
        "  for checkpoint in checkpoints:\n",
        "    checkpoint_dict = torch.load(run_folder+'/'+checkpoint, map_location=torch.device('cpu'))\n",
        "    total_triplet_loss_ls.append(checkpoint_dict['train_loss'])\n",
        "    train_acc_ls.append(checkpoint_dict['train_accuracy'])\n",
        "    val_acc_ls.append(checkpoint_dict['validation_metrics'][0])\n",
        "    val_precision_ls.append(checkpoint_dict['validation_metrics'][1])\n",
        "    val_recall_ls.append(checkpoint_dict['validation_metrics'][2])\n",
        "    val_auc_ls.append(checkpoint_dict['validation_metrics'][3])"
      ],
      "metadata": {
        "colab": {
          "base_uri": "https://localhost:8080/"
        },
        "id": "RfOPzCnH9XS0",
        "outputId": "681382e7-56df-4014-904e-9124da3d881d"
      },
      "execution_count": null,
      "outputs": [
        {
          "output_type": "stream",
          "name": "stdout",
          "text": [
            "['./all_checkpoints/model_training_checkpoints5', './all_checkpoints/model_training_checkpoints3_imp', './all_checkpoints/model_training_checkpoints4']\n",
            "['model_InceptionResnetV1_triplet_epoch_0.pt', 'model_InceptionResnetV1_triplet_epoch_1.pt', 'model_InceptionResnetV1_triplet_epoch_2.pt', 'model_InceptionResnetV1_triplet_epoch_3.pt', 'model_InceptionResnetV1_triplet_epoch_4.pt', 'model_InceptionResnetV1_triplet_epoch_5.pt', 'model_InceptionResnetV1_triplet_epoch_6.pt', 'model_InceptionResnetV1_triplet_epoch_7.pt', 'model_InceptionResnetV1_triplet_epoch_8.pt', 'model_InceptionResnetV1_triplet_epoch_9.pt', 'model_InceptionResnetV1_triplet_epoch_10.pt', 'model_InceptionResnetV1_triplet_epoch_11.pt', 'model_InceptionResnetV1_triplet_epoch_12.pt', 'model_InceptionResnetV1_triplet_epoch_13.pt', 'model_InceptionResnetV1_triplet_epoch_14.pt', 'model_InceptionResnetV1_triplet_epoch_15.pt', 'model_InceptionResnetV1_triplet_epoch_16.pt', 'model_InceptionResnetV1_triplet_epoch_17.pt', 'model_InceptionResnetV1_triplet_epoch_18.pt', 'model_InceptionResnetV1_triplet_epoch_19.pt', 'model_InceptionResnetV1_triplet_epoch_20.pt', 'model_InceptionResnetV1_triplet_epoch_21.pt', 'model_InceptionResnetV1_triplet_epoch_22.pt', 'model_InceptionResnetV1_triplet_epoch_23.pt', 'model_InceptionResnetV1_triplet_epoch_24.pt', 'model_InceptionResnetV1_triplet_epoch_25.pt', 'model_InceptionResnetV1_triplet_epoch_26.pt', 'model_InceptionResnetV1_triplet_epoch_27.pt', 'model_InceptionResnetV1_triplet_epoch_28.pt', 'model_InceptionResnetV1_triplet_epoch_29.pt', 'model_InceptionResnetV1_triplet_epoch_30.pt', 'model_InceptionResnetV1_triplet_epoch_31.pt', 'model_InceptionResnetV1_triplet_epoch_32.pt', 'model_InceptionResnetV1_triplet_epoch_33.pt', 'model_InceptionResnetV1_triplet_epoch_34.pt', 'model_InceptionResnetV1_triplet_epoch_35.pt', 'model_InceptionResnetV1_triplet_epoch_36.pt', 'model_InceptionResnetV1_triplet_epoch_37.pt', 'model_InceptionResnetV1_triplet_epoch_38.pt', 'model_InceptionResnetV1_triplet_epoch_39.pt', 'model_InceptionResnetV1_triplet_epoch_40.pt', 'model_InceptionResnetV1_triplet_epoch_41.pt', 'model_InceptionResnetV1_triplet_epoch_42.pt', 'model_InceptionResnetV1_triplet_epoch_43.pt', 'model_InceptionResnetV1_triplet_epoch_44.pt', 'model_InceptionResnetV1_triplet_epoch_45.pt', 'model_InceptionResnetV1_triplet_epoch_46.pt', 'model_InceptionResnetV1_triplet_epoch_47.pt', 'model_InceptionResnetV1_triplet_epoch_48.pt', 'model_InceptionResnetV1_triplet_epoch_49.pt']\n",
            "['model_InceptionResnetV1_triplet_epoch_0.pt', 'model_InceptionResnetV1_triplet_epoch_1.pt', 'model_InceptionResnetV1_triplet_epoch_2.pt', 'model_InceptionResnetV1_triplet_epoch_3.pt', 'model_InceptionResnetV1_triplet_epoch_4.pt', 'model_InceptionResnetV1_triplet_epoch_5.pt', 'model_InceptionResnetV1_triplet_epoch_6.pt', 'model_InceptionResnetV1_triplet_epoch_7.pt', 'model_InceptionResnetV1_triplet_epoch_8.pt', 'model_InceptionResnetV1_triplet_epoch_9.pt', 'model_InceptionResnetV1_triplet_epoch_10.pt', 'model_InceptionResnetV1_triplet_epoch_11.pt', 'model_InceptionResnetV1_triplet_epoch_12.pt', 'model_InceptionResnetV1_triplet_epoch_13.pt', 'model_InceptionResnetV1_triplet_epoch_14.pt', 'model_InceptionResnetV1_triplet_epoch_15.pt', 'model_InceptionResnetV1_triplet_epoch_16.pt', 'model_InceptionResnetV1_triplet_epoch_17.pt', 'model_InceptionResnetV1_triplet_epoch_18.pt', 'model_InceptionResnetV1_triplet_epoch_19.pt']\n",
            "['model_InceptionResnetV1_triplet_epoch_0.pt', 'model_InceptionResnetV1_triplet_epoch_1.pt', 'model_InceptionResnetV1_triplet_epoch_2.pt', 'model_InceptionResnetV1_triplet_epoch_3.pt', 'model_InceptionResnetV1_triplet_epoch_4.pt', 'model_InceptionResnetV1_triplet_epoch_5.pt', 'model_InceptionResnetV1_triplet_epoch_6.pt', 'model_InceptionResnetV1_triplet_epoch_7.pt', 'model_InceptionResnetV1_triplet_epoch_8.pt', 'model_InceptionResnetV1_triplet_epoch_9.pt', 'model_InceptionResnetV1_triplet_epoch_10.pt', 'model_InceptionResnetV1_triplet_epoch_11.pt', 'model_InceptionResnetV1_triplet_epoch_12.pt', 'model_InceptionResnetV1_triplet_epoch_13.pt', 'model_InceptionResnetV1_triplet_epoch_14.pt', 'model_InceptionResnetV1_triplet_epoch_15.pt', 'model_InceptionResnetV1_triplet_epoch_16.pt', 'model_InceptionResnetV1_triplet_epoch_17.pt', 'model_InceptionResnetV1_triplet_epoch_18.pt', 'model_InceptionResnetV1_triplet_epoch_19.pt', 'model_InceptionResnetV1_triplet_epoch_20.pt', 'model_InceptionResnetV1_triplet_epoch_21.pt', 'model_InceptionResnetV1_triplet_epoch_22.pt', 'model_InceptionResnetV1_triplet_epoch_23.pt', 'model_InceptionResnetV1_triplet_epoch_24.pt', 'model_InceptionResnetV1_triplet_epoch_25.pt', 'model_InceptionResnetV1_triplet_epoch_26.pt', 'model_InceptionResnetV1_triplet_epoch_27.pt', 'model_InceptionResnetV1_triplet_epoch_28.pt', 'model_InceptionResnetV1_triplet_epoch_29.pt', 'model_InceptionResnetV1_triplet_epoch_30.pt', 'model_InceptionResnetV1_triplet_epoch_31.pt', 'model_InceptionResnetV1_triplet_epoch_32.pt', 'model_InceptionResnetV1_triplet_epoch_33.pt', 'model_InceptionResnetV1_triplet_epoch_34.pt', 'model_InceptionResnetV1_triplet_epoch_35.pt', 'model_InceptionResnetV1_triplet_epoch_36.pt', 'model_InceptionResnetV1_triplet_epoch_37.pt', 'model_InceptionResnetV1_triplet_epoch_38.pt', 'model_InceptionResnetV1_triplet_epoch_39.pt']\n"
          ]
        }
      ]
    },
    {
      "cell_type": "code",
      "source": [
        "#Plotting the train/validation accuracies and loss curves:\n",
        "plt.title(\"Train loss\")\n",
        "plt.plot(range(1,len(total_triplet_loss_ls)+1), total_triplet_loss_ls, label=\"Train\")\n",
        "plt.xlabel(\"Epoch\")\n",
        "plt.ylabel(\"Loss\")\n",
        "plt.ylim([0, 0.2])\n",
        "plt.legend(loc='best')\n",
        "plt.show()\n",
        "\n",
        "plt.plot(range(1, len(val_acc_ls)+1), val_acc_ls, label=\"Validation\")\n",
        "plt.xlabel(\"Epoch\")\n",
        "plt.ylabel(\"Accuracy\")\n",
        "plt.title(\"Validation Accuracy\")\n",
        "plt.legend(loc='best')\n",
        "plt.show()\n",
        "\n",
        "plt.plot(range(1,len(train_acc_ls)+1), train_acc_ls, label=\"Train\")\n",
        "plt.xlabel(\"Epoch\")\n",
        "plt.ylabel(\"Accuracy\")\n",
        "plt.title(\"Train Accuracy\")\n",
        "plt.legend(loc='best')\n",
        "plt.show()\n",
        "\n",
        "plt.title(\"Other Validation Metrics\")\n",
        "plt.plot(range(1,len(val_precision_ls)+1), val_precision_ls, label=\"Precision\")\n",
        "plt.plot(range(1,len(val_recall_ls)+1), val_recall_ls, label=\"Recall\")\n",
        "plt.plot(range(1,len(val_auc_ls)+1), val_auc_ls, label=\"Area Under ROC\")\n",
        "plt.xlabel(\"Epoch\")\n",
        "plt.ylabel(\"Metrics\")\n",
        "plt.legend(loc='best')\n",
        "plt.show()"
      ],
      "metadata": {
        "colab": {
          "base_uri": "https://localhost:8080/",
          "height": 1000
        },
        "id": "g0aUe_077n5V",
        "outputId": "c33863b7-afe4-4fdf-f68c-fd6d6eeede64"
      },
      "execution_count": null,
      "outputs": [
        {
          "output_type": "display_data",
          "data": {
            "text/plain": [
              "<Figure size 432x288 with 1 Axes>"
            ],
            "image/png": "[encoded data removed]"
          },
          "metadata": {
            "needs_background": "light"
          }
        },
        {
          "output_type": "display_data",
          "data": {
            "text/plain": [
              "<Figure size 432x288 with 1 Axes>"
            ],
            "image/png": "[encoded data removed]"
          },
          "metadata": {
            "needs_background": "light"
          }
        },
        {
          "output_type": "display_data",
          "data": {
            "text/plain": [
              "<Figure size 432x288 with 1 Axes>"
            ],
            "image/png": "[encoded data removed]"
          },
          "metadata": {
            "needs_background": "light"
          }
        },
        {
          "output_type": "display_data",
          "data": {
            "text/plain": [
              "<Figure size 432x288 with 1 Axes>"
            ],
            "image/png": "[encoded data removed]"
          },
          "metadata": {
            "needs_background": "light"
          }
        }
      ]
    },
    {
      "cell_type": "markdown",
      "source": [
        "**Printing the final Validation metrics for Inception ResNetV1:**"
      ],
      "metadata": {
        "id": "2OcJYGIh_Vpv"
      }
    },
    {
      "cell_type": "code",
      "execution_count": null,
      "metadata": {
        "id": "pREMqWR-Kb8E",
        "outputId": "dd0a822b-f76c-4475-9d17-6efd4fba95c2"
      },
      "outputs": [
        {
          "name": "stdout",
          "output_type": "stream",
          "text": [
            "-----------The final validation metrics for Inception ResnetV1-----------\n",
            "Accuracy: 82.47 %\n",
            "Precision: 0.814\n",
            "Recall: 0.848\n",
            "Area Under ROC: 0.891\n",
            "Best distance threshold: 0.732\n",
            "True acceptance rate: 0.021856\n",
            "False acceptance rate: 0.001437\n"
          ]
        }
      ],
      "source": [
        "PATH='C:\\\\Users\\\\bhagyashreekeswani\\\\Desktop\\\\DL_Project\\\\all_checkpoints\\\\model_training_checkpoints4\\\\model_InceptionResnetV1_triplet_epoch_39.pt'\n",
        "final_metrics_inception=torch.load(PATH)['validation_metrics']\n",
        "print('-----------The final validation metrics for Inception ResnetV1-----------')\n",
        "print('Accuracy: {:.2f} %'.format(final_metrics_inception[0]*100))\n",
        "print('Precision: {:.3f}'.format(final_metrics_inception[1]))\n",
        "print('Recall: {:.3f}'.format(final_metrics_inception[2]))\n",
        "print('Area Under ROC: {:.3f}'.format(final_metrics_inception[3]))\n",
        "print('Best distance threshold: {:.3f}'.format(final_metrics_inception[4]))\n",
        "print('True acceptance rate: {:.6f}'.format(final_metrics_inception[5]))\n",
        "print('False acceptance rate: {:.6f}'.format(final_metrics_inception[6]))"
      ]
    },
    {
      "cell_type": "markdown",
      "source": [
        "## Quantitative Results\n",
        "\n",
        "![Picture3.PNG](data:image/png;base64,iVBORw0KGgoAAAANSUhEUgAAA7YAAAF/CAYAAAB9glXNAAAAAXNSR0IArs4c6QAAAARnQU1BAACxjwv8YQUAAAAJcEhZcwAAEnQAABJ0Ad5mH3gAAHgdSURBVHhe7b2/q3Vblp6nP0CCUi5jCiVWWnQgnAhDCSXKCksgcCBcSTuQk7KFWgYHpUBy5DJGKJBdiYwclJM2lRQYDG3KiUENFQiBOyg7Vdb+Icuyrr/n6/vefu+oudZe+5z9nbPXOs8Lz917zTXX/DnmHHPsvb97/sRXSimllFJKKaXUifUnPon/iIiIiIiIiJyObwLbf/K//aHIqdBuRUTkKPoMEZHrYmArp0a7FRGRo+gzRESui4GtnBrtVkREjqLPEBG5Lga2cmq0WxEROYo+Q0TkuhjYyqnRbkVE5Cj6DBGR62JgK6dGuxURkaPoM0RErouBrZwa7VZERI6izxARuS4GtnJqtFsRETmKPkNE5LoY2Mqp0W5FROQo+gwRketiYCunRrsVEZGj6DNERK6Lga2cGu1WRESOos8QEbkuBrZyarRbERE5ij5DROS6GNjKqdFuRUTkKPoMEZHrYmArp0a7FRGRo+gzRESui4GtnBrtVkREjqLPEBG5Lga2cmq0WxEROYo+Q0TkuhjYyqnRbkVE5Cj6DBGR62JgK6dGuxURkaPoM0RErouBrZwa7Vbu5c/8m9/9bDfhv/+ffvWt+1z3fej7jyDl/od/68fL+3uk/f/2X/j+8v6K7tPs70v5u//lT78pM/y7/94Pl3lzn7bPe13Of/3f/eKbdPqX9L05eskYyscFm1mlvwex4TDvsx76/mr9vIYuv9feEe5dg6v94jV7EXXO8lbcs0++B92P1f3Q4/eoPfytic20rW3t/2/JPBNMHr3uVvR6Wtls28lL5z9jnes9HxsyNltjkDKeyQ/THgNbOS3ardzLdGJzQ14dmPr+I0i5L3EGaf89B7bUB484FM0xnMw6+t7s85HAdva1DwHP5FDl+cFmVunvQWw4sBb6Ph8U9f2tw+VLeavAdvajmX0+ymqfXnHPPvkedD9W90Pvk4/Yw9+arX1+K/0tueXPwurZR9HrCea6aDt5yfz3Gkxaj/2sD26t8S7z1h7wltAeA1s5Ldqt3Mt0YvPg0wFV6PuPIOW+xBncE9i24wqvPRStxmcy2zbvdxu2Djaznna8txyuyBbYzCr9PYgNh/mLh7lXnTGw3cqXvr20T5SVcvc4sk++J92P1f3Q++Rr9/D3YGuffwbmOtviS/qaXieh77edvGT+V4EtJG21TrrOOWdJD19ybO6F9hjYymnRbuVe4sQ6cOr7SWtn1/dhFTDOPGEGaKTl/XQG7UhgHnSh2z/vNe3ImpVTzL1bzqkPwtD3pmNuR9jp0P06Gtj2AbjreiaHKs8PNrNKfw9iw7H1LRvPmu/7Ye4Zqzyh81Fnr+d5cJ37x1xnR9fgVkDW7U5al8lzST9C2ntrjDp91f/Zr34WVu3qcmBrDma+Wf7qmbAaxy6P+3PO0qetckLPSzjSp9yjD3t1zzEM3Ov2zPbONsBs60vma0LfyLvlU1NW+615L6zGcjXmtLPzdD9Webpfs45Z/uzH9KWdp+/1M5Bx6blfzQnM/rwntMfAVk6Ldiv3ks0aJ5X3cai9abej7udXTiJMJ7qXF9oZbOWNAwq3nHBI+8nXjm/leHPvlnPqMVmVk/Gb9/JMkzHvtiUNVuOR9vUh4Jkcqjw/2Mwq/T1oG877rJ2sC9Z71kIfMCF7wYpeS7DK03T+rXL7YP/aNbjaX7vMuZfeIuXNMYIe307PfgXpf7dhix6rLnuSPNB1bdH5J6s9/EiZyQs95pOX9Gl1v8kcbpXHva39f6+tbW/3zteK2PuWT005bf97Y390LLu8rX5k/rqcI3Pa62DlS9PXHv9ec92eHu/u91ae94b2GNjKadFu5V7ixHAIcQpxMHEebPrtMPJsO4HeyNtxxOl03pQ/86aMlXNvp9EO55YTDtSZ57r8dooh9245p7T9Vt2TLj/v43hXfYeuK++B9j+rQ5XnB5tZpb8HbcOx8dhz702514fVXkur/QGS1ntZ500aZO11udkr+jC72p/uXYP9LH1bpXc7j5A+9hiF7lOn3+oXrMYg/d0ag8wBbZppsCoTknfFag/fer7zZhxXbe20zMM9fUo+yPh1es9Ft6nzrtK7X11f23HydnthNTbdjxU9N3tkLPuZtt+VDWbtdj7akzKTNsc97/Ncp6362G1LWve7xy5pIek91qv6gDq7L8nTdb03tMfAVk6Ldiv30g46TjWOKPfYpFeOYOXMYDol0lZO7lbeWW7SeU3aVhv26MNDO6l7oc5764bUTX+7LfM6hxXounrM5nXGUOQI2Mwq/T1oGwbeZ23lHusja6H3ktzvvQFWh93sGTPvau2lrpk36VlvL12D/Ry8Zj9qslfO/RYyttDpPVbpf7dvjsEcxx6/zpf0tKXLzJyEtHuWMem6Mmbd/jkHM31rDKg/NgdH+wTJN8dp1dZOy1hvpa/sPSRv6rxnvrZIvj26jK6z+9Lp6Xf6AnvrpJ9lTHq+5nXKTtocp6T3vNL+PN95ods407qMFXlur29vDe0xsJXTot3KvbSzmw4q70lfOYJcrzbx6UT3HMMspx3LinZcqeeWw2lWB42XsNenPVL3qr9bB55ZV5z1fOaZHKo8P9jMKv09aBvu/affky9rIfvAPAR3mZB7WRvzOsw6Scv+skXWY7fh6BrsZ2DV9peS/br3ykD7Umenr/q/16+MTfb4LncLylvVE7baNlnt4V3uHMukpw9749Mc7RN5cz3HadXfbn+PwSp9jnMz/cI987VF8q1YPdv92yLzsZU3Yxi6H3k27eK15yXPZk73SPmdN2lhzsHemE6O5ntLaI+BrZwW7VbuZTq7XM/D48oR5Hq1ic9ypwNuZjnJu0XaBN3epN2iHdd0qPfQY7IqJ048B5SQZ9LfdpxNP7cav/S9eSaHKs8PNrNKfw+mDed62n6usw/0+skhuMm9We5cK33oztpbrbEmbbrn8Atzza/a/RqyN/VeGWhf6u30Vf/3+pWxyR7f5W5Beat6wlbbJqs9vMud45n09GFvfJqjfSJvruc4rfrb7e8xWKXPcW7m2rhnvrZIvpQJqWf1fPdvizkfq3Htueh+5NmtejL+mdM9Un7nTVrousnXc5K6tki+OfbvCe0xsJXTot3KvUxnN53DKn0+2w4QVk5p9fzMG2eQvLPcFVtt2OMeR7XHdLR9r/sF7diT1s5vjjv0gScHi+5n9yM8k0OV5webWaW/B9OGY/Nb6X0QTp7sV6HXaNbT1p7R6yl5U9csd7Lax7bY2xseRfaTHqNA+1J3p6/6v9evjGPGpp/vfJO9Mnsf7PRJ10V5pPVczzFNeurbGgPSe8yO9gmSb9rKrbZmrGfeaYOruUze9Oue+doi+eb6SDugx7fr7L4cZTVvXWbX1W0IGdPM6WqcJlvzH3rM836Ox4qUOcf+PaE9BrZyWrRbuZfp7NqxQpzK6sDRzqE38pTZebvcdqztqFJG542j3HLYW054jy4/TrFZ1bNFt3+L6WiTPsvvZ6APCVvOddZ/pM0iAZtZpb8H04Z5TRrsHfR7f8qeBUm7Jy+krm5D9opbB/Fba7D3x65/0mXu5VuRPs69ByhrVW7S4Na+C+lH9vOtvMnXe1ePwWpcIXlXdB9Wz8/xSnra1W1tf5Q0mPlu9Sn5YDWuPRfd1ow1dL+S3mnd1t77MwZb7YU5X1us+hZSNqROWD0TG4Sk5brbsGpzp/VYdnpIO7bmP2ldJ/UkPWlNj3noMrdI3jn27wntMbCV06Ldyr2snB3XIU5j5aSgnetkOoK9vNDOYCtvHw5gzwlv0U4r/Wty76hzShu2mHUkfZY/nWkfeDIes5/T0T+TQ5XnB5tZpb8H04anbSdf1sLWXrCi1xKs8jSdf6vcXovd1r01uDowT7JfdJlHDtVN9us5RjDHdUX6v9evjMtWwDBJv6CDkC2Sd8VqD+8y53glvfuw19aj+bpPq/tN29RqDkjrfnX+9r+TbmuX2+mwmq8Vybfyqd2+vr83nz0X/fyK5Ot+zLmc89FzsDdOXcZsx1wnW/PTeVYk7xz794T2GNjKadFu5V5Wzm51cGyHkbSwclYzT5iOZ88Rz7wrR7vnhLfo9q6cVe7d45xWY7DVptxflZ+xhz7YJH1VZjv6Z3Ko8vxgM6v092Blw6v1nbUwD6PQa2ErT0jZydeH81570OsSer+EvX2smXvaiuxJXeY83N8i9Wz1v8sG+rfq/16/Mn5zLI76g9kGyun5Wz0TVnt4t3+OV9JnH1ZtnXO/lW/mSTp1dD8gbWxWebqe2Y7uX5jl9pjOvm7N1yT5Vr4Gei30OHfdYTWWq3zTTjvPnEtIG2GOwRzXWXbofqzy9P2tsZgk/xz794T2GNjKadFuRUTkKPoMkcfAWoJnCmpEsEkDWzkt2q2IiBxFnyHyGFhLYGArzwQ2aWArp0W7FRGRo+gzRB4DawkMbOWZwCYNbOW0aLciInIUfYbIY2AtgYGtPBPYpIGtnBbtVkREjqLPEBG5Lga2cmq0WxEROYo+Q0TkuhjYyqnRbkVE5Cj6DBGR62JgK6dGuxURkaPoM0RErouBrZwa7VZERI6izxARuS4GtnJqtFsRETmKPkNE5LoY2Mqp0W5FROQo+gwRketiYCunRrsVEZGj6DNERK6Lga2cGu1WRESOos8QEbkuBrZyarRbERE5ij5DROS6GNjKqdFuRUTkKPoMEZHrYmArp0a7FRGRo+gzRESui4GtnBrtVkREjqLPEBG5Lga2cmq0WxEROYo+Q0TkuhjYyqnRbkVE5Cj6DBGR62JgK6dGuxURkaPoM0RErouBrZwa7VZERI6izxARuS4GtnJqtFsRETmKPkNE5LoY2Mqp0W5FROQo+gwRketiYCunRrsVEZGj6DNERK6Lga2cGu1WRESOos8QEbkuBrZyarRbERE5ij5DROS6GNjKqdFuRUTkKPoMEZHrYmArp0a7FRGRo+gzRESui4GtnBrtVkREjqLPEBG5Lga2cmq0WxEROYo+Q0TkuhjYyqnRbkVE5Cj6DBGR62JgK6dGuxURkaPoM0RErouBrZwa7VZERI6izxARuS4GtnJqtFsRETmKPkNE5LoY2Mqp0W5FROQo+gwRketiYCunRrsVEZGj6DNERK6Lga2cGu1WRESOos8QEbkuBrZyarRbERE5ij5DROS6GNjKqdFuRUTkKPoMEZHrYmArp0a7FRGRo+gzRESui4GtnBrtVkREjqLPEBG5Lga2cmq0WxEROYo+Q0TkuhjYyqnRbkVE5Cj6DBGR6/KtwFZERERERETkjHwT2P7hH/6hyKnQbkVE5Cj6DBGR62JgK6dGuxURkaPoM0RErouBrZwa7VZERI6izxARuS4GtnJqtFsRETmKPkNE5LoY2Mqp0W5FROQo+gwRketiYCunRrsVEZGj6DNERK6Lga2cGu1WRESOos8QEbkuBrZyarRbERE5ij5DROS6GNjKqdFuRUTkKPoMEZHrYmArp0a7FRGRo+gzRESui4GtnBrtVkREjqLPEBG5Lga2cmq0WxEROYo+Q0TkuhjYyqnRbkVE5Cj6DBGR62JgK6dGuxURkaPoM0RErouBrZwa7VZERI6izxARuS4GtnJqtFsRETmKPkNE5LoY2Mqp0W5FROQo+gwRketiYCunRrsVEZGj6DNERK7LuwW2P/7xjz9X3pC2ynsl6OdPf/rT5b0j/PCHP/zq+9///rfSMn7c6/T35Be/+MU37XpNf29B+at0kUfwk5/85Kvvfve7n+3sO9/5zlc/+tGPvvr1r3+9zPsosjeu7h2FNn/JdfcoHtFXkXvQ3uQo7PXspVtnU9LjH+AHP/jBV7/85S+XeR9Fzla8ru4fgbPiM50Xt3hEX+Xjgc28eWBLXXusnjk7jwj0soEa2P4xlL9KF3ktCboIZrFn7Jjg9nvf+94y/6N4bbDHwYrnv3QA/ggMbOWt0d7kCOyf7PXYyyqwxS/kXvwD+fERv/rVr34j/6PI2YrX1f0j0Maf/exny3vPxCP6Kh8PbOZNA9v+dGuLM3ySdC9ZoPDowPYZeUR/j0D5q3SR18ChBufPJ/Cdji1jc8/saDlofeng+1EY2Mpbo73JLfIhJrYCM7AlcCWd4HaV/sxn2JzNzvDBZ9r6zP5Wng9s5s0C2xwKgSCt73UgBPMTr2wYzTT2LoO6CABznWBw1jODrqSzkbE5dd5ZX8qfgWYOa8B197vpPq7u597W/Wy2uV5tpj0GW3m6n1x3/jlPMMcQ5hjMueh7j4TyV+kir4FvPbH9+al21vLcCyasB9Zn/5Q55XGgIGDO+mD99SEj+0dfUx515hsEDl3zuUCe7A1AHq7TDp5d/aSae6TnmwjY+mldtyX5VmPCHtf7C23o/SB9Pdo3kdeCja3SRYC9KPsQ+zfvez/tPKs9j716nocmr/EPs+5cs9f2c1t7N/v7bB978tzP5xk8/aLNCfp5ZvXN72wL+VbnwFv+IX0j7UjfRAAbebPAlkURw1zdx3hX93L4WcGiSL4sgi2ygUyyQcDqftOLLv2Zm0S3l+v0a5KNY3UvpMzVvWy2ue6xoOzOO0k+6I1lRfdvb4y38vWYPRrKX6WLPBocOA4dJ72637AWkpfngPdJY+2yRrJXZC1D0vqavYtn53O95oEDEOnt9NMWDiQ8y3pc9YPnoNucevuQk/2Mw0XyUQdpvE8+nuHZHFaoO4cT2kKe9ONI30QeAba1ShcB9iD2HvZS3mMv7EmrvJPsv+xzq/vhNf4hbeK1r9lnaTfX2eNJy3OB8rP/Quog4OXZbkvv+9njSc9+vtr38T3pR/LljEkdyXfEP5DGNRzpmwhgL28W2GKIMdDV/RUdoLGIkp7FCBg6ab0IIHlTL6TuztubRtKAPDO9F1MWdbcLum1J6/rS3s7b5XbebkP6MetL3h7XtA2yOW2NZTYd2CpjpnW+e/r7aLpOkS9B2zIO9cgnxVknfTBgHZDWawc4APR6zHqa13MdpY5OIw9t7Gvy9D4C6VOXyTXP9rcD2TO6zeTp9gb2p97Hsq/0GAD9zcFvq2854HSayCPQruQo2SfZp1b3J9nz5n47eY1/SJtSR67nc9lbuy3Zz+PDcj37hw9gn+8y0+bZt7nvs3dPPwLTH8zr0P5hq28Evqu2iAC28dSBbYx/1b6Ul0WfRQC9ULuMXkSrvEmbbcymAykjC703HciGAknrts1DXJM+hV64s78hedPmvbq6bXOD6TRY9bkhLfdD7h3t72vpOkW+BPnkHjtmDeK0bwW3rFEcdKdlTfSn20DeXtNZo/N6HhRmPmAt996VAJG6J6TnAAFc9yfqgbbRZ97nudWanoeNrQC4uadvIo9Au5KjZL9jP1rdb/JPOObZccVr/EPyZZ/dem7mg/iwXGfP5pV8De3Lvg+rNkP26vhE3q/GgPvcy1ge8Q+0g2eO9E0kYBtPHdhi+DyzWgCUw70s1Bg79MEr+SBpkLRuT9LmRtZlZzFttS0LHZK21TbIuKzohZt8s77kTT8oP2kzIF31Y2t8VuWsgtkmz+7195F0nSJfmth/B4QrWKNznWZN9JqGmTf7x9b1XjqHhV5vlEueLbperue+B13P3ifls39b5TX39E3kEWhXcpTsabf2sZyh+iy5x9zzYe6fYead+baeW6Xjt7qN2Wf3SN5Vm6HrmcHrpO/t5QurPuyliwC28WaBLYuCerbqSiDVwVieWS2obCZnDmy7bat+pC54hsC2g/DUd09/H03XKfIWZN2v7gXyzHWaNdFrGmberKet6630HCr620/KXX3KvoJnKXOm55sI3hvYytnRruQo2dO29jH22vwqZvVrly1e4x9mvq3nVul88Nnffmafnb+YWbFqM1Be6jGwlWcA23izwLYDpQRxIYYaYrBbQRckyEqA1WVsBY9Jg6Tl+a00WAV5LHKu52Jf1ZdveqDbNvsA3Y9euFv1JW/K2BoHyEYGSVu1F2aft/qwKnOvDY+k6xR5FLH9/LyqIVCc+9eENTrXadZEr2mYebOetq630rmeQSzlkufIwYV8lDHTKSP9TR9Wa/roT5E5AKa8o30TeRTalRwl+91qX2RPZb/l/r1nnLnnw1H/MPNtPbeVr31B9tn5U98VqzZDysi5mPfz/AxHf4rc/uFo30QabOPNAltIILfHahHP9A7GYtydtzearcAtab0IkwZdRtL6QNvlZlF3GyB5bwW2XW6PUS9c+k/a3AySt/vRZaza1nm3xod2Jp0yug95vtMgz27NxaPpOkUeRZxwr5O99AlrdK7TrIle0zDzzqBuXm+lc8jKoSFkDc/01SfrXPc+BFnf/W3E1oGEZ7mX6+wr2X86X54/2jeRR6FdyVGyZ8/9E9jDuPeS883c8+Gof5j5tp6b6ezhs87s7zOd4Lf3aeA9eVf7eX+gyjfY+IH5YWr8QT4sPuIfjvZNpME23jSwBeraY+bPIWdFHzBj7NCbTRYQJA2S1mUkbYteSB34bZG8q7Ipq9u2YqsfkHbPa8iGtUXyQZfb6d2/bD5sOklbkXxbc/FoKH+VLvJasi7Yf7Bn7BiHjRO/9Q0ojnkeFrImeg+BmXcGdVtBXqfTHt7n0NDkW4XZD+hDBXmAtvAJPvlY7/OQkn0h+YD3pPUn/5Sd8SKduvOzvbTzSN9EHol2JUfJns1+1OnZA/Nh4oT7nX8y93w46h9mvq3nZjpt5Vc1nQcIeMnH3kxe9ur4jN7Ps8fjE+hf7/tdN3s7+37ycS++tD8gPeIfSJvl76WLALbx5oEtsPips+nAbMIimPm3jB16Y9kK3JLW9SYtG1SuoQ+BIRtcmM/t5U37u31AWjaMOSadL/fmdZNy9vJ0/Z3e7e2+d3CbDTfXGfetuXg0lL9KF3kErOXYO06YtXIrqAXWRdZGyJqY+9bMm/1j63qVzhqjfTMP0N7ZDw4Qcz/jHgeP3g94v9r3+vADORTNfDybwwrwTOc70jeRR6JdyVGyZ7MfdXrvaSvm3j95jX+Y+bae63T2Yd6vPvgE/Efv59Q3y0s7GAt8yFY+oJ6576/Ogbf8Q/ehn9tKFwFs410C22eFcYC5kclzot2KPAb3PfkI6DNE7ieB7eqeyDPBHm9gWzAO4AHvHGi3Io/BfU8+AvoMkfsxsJWzwB5vYFswDuAB7xxotyKPwX1PPgL6DJH7MbCVs8Aeb2BbMA7gAe8caLcij8F9Tz4C+gyR+zGwlbPAHm9gK6dFuxURkaPoM0RErouBrZwa7VZERI6izxARuS4GtnJqtFsRETmKPkNE5LoY2Mqp0W5FROQo+gwRketiYLsB/0ieMbkF/7MVyDV/cHpVnnwZGPNVuoiIyESfISJyXdjjDWwXGNieA8Z8lS4iIjLRZ4iIXBf2eAPbBfcEtqvn5W1gDlbpIiIiE32GiMh1YY83sD3Ad7/73c+D9cMf/vA37q2+sSVfp+U9/PSnP/2NPNBlhi4bVvV/ZLbGTUREZKLPEBG5LuzxBrYHeE1guyLlzbQud+tbY/9I9h/DeKzSRUREJvoMEZHrwh5vYHuA1wS2eeYXv/jFN2nA9cyb5/lWd+brb37zre9Hh7FYpYuIiEz0GSIi14U93sD2AK/9KXLyJq2/de0gdj4/v51N+qodHxHGYpUuIiIy0WeIiFwX9ngD2wO8JrDtvEnrclbfzt76n1fNny1/VBiLVbqIiMhEnyEicl3Y4w1sD2Bg+5wwFqt0ERGRiT5DROS6sMcb2B7grQPbPO//KGofxmiVLiIiMtFniIhcF/Z4A9sDvHVgu0qj7KRRZ57/yDAWq3QREZGJPkNE5LqwxxvYHuCtA1vY+jmyP0P+YxiPVbqIiMhEnyEicl3Y4w1sD/AegS10OeBPk78NY7JKFxERmegzRESuC3u8ga2cFu1WRESOos8QEbkuBrZyarRbERE5ij5DROS6GNjKqdFuRUTkKPoMEZHrYmArp0a7FRGRo+gzRESui4GtnBrtVkREjqLPEBG5Lga2cmq0WxEROYo+Q0TkuhjYyqnRbkVE5Cj6DBGR62JgK6dGuxURkaPoM0RErouBrZwa7VZERI6izxARuS4GtnJqtFsRETmKPkNE5LoY2Mqp0W5FROQo+gwRketiYCunRrsVEZGj6DNERK6Lga2cGu1WRESOos8QEbkuBrZyarRbERE5ij5DROS6GNjKqdFuRUTkKPoMEZHrYmArp0a7FRGRo+gzRESui4GtnBrtVkREjqLPEBG5Lga2cmq0WxEROYo+Q0TkuhjYyqnRbkVE5Cj6DBGR62JgK6dGuxURkaPoM0RErouBrZwa7VZERI6izxARuS4GtnJqtFsRETmKPkNE5LoY2Mqp0W5FROQo+gwRketiYCunRrsVEZGj6DNERK6Lga2cGu1WRESOos8QEbkuBrZyarRbERE5ij5DROS6GNjKqdFuRUTkKPoMEZHrYmArp0a7FRGRo+gzRESui4GtnBrtVkREjqLPEBG5Lt8KbEVERERERETOyDeBrVJnk3arlFLqqPQZSil1XRnYqlNLu1VKKXVU+gyllLquDGzVqaXdKqWUOip9hlJKXVcGturU0m6VUkodlT5DKaWuKwNbdWppt0oppY5Kn6GUUteVga06tbRbpZRSR6XPUEqp68rAVp1a2q1SSqmj0mcopdR1ZWCrTi3tViml1FHpM5RS6roysFWnlnarlFLqqPQZSil1XRnYqlNLu1VKKXVU+gyllLquDGzVqaXdKqWUOip9hlJKXVcGturU0m6VUkodlT5DKaWuKwNbdWppt0oppY5Kn6GUUteVga06tbRbpZRSR6XPUEqp68rAVp1a2q1SSqmj0mcopdR1ZWCrTi3tViml1FHpM5RS6roysFWnlnarlFLqqPQZSil1XRnYqlNLu1VKKXVU+gyllLquDGw/6c/+2T/7eSDCH/zBH3x954/Edd+HR6rL/8f/+B9/nXpcefa3f/u3v075OHr0XCillLqu9BlKKXVdZY//9GpgG/7e3/t7X9/5I3Hd9+GRMrB9uR49F+qrr/7SX/pL39hUIO1ZNNfr7/3e732TNtvJeiJ9imdI7w+xep3PD7feStQ995+riznreWPs/+pf/atfX/2RZp6X6h/8g3/wuZzMM3bDvjnnO/bB/X/+z//516nfVuyllXJ///d//+uUbyvl8vrMoo0vscNHzdOX1Jwz9TJlHbGmtvRSOzqL6Nuf/tN/+nM/GY+5J7B3kDbXO36px+3Z94XZr4+gj9jnqyjz9un1407gPChPx5wNvHmkDGxfrkfPxUdWnOse7+1442wa1s8qsGU9JE+ry+iAZiv9LUXdtOMjiTnreVsdKGaee8UB87d+67c+H0J/53d+57MdA4dL0qCD0V4L5F9p1c48Q10rpdz3Xke3RBtfYoevnae30Jwz9TIxz4wla2drv3ypHZ1BObcxDqxn9o+5J2yt9zkuz74vrPa6q+sj9vkqyrx9ev24E9iHYl7nWCStA+CpfDPUbKnL4X02SJiBbRZXWAWve/euLvqtXq+2wVu8V9CHEqyybm7p3sBWPYdWB4rXBkwJalffpJLGvbapHDTD6sC5amc/w/2pZz/ARlvtv6XXztNbiL6p16vPS1tz/lI7OoOylvf6t7XezzYutJU2fyR9xD5fRZm3T68fdwITaHIQzvtsRNmYcj/vW73BT2agmvK36Pxb5U4nknQDW/VStW2vgsa229hZNn6Y6jXV6npgOvf+gKjfb62brIXcz/Vq7ZA264f0t/uTgHemzXas1HWn7FzP/k7NPOw/XR4B2s9//vOv7/6RaBc/3SU4Iw91znrSj6lVen4+l75SLt9abv0kF3GPvPPbTdpFeh/skjc/xaN/kPfcC50OPJN2rfq5UuxoLy/tZmwT+GbfJz1B7+z/auzS5vRjBtIpt8djJcqmDPLRLp6hHelD2pX6Zj20tfNkrFZzSHryMV+Zn9QVMY5pS/LOD4bS92cWbVevV2wcO+F19ZPk3G9lv+IeYFN97tnTEbsmjTKn2Dd5putifc22zLVJP6kj+Sj/b/7Nv/nNM4HnMhYo72eeVVrSU3eu51jxfvXhHHVlTOhD+kr6LVHXXNdpR5S+UC79533Gfgo7mOWt2nxkPyG98zEX8eFzL8u+1WcOyuO67WVlp7Qv9kwe6kyf1fmUefv0+nEnMAuVBZBFk8UR4+4F1WPFAkhaL/IsEshiTVkzb+qHbLpdbjYZypn5UNLS5o8k+q1er9gQdrultmm0ZY+d3g6y7bxpu227b3rtNGlvys51t7Xz9hoOPIu6jtWaXZFno1W93e9e9yt1HtqAQ85BA3hPng5ucfpAGnnSZg6AUdKmVun0gXo5AFAec8I1deyJ52aeHCj6MJFDVw47PAeItMwRdXce0hhL2tNj0ba3UsrLnB4R5fMM45P29nii1dhxTVszd3M8Ui6ve6JsnofZX8qPTWRuMn6IAx71kp45THmzPRkb7idfxpr3Ee9JYwzIx5ikjh5Xnu22PKPoh3q9YidoZQto2hHrOXYYu44NzvU1ddSuuUd5sy2pJwERz3PNWsreudpf6Sd19Jqj7NRDuaRTbtYJ6jxpL3lSbz+XNF5Rrtnvki9rffqc9Iu6yZc2JG1PlEm+jAFkXnsMZpnUw3xx3fPGM52H65VtpLxb+wl5SOvysCHSaXsrfUm7GVeebVvreqO2SZ5NW9q+1bmUefv0+nEnMAdPNogsjmweuceCyAbSY5X705mzOJOXZ1EWyszLgkveLNbUNfMmndcoz3baRxH9voJiGzAd15dW2+p0Fq2sDYjzWdl0nEf3I2n9bNs971HXMW0fxf7nGK3WYfJCa9UWtErvtK2yk7fb3msxYwSUt6fOs3VAi6NHW06eg8pqTqZmevqQ+YgyV7OeVspKe9M22kt7Isam54923mprxnA1Fv3sSnn2HqW/GecceHtcVu3kOu3J/KUMlHLn+E6l7B5v+k7atP0cMKPUO+vI3KbMzE+3D6XupKfemS8Hx2nrt+bjvUVfrqDYNUybeAv1uootzbknre2GdYTNYDut7KdzfbeO2nXslfytaauM2cpWSZv7E+XNNmctd/+ydqKt9T6fm/ly3e1FKT/5jq7hLW3tn/S/xyDlzTGd88b8TlukjdSTgPOe/YR8BJlT1NE+Bc26KWdla+lLt3nmS1vIp86nzNun1487gSwG+s9CyKKDbC5AehYxRLlebSBd7uo66jqzOWcz3aIXcNJmuR9B9PvsWs11z++X1sr+VsoBAuIUOi1a2Xn6OG006Vk/Xd6qLTzPvTk+qbOddPJCK44N0g+0Su+0HCZQ7w1J36qvx3e1T7Q6DwcBrnG8ORRM4YDJk0+lpxOP0o+pmU5dXNOnSdqypRyyMm8cgjgcUAevEXM1baPnbdVW7q8OOPPZlbg/y7ul9DdzkYMObc8Yr9rJdbcndTM2KOXyuqeUPeeTtP62Ac12UOdcHxF9SPvyXK8BFHtN3xNQ8BpbCMxJzy1ld/+fUT1WZ1Xsqtma8y+ltCGKPXXww3XsCHE9fQDaCtBa1HfErhF22ftF9tLso6mPtkybzj6eNUu5q72HvLPNGYMoeXhtzedmvlzPfX/mS31zDccv7I1nylr52az5Wc/cj2YZ+ZCN14zf1D37ScqaSj1pT/rbeSmH8mYdXT/i/comYwfqfMq8fXr9uBPIZtnGnets3NlMY+g9VrlebSBb5c5F1AffbBCpe4u0CSVtlvsRRL/PrJ77CZvwW2hlfytxL/nakfazXVa3P7a/RQ4lXceq/1mDbf8o5ffhZrVeUZw0dD9W6Vt5aVvS086s2W5DlLyrfaI188SBBwLLOUdc48STB2eO0+5DSPoxNdNv7TurvrVoR/YhXmlvxorxy4GyD2yU2eWu2jrzRFvpLe7P8m4pbe65yOE4h6dVO7nu9tDnHLBQyo3NbGlrvkjrNqGZl/q2xqTHK+tjpa4n5e8RdfnPqm7vGYVNzfEPt+zqkWKeqbOVwCR7JfdjR7eC17176KhdowQvaQe2zvNR1uEeGctZdpQyus1ZK1HyzHmZz818W8/N9HwQudKsYypjNOtAs57Zr2gG0FwzVqQBY87Ydx0pa4+I96s+xJbiC3Nu6GA6ZW1BuVlLqzrSTnU+Zd4+vX7cCZwBZxx+WKVHqwM1aueTxZcFPw/l2UQ6b+pabahTeTbt/Eii32fWsxxSUue0zVZsHVptq3EGs5x+dkXsPA4Kcihppa6t8nu9rNYrShuh61ilb+XtNZt5yvperdnkpbw9rfJQL4eQHGJgforNgYKxo88cJsiTYAqlH1Mznbb3c/cq9SPmpD8Vp305TLWos8ds1daZJ9pKb8UOVvYUEbTS7wTcmd85F5kD7q/ayfVsT/pM/pQbm9nSqmyUcloz79EAIOOyUteT8vuDki11+c+qrT6fRdgxfVhxy64eKeaZOlsJOGIDvI8dvWVgm4Ar+08CrCjrcH4jutIsO0oZ3easlWhrvc/nZr6t52Y67eJ6pVnHVPalWQea9cx+RTOwjZhr0thTuQ8Z65R1ZD9ZlR1RNvsx4nWeCXh2+smprKVVHWmnOp8yb59eP+4E5lCcja8P1zCDTYhi/NCLI2Xemzd1dRuyubRD6+eT1hv3RxH9PrvinJq5SX9ptW2v6m4bnXYWJwjpS9snSvotG227XwUiaedsY9rXB5Beb62tOjp/0ldpqPuc9dlj2NpatyvdysNhYO8wE+Wb3lsHk1lWro8cOlbK2ObbzXyCziGE8aH8HEYi0iBatXXmibbSW2nL3rhm7tLezO98hnHhkIy9ZYxbXG+1k3t7h8nW1nyRNts081LXag2jDg7y3FxnsdfUk3yvCQKeST1WZ1Xsqdma8y+ltGEq9tIf6ERcr3zAraAXUd8Ru47YZ9h3spaztlHSbgU+iHJn2Wi1R6TvUfLM9T6fm/m2npvpqW+u4a2As5WycuZszX1q9ivaKyOibat958h+Qr6tPqSN6SvXLdKY/1si38om4xPU+ZR5+/T6cScwh+I2bq5DNo0YOrRYsJ2/mQs+dW3R+bfKnZt70leL8+qi31dQz/VbH1BQDrNHmE4UTbueeeLM+l6cIsTueZ35WlmDc4xSfx9Aus7WVh2rNq7SULc9zr/L7bXYY7PlpKPO0467lTFA1M2hYR4S0pa0Lf3oPiRIS1koz812Hjl4IsonH/NA2REHyIwDdbTIu5q31swTbaVPkYf29OE2ylx2OUlb9TfzMscOzXKijF+eybxsaTUGiLTZppl3HkqjzG0OgJmrrfKS3nPawn6Y007n/ar/zyT6cgUxzvQF5n74Fkr9U7GL2HrbF8Em6Vt72mp9RkftOko6Za/GJ22cbZlt3LLp1R6RtRMlz2zzfG7m23pupm/tyxmrmT5FP1d9y9hE6dfcu+dY5cOEKcpLPffsJ3t9SDmxHa5bSZ9jOO2IfNMOeE8a+dT5lHn79PpxJ5DFRP8x8IjFRRr3oiyU1VhlE222lLJDFijMjaPrhLkZoNzr9n8U0W/1GMVp7jGdRBTHBysbRVlnk87f62g6KpT10OsSpeytsvqZVT9R9yF1r9JQl9FjMtc2dL+3nHTUeVIHBwUCV67TnnzTEAcM9Jc8vHLdB4wcgFIW8H7lvElPO7o8WM3JVJ7vuaA+0mCWQb7Om4MHrznozjzRVvoUdTIP9IGxo1+Qb11pcx9suEf61nxRZ/rT4nqrPZk7oPw9Je8UabNNMy/9yNxyj7p45Zr0Vvrf+bie9SQfB1fyxX5I4310dD7eU7RZvV5ZAytl/UDbEesZO2QtZr/Knp49bUv32DXq4GRVdvYknuU95WHfM/+WTaeP3T/ekxZl36WP5I/SZtJoZ8pKnnkdrdIzfj0mXCdtT/GR9I8xgMxrr+uUSbvZl6knY8V1lHzZJzpfl3d0P+F6rw9p62r+2fNpL8TW0r7On3yxg24LtFKfem5ljj69OlnqfNJuH69s3g1pe8I5JC9OZEuz7PlhTBwtzAAI3RPYoq6vn0k5AcXpQepepSGcZNJ53+o6055c7zlpNPPgZGcfZhkcnjgg4JzJwyv960ANUVbGKeWkfy2eIz15KY/yV/OxUg4t3c7Yx+oAQv8yToj60+ekzzzRVvpK6VcfWjIOc6wyv92HFv3JeLe6zSul7mkzU9Q7y0arNq3y0h9sIG3c6icive0CO1nVw9rssaOfK9s/Oh/vJdquXi/meW8sV/sAyn4VO8Km9nxG6x67Rtnn8wHZFPY729KBGtqy6dUewXvSWhmHTqe/6QPlpKysp3kdbaVTb8qjD8k3x36lGcgl2GylX9OHcD1F3i6P96t8R/YT0vf6kPPCnLOIfXraC/Mx7WXaJM9k3lq3bF49hzJHn16dLHU+abfqDMJO4egBTin1ZaTPUFcXgRt2fiSwVepqyh7/6dXNXp1P2q16FuXTY+gDRafPT6SVUm8rfYa6ivAnfAs5v5GOz9HfqI+o7PGfXt3s1fmk3b5ejKG8LUqp95HrT11FfDPLz2z5SS/BLIEsP8slbfXzaaU+grLHf3p1s1fnk3b7ejGG8rYopd5Hrj91Jc1/H3rr3x0rdXVlj//06mavziftViml1FHpM5RS6roysFWnlnarlFLqqPQZSil1XRnYqlNLu1VKKXVU+gyllLquniKwzd/F2uJL/Z/dKLfroR3qXGLelFJKqSPSZyil1HWVPf7T6/MGtvAl/v7jrNf/i9z5xLwppZRSR6TPUEqp6yp7/KfX5w5sv8S3qSnbP2J9XjF/Siml1BHpMx4jvghgLP1C4Lj+4A/+4Jtz5z1f1vDnfHiGP+WjXq75K82GGOO3f/u33+X/Js0auncdEbfQbvWbyrh8en3/wHY1sRga91btS3pg02j1xtvl/LW/9te+ed/0RtMbUJg/ie5Fkj+IHfp5DLDrT5A+61gF2LNcoKxW56FN6XeY44KyKJqVZv33Lr4vra12q/sU+/wSHyA9s37+859/7jd/90+9TnPfabjHWL+1XuL8s6/P/f491D5mBQfe9xjXlZjj9g/z+lnEuKnXi7llLJ9xjp9Vfebr8+ae8gw+6qP550cr+ynnHXxDE3tmT31rvWSvfIlv+yjKuHx6fb8B2gtsY2zdvj1n34eRfrb5yU9+skzPRhODWdFB5VY7yDOD1kn6POnNbgaVTbdjL19obY0LdBCcYGfyTJsr7VGvV+b6ozlO+s2Bgb4fPWiotdhXsJ8+LMDv/M7vfDPGbx2EZS+/R9nX25e8l9IW7JT3Dfaab3KeIbhl/iGa18+ie+1BrcXcMpbPOMfPqpcEtuyf5OfbWl6f5YOsMyr7Ka8r5e8BO8bnFnP49ev7bfZbQV7TB+7k7w11dTDPxgurTST3OPxEvfF0+TkgQcrKIoGuF83ANgFjtynld176EaWf3b5VP2lPnu/0bnMWcrd51Y/Uv8qHktZtek/RFvV6rezq6uInR/SZgwP9fo9Paq8k9rPeM1u///u//3msHeP7lH14a7+NDT/DuM7537OH9xTjpV4v5pax7DnOmYW0PpdAzkDJk3yt9kN9BoE+G6Euf+sMhLo+mGsp92f5XT/vW0kP6dtU1837Puv1uWpPPMf6zlon+NoSZXad9Gm2jb5k7oD33b+cG6dmOtc8m4CbDy8TELLf0858oAlckz6112b6zb2pjOPRMYwyp3M+o9yPjXT+9CX3mA/ep+3c5yyx+inzrXlhHHstcK/Hj2dTb8Q191p5LvUwfnOM0qeZd2t+zij68/Xr+232PeFbxBBj0J2GOp33qBfvSrnXBoPBbT2TdsYAYyCzDNTt6Q0zxgjd/pTdeVtdF5A/wnCT3kbcbUh6+tfPI/q0aufMl/RehO8p2qJery272FPbXWj1/VZsfdaVvL2Wer3AXB/Txjtv9oEtJT/OOJ+Kb23slJUxAtqeNRXF0cUZ8cp1OzrSu3/RTOea8nFMvO/1Rr6kA21ZlbnXZvpM2uwD4pk5N0dEG/f2Be5RZ8Q17Y5zpc7MGfvddNC9X0a35oXySW9xEOvxmw49e+2sj+con3vMLfVOG+Ne7Cl2QF0v/QYgbVnNbzTHFT3y0MUzsYnkWfVpzv+8fhbRfvV6xe56jttGVqzuY1tRr+UVXRd2u8qTtZK1s4J2RNkjoJX0zrtX5twvbo3Fau+dyj6df1ubPXHuOyg+jDGkLZTPuqcdWfcpj3HkPWQvzB6Yfk/NdK4pP3sB9VEPbet02kL7SYPWrTYnaJ5+Oemr/WxPmb85V1FsKnOT/LSHNPqTtjCGtJW2dNvpd+vIvFBW2zZl9Phl7CkrmvNBu1I/dfBc1lM/131atekKyrh8ev1NQ34rMZjUv0Urk7IHk4QwFK63Jiv5MZAoz7SRRTGSlNdtSZ0Rizv3uvwYI/TmlDHoevf62n2i7qTzTNRtmGOy6l8rfd3jGfQs7Ti7pm3fUuxoRWyt7S922WmQNdC2nrStOtp2Z3mrPFvCAbCZI5wCzzEOU9SRTZ++0dYcMHLgQCmPNU6erHXyRlz3fhDNdK67LBwcipPs9FVbjrSZ+922iPR2hEfFmO+NO21p+yJv2kD7Yje8p52kx7Gn7RkHdKSPmYOI57nu8cu8xe5SP69R1gfjQjr1UW8/h8hDOn2j7JRPeuc7qrSlbaPFwShj0MrYPuLQlfHJGPOaPvWBc87/vH4W0e4riLGlLzDn/y2U+nuOaUfahJ2grMEQJW+3vc8dvRd3OjaIKD9pKzvrtkRZT5DyWZdJS5tRnu+1l7SuL23rfnSfV89D17Wl7GdZi71/tdKHHjNEftZuxoz6u52Isnl2a8+MZnquqaOVeZn7XfKnLUfanLZNf8T+w9jcq8x/2tBKvZDxTv5Zf/o4y0n+zO3RecGeYlM5i0z7oL9td3M+uN9tj2KfmY+0cbZpzs+ZlXH59PqbhvxWWm0WW8qk7BGDoDyut8pNfiY02nsmBpKNodsyjSEGDV1+jAd64a/GIPkgZcw2oCwy6HZ0G46OSZR69ngGPUs7XqvMC0zH8xZa2dWW2t5Wawdi27Hr5OtnIXaZdZH6Vza9sudOg6OK82iHlQP8LccQtXNNe9OuiPLpU8okT49ZNNO5pvwpyqI9U+TvNX2kzQlqur84XNI6YDkq6l/tK7Qh7VnZyxxv+rgqh7TYBzrSx9hVRHqXgegr854DWvb12F1sZc5bbK/ng+tZfspbzfst7T1L/fSH+2k7ii2m/VHKmmtn2lMfujI2065X7ZrzP6+fRbT77GJc6Ucz7e5LK23oOaYNsy2xFWh7yfrtvEmDqVlG7Bymffa9uQ5WdaQvWQvd5jyf9dJpqNN5j1Zjg7rc2eYp9kXyZS+LWI9zrglKyTv72trax6a4T76pmZ7ruX9vKX1PG4+0Gc09O/24NX4r9fivmHtd8vf+irLvcn9CeubsaB+xk9hK5h0/Rlu2xnfOB+/nXo7mvKeNs09Jv9XWMyjj8un1Nw35rZTNcG4CK21tLittbS5RysmEo72NNe3c2/yibmeXH2OEbIJojsFW2WlfL/StTbzbkMW6eh6R3uOUds58zybaeHbFTpu3Hvctu1iJPOSd62pl89OOUk/gGmUMcp18s46kJ1/XmbQjSlDHph/FCU2HibOb7ZiKo7sl8vR+EM10ruenxHuifd3GI21eHRDmIeIeUR/lbcH9dtJcz+A9bWIu2cuazH3m7EgfY39R5p3XnvsWdZGHV5Qyer+O5ryn7CnSV/N+S2nLFszVlz50bYlnu0/MRc/HvH4W0e4zq/e8yUvn8iVibqmz53jlG2J30HtN1jNESVvtQSk7+/zWuQdlzcJUP5c13Wkoz3c7uh9bpH+zrVHPXY/FSlv+KGPU6z7t3VPaf8tGtsqa6bfqpB76QD7sgf266z/SZpS5yX6dPfxoQN3KGDCG1N8wnrPMrTGL7W8R+z/aR/L3mqHPGS/ATzKW3b4uO36TtJX63lafttLPqIzLp9fbg/+ltNoM97TKn8Xe/eD+XrnJ38aQyZ3PdfmZ+M47jaE3sC4/xgh9UJp96rKnQUJvuFn40O1YbaKrcjtfyu18vbEmbW7Y7yXacmb12E96Lr+0Yt9tV1tK+9quo9hx7KPtiL7mftZB6kue9Dlrd4s81+O3as+WcBqzrylrBltHyqa9W/tMa6usmb5XJ+3ECXOfcaa95O/6j7QZMQYJdHCaPHdPQN2ifsqj3gaHvAoiV2PW9rJFbIT3t/rIffJF9JE6UxZ2wBj2WksbkjaD19Ysn/erNm2l31LakjZCDj30Y2tceWaLjPls+56oh3p5hvFgnnm2+0S5KRvN62fR0T4/q57FZzC31NlzHLvotNgw9FkiPgeipM29GaVs8iDKyvOMSSu2DVNbzyWN+yv77n5skf7NtkY9dz0WK2Vf3yL7NjqyltP+WzayVdZM38rHHpu2Z5/CpyR/6j/SZjT9EmM7x/Wojo5BtJWfPs1zwkpH+0h5vWYQ/cZG6GuC3K6zyzaw/bYyLp9ebw/+l1I2gTmxW8oErOjNgvJI2yo3z0xjiMGs6AXV7ZjG0BtYl99l96a6GoPk2yKiz0nrdmxtovQh6ZOj+Z5Fz9SWl6jnaPKWG0zmGju8pbRvrhu0cuhJa9tHed/2G2XtbpF23nNQiAgKu6wVHTBwvepri/Zu7TOtrbJm+la+HiucHIcbAkfez73jVptRf/qdsntfukdHxyBa5c+eOr+FXOlIH7lPvinml3s5gHWdaUPW3zMEtvNZ2s9hB+Z8MaaPPHS1H6BsrmMr3a45n/P6WXSkz88uxjVzEo7s3Y9U2tBznL2+02LD0Ht021W0SouSHpvrvXCugb6XdRyljjleSe+x7XLb18wyp1LGrGNrLKYSqLCO6e8k45z25dvd2a4EhdS1F/xQD/1H3CffVPoUbeXLfjnbMtt4pM0RbaPP6cMR/7BSxn/WuaWt/BkL2rqno32kPNhTfHXKmuPP+8xha877Vp+20s+ojMun19800LfSajO8pd5kwpyQGN9WuXlutdCPlB9DWN3r57v8GCNkU0JbY5C8gNF2ualzaxPvvHMT7XaEbk80882N+r1Fm86u2Ol7jnOc+pF6t2x1y95Sdshzs9+9KeeZWcfUno1vKY43nyI3qbfbkk+dp3g+47UV/OCAeR7ngshDPa3sI52+yhcHRV3Toc42HmkzyvgxdpR7JCDaEvXdmq/WKn/Ggnbe0pE+MoaUtyfGoMtKG7KXpozV/jjnnfdz3tBW+i2tbCPKBzRzDLgm/RGHruSZ9a8OydTbbZnXzyLafQVlnuHIvv1opf6e45VviA3Dll+IOq3L6PTYK2UlbbU2cw+ifmbadLcTuv5o1b9VPyg7aV1Pnocei6mUuRXApfyUnX2c51rpb8aM+qet5NmUlbJ7TNkT2CNJj5JvirFZ+RHSuy1H24yy15GXdrxUmeMue09b+dPGjFk098WjfWRsYlOk0cc59/OZOf74Ip6b+35sKWeQrT5tpZ9RGZdPr79poEo9u65it9n0YTqet1A2vz2yWWdD7TTUTruVDXk+0+UA+aJ+JhttnASkjE7r57eU/FsBXBx4O4iMDc+26G+cUdo72xBHnLLIM51cxqHHcl6jOJ7p8JKetqAjbY4YizhFApmXinJn2Xvayk8bVw56Ou4jfczYRlvBez8zHfwqiEOxJcqMVvnQVvotpS1bz9Jm7ve8xRbnMy85dJGX93Mukt51zPmc188i2q1er9hezzHraKbFhqH3x6xfiDptRdtq7BTmHoC63gntXCnth7mXo70yZ/4ua8Wq/Ih9bquNiPVIGZ2HD/RIY03STsqnnN6fEiCSRh6u2Q8pJ2s8+wTp3E8eyiI9yh4wlTlMO3gee8jzpEVH2hyRDnO/QmkLr3uijtmGPe3lZ0xWbYe2xyN9ZHyyZpiHlEPefqZ9V/ocMW/kYS7zXOaiPygmfdWnVTrXXcdZlDZ/ej1f45XSbh+jWwcKaKfBJrzKA2yqU30/G2cO1mEeTrbqaGfeZazqnco3UHt544iShzriVHDStB+nRJ58Cori/ONU4ng66MhzcXK88kzSonmN0tduR56HOEZ0tM2I9qUNcw4Q6XBL7ZyPaCs/7Z39TNvbQR/pI+PTbc81+cjfz1AGIo1rXqOsD15JZ46xQ+rvMSPPnDc009OOVd5W2rKVL2Mw28GY5Lm0d5Xv1qGLa+73eDEG5JntmvO5Nb/vLdqtXi/mlrHsOWZNzLTYMGBPUfucKGmUg53mPsw1ENuEtumptGmrnBb3km9Ls11AH1fKGIV+tseilX7ttRNlrLoc9vL0lzXK+p4fStHW7A/A2p7jx16YcnilLRmbaF5H1Nd7RJ5P33sPR0fajNLf7NOttIXXPcUWt+Zrai8/baS+bvtqLNGtPmInvWbwX5SVMeSV/vczq/HPc6QD8zztbKtPq/SUczalzZ9ez9d4pbTbxyhOY4/pNPpgEbbUDr6Vzb439dZs18x35KDQoj6cxMpxRimTvBFp02FMx0CZOKw4I57voBaRp/tEmTgj3vf4zusIpz4PJbSDernufh1pM0p/ub9Snr+l6ZxvaS8/7Zxtn2OJbvVx5fxJ6zHkfR+WeJ70OVY814cT5pH6W9xbzdtMT7tWeVtpy14+xoU8jEOEHfBMt5f7s73o1qFrlpN+M24Qzfncm9/3FP1Qz6nsjdibUi32pT27YJ9a+Qj1OrHnn03Z4z+9utmr80m7Vep1IohhHe19MHBG5/bs8iD2PtJnPK8MbNWW8qHbSvgwbGb+Gkm9Tvin/sD0LMoe/+nVzV6dT9qtUq9TvvHrb+laZ3VuzywPYu8nfcbrxRjKY1Db4pchfADILz8IbFe/OEH8soUPRdRjhd8/o4/Kuvr06gJT55N2+3oxhldE7YtvaPPT6a1PwtFZndszy4PY+8m94fWae628HLWt/DMdfNSRf2qkFMq6+vTqAlPnk3b7ejGGV0Tti4CVceLT8K1va5W6mtwblFLqusoe/+nVzV6dT9qtUkqpo9JnKKXUdWVgq04t7VYppdRR6TOUUuq6MrBVp5Z2q5RS6qj0GUopdV0Z2KpTS7tVSil1VPoMpZS6rgxs1aml3SqllDoqfcZjxJ9hYSy3eKb/mzrtob3RvN7Tz3/+889/motneH3p/503fy8c9saF+/wP/bbEPfKsRLn839bT3pR1b5sZm9/6rd/6pgzKo1z/J4PqDMr6+PTqZq/OJ+32sWqHGFYHgD7UbP1tuUcqdc0/kRInH3Dg6cPe4eA9RHtm+9PuR/3pF8pJmVcUh0z6xp9/2BJ/Soc8ewdX7m/ZB3VwKKeO1MU15arz66pr460VH8DfuWZtNKSxbuAt/MMtzf1gXm+JvpCXfZX32V/ZI+4VvolnGZO9/Z48e74rPm8q5XOf97Q3exnpR31MyiewZYwgZTzLfCq1p6yPT69u9up80m4fI5wVY7nFdLQ51MB7BbZx5A3O/BkD27RvHi620l8qykmZVxT943BF/5j/lXIY3Tu4cn9lHxk/XjkUUhb15NuLrTrVecQ8qtcrPoA1slI+hNr7G9lvJdrR+8G83lL6GOVb1yPPTrGHQPaYrW8/ubfnuxJ4tjLWlL1S6ry1f6WcVf+yr27VodSzKOvj06ubvTqftNvHKI5vj2c71OfQAc+utHMeCrbSX6qex6sph0oOynx4wSFxpZcGtpRL+srOqTvBrd9YnFvMoXq9sv9uBbZotc5YP+xT+YCKtcw3vFOsOepIPl657oCQn972ryuA6/lTX9J7P5jXW6Jd5CXgQ9lbVu3dUz44Zo9J8LhVBvfuDWwZQ8ZgK1gmnfu3PmS4NafsgZTTOjJPvKfu5KG9Mw/iXn+Q2OPQ6cA8uxerlbCPr1/d7NX5pN0+RlvfcsYhQwdfcYAwnUvKAsrrMhI05ICQtA7IYDrWpKcNXUcgre+tDgfzGfox1W0LsyzanHvk537nz5h035uMQ67pV9c7+793r9XjONVzBhmvqPvUynjO/MnbYzjraJtB0xY677SjqeTnYJggdPVv1TJWq7mNuN9zmnatbCaiXsYgc7cl6m974DCWg3Fr5uP9nFvalZ8BpqxZf/rLaw6O6XsOnZlD7jN280D5kcQ4qNcra33abBS77D0Au8MGY8fkSTkz6CJPgqTOx3pArI2UxfoiT/8EusVzPB/N6y2lvZCyqe9ezf2KcuZ+GpFvbx/KnhFl75p77UuUOaOOW/txdGueGMPkYQyTZzWWPNdlZd9MmYxj0lPm0XaqjyNs5etXN3t1Pmm3j1EfsG8d3FEcDbRjyQG66bSUHQe6R5ebtDjvrXr6Xh8O9urrA8Fevi6PfqzyNCiHjknGIdezX/OQwjXp6eOWkg9aq/EK9Bl1W1dpkDnpcUpa21DT47Y1Hp1nSznIIA6IPDfHCaVt2OiWZp2ZzyO2vyf6Rxs51NEOSGDawS3v0wbe56BGWg6/vObwR7soK/PbQUD6yxyTj7JSBuVTRg6U3E+ZH1WMlXq94gOwqynSVoEH9kva/GAlZSXv1nrE7rFznk+eLh+t2sV17wfzek+sHfLDDL6Paq65BLqrsSN9bz/kHnkiyuD6aH9uqX0Ibaat7ClzztCRecr4zb6unk2drfiM2T/KZlxXPkB9bGEvX7+62avz6Sp2G2cFt4KXL6E4mcmWg83hAXKw6LR2Qh1UxYnFGYeo2zEdHrQT6/paqa/bnvHtse0xTx+SdquebmeX2XnnwQqmE57pt/rU47oS5cznu8we056XaNbT/YQ8nzLT986XfudA0s91GhxVAtk+WObgPA9cRw563G/7SH/m4ete5RAXe4poZ7eHccvYRfSDZykDERCv+pc5Th3p7zx0Z05mn5I/c/LRRN/V65U1swXrKx+wRAnwsMEm66Ztn+uXKPbNa8R1r795vRLrLu3I6wy6jigfYqVvKPvZ9AeI9N6bpuKjovT3Vn/uEWXStvYRQFrvR0fmifbOvS7CHrqvlDX3sbYN2tXEByjVik1+enWzV+fTFew2jqrZcgRfUnsHldmezjuDwpkXB5S8OUx32nTIq/Sk9UGg29CKM47DXAVYKG2YQUjUz4UoQQN0mVt1JW0eZGb66vkeq622RpSTvFGuZ92recmYZg67PEgZmetcJ18fUlDSk6/7l7Qj4rDDM31QzoGnxxmlX9OuWtzvtqbfPPsa5RDLgY/3K+VQu9c+RJ7VGM3n099ZXw6d3J+Qzv2PKPquXq+smQ44kobdzg9kEPf2iE2zNudesiXqpQ08yzMEOpRFetRlo3m9UtZP9pfsQbzSN+q5VQZKOXPvjp+a40TaXt+5R54o6/lIW14i2s0YpN4O7knbayuawWtrPr/qB9ek76FUKzbx6VXjUOfT2e22D/qTdsxvKZzYqj3tgNrZxGHHUc/DePcxh4Q4406Lkt4OLmlddrehNQPbruvWmO7NB0Q9Rl3mqq8oaXNsVum0u9N45TrB5p6SF9BWe6Lcy1j3WPFsxjJjnTYkT/qeNm+R57o9Pb+3xOFo9j9lzW9R0oe98rm/sudb9nFEOQAHDrY99mnfXl23gt++t1XerTnp/n8k0Xf1em2tmeyNq283SZ/fyK2Ebd6yTwJC6qDMBE+UvWoX172W5vVU9pa5XydIzdpa7akt2ki+PQjKW6Tt9T11R1ttneK5136Ylf7nA0bK3GsrelRgu/qgRKmVsj4+vbrZq/Pp7HbbB/3J3sH3LZXgBmgvirPptOSbDrb7mINADuOdFiV9HkSgy+42tNKOOMyu69aYdl9T16qeHN6gy1z1FSVtjs0qvctGaVOPx5Yop5/dak+Ue11215f7KO9n+xBjnbQVlIlutWelfAu6R3+Tm/neGy/u94EqfdprEwcr+nFkHugnB9YcBCEH+rRvzxYfFdiugouPLsZKvV7ZH1Z2nA93pv2SdsQms26m2AsIlFgfyTPrzy85On22ZV5PZU3NILyD6expe0pbaCv1TVbl0L+9MSL/fIb8PLcV/GXfpR17ulV39uKM7ZF5Yh/aGivy9D5MWYxLK+M0f5Gi1JZik59e3ezV+XQFu10FBUec5qMUJw7TqaAOlnCQKM6m09KP2fYuP4HDKi1KerclaR0Adhta1E9aHOZWMJX0OOmtfKt6uJ+0PI+2ykibjgS2qNPzPuO8p84f5XrW0XPQfegyIOM47bTLyzPJu6Wt8dlTDk/5NqZJvd2WBIXzUBqlDf1MvlnZa3/mfH7DckuUnbFDe0Erh8q0a7Yxms9nHnsOUercOux+VDEm6vXC/lZ2h7A5ghbuY69R1ut8ZgajWWtzj+D5BHDY9yoIi913HVz3epvXK1FP6op4T508z55+a21l39/Kt2prxmi1P2Zc5r7A86v0aFXPSnt1Z8y5n/4cmafVBw0oz/Z+yvWcl+zX1N2ibMZ3piuFvXz96mavzqer2G0cBrBZv7VS9x7drhxqIAFXp81DRIgDjCPutCjpqzLacXd9rRwm2uH1+EZx4kAbOuhKPZ0GUZwytMPu/N2vtKnbj5J3pnfb4Kjz7ueiTus2JW3aW/cNMg893tBlrcajxyJlbI3PlpJ/61sEDjerAyh9Iq0P1VHGY9af/q3atVXPVA5xM0/qjGjfHPf0NWNFQL+qL2Wlb1lLWwfHlBftBdYfQfRdvV5ZL9Puony712sXG886wj55NuXMNc71Kl8CoawD0rlPfeyTPDPblXzRvF4p64d1Sl4+KEvZ+UaaNtKnlbLOaOeWMkadJ2NEen/Tmw/4qHO1B5GH+4xBxoxX8pPO+1ui3OTnNR8m8so4rMoh3948pUzycC95uCa9xXPcm8p4MwaZ67TTb3LVFHbx9aubvTqftNvHCKfEWO7RB4U4L2jHHufXdFqcImXNtCjp7eCS1geAbkMr9XUwmKBhBfmjVfub9LXHq8el6+l+dWAN6Vuu5+GnxwfmGG0phz1o7fWr2x+t7s8x7HlHs4+hx3drfLaUQHEvbw49nScHRg5PjAnjDTkMzfGO0gfuUwZ9pw2UA6tAuZV5o548HzulnVHaNw9qjFUOrdRFnaTRN/Jlfrus1MnrVPpLG7hPOenLnL+PIsZDvV6x65XdRQnGEuQg7A47xga5h31jzzNY45r0ztflcH+WQ5uyx/Qa4Zp70bzeUtYl+YH+ZA/glTq39oSs1b3xQZRBvl6P6VvuAe9X49SiLtqYMYHsMUdF+YxN93uvnFvzhLbmavaFe1vzwt7VbWKvvqdf6uMI+/j61c1enU/a7WPVjjSQNoXzyf15QO4ycGY5aECCDxzSTIuS3g4uaZQXdRtaqb8D2yj5Q5cXdftTRq7TVl6T1s511VfU6ZC+5fpWO46Kcrae6fGC1bxGHaS29sYWdf2rfFvjsyXq4zC0d5hLmbM/HDjnIY+D0Tx0TdGu7j/P0y/qOSIOw/087WpbjrCbeWiedaQPyUP+OW5ZS6tDXg6pmTf6sqrnI4lxUEopdU1lj//06mavzift9vnVwczq8K3WSjCyCnqVUi+TPkMppa6r7PGfXt3s1fmk3T6P+hvB/lap0z/yN0X3iPFbjaVS6nViTSmllLqmssd/enWzV+eTdvt6MYYi741SbyFtTSmlrqvs8Z9e3ezV+aTdvl6Moch7o9RbSFtTSqnrKnv8p1c3e3U+abdKKaWOSp+hlFLXlYGtOrW0W6WUUkelz1BKqevKwFadWtqtUkqpo9JnKKXUdWVgq04t7VYppdRR6TOUUuq6MrBVp5Z2q5RS6qj0GUopdV0Z2KpTS7tVSil1VPoMpZS6rgxs1aml3SqllDoqfYZSSl1XBrbq1NJulVJKHZU+QymlrisDW3VqabdKKaWOSp+hlFLXlYGtOrW0W6WUUkelz1BKqevKwFadWtqtUkqpo9JnKKXUdWVgq04t7VYppdRR6TOUUuq6MrBVp5Z2q5RS6qj0GUopdV0Z2KpTS7tVSil1VPoMpZS6rgxs1aml3SqllDoqfYZSSl1XBrbq1NJulVJKHZU+QymlrisDW3VqabdKKaWOSp+hlFLXlYGtOrW0W6WUUkelz1BKqevKwFadWtqtUkqpo9JnKKXUdWVgq04t7VYppdRR6TOUUuq6MrBVp5Z2q5RS6qj0GUopdV0Z2KpTS7tVSil1VPoMpZS6rr4V2IqIiIiIiIickW8C2z/8wz8UORXarYiIHEWfISJyXQxs5dRotyIichR9hojIdTGwlVOj3YqIyFH0GSIi18XAVk6NdisiIkfRZ4iIXBcDWzk12q2IiBxFnyEicl0MbOXUaLciInIUfYaIyHUxsJVTo92KiMhR9BkiItfFwFZOjXYrIiJH0WeIiFwXA1s5NdqtiIgcRZ8hInJdDGzl1Gi3IiJyFH2GiMh1MbCVU6PdiojIUfQZIiLXxcBWTo12KyIiR9FniIhcFwNbOTXarYiIHEWfISJyXQxs5dRotyIichR9hojIdTGwlVOj3YqIyFH0GSIi18XAVk6NdisiIkfRZ4iIXBcDWzk12q2IiBxFnyEicl0MbOXUaLciInIUfYaIyHU5bWD7i1/84nPj4Yc//OEyz09/+tNv8vB+lWeL73//+5+f++53v/tNGvWkvM67otvH+1WeW9CG2beUudXnj8aRuRAREQF9hojIdWGPP2VgCwSdtLuDz+aeQHTy3oFtnjWw3YexWKXLy/nZz372eVy/853vLO/LMbKHbMH9zv/LX/7yqx/84Aff3Of9r371q2/l2YI5+973vvfNs7wnbeabdWzl44PA7K/k//Wvf/0bebh/7weGIu8NNr1Kl5ejz3gc7LWc7xhLxpR99sc//vEyL+nZp7NXs8ev8u6R8+qsJ+Vu0fn1GfIsYIOnDWxZVLQbVsFj7s0D5BFWge09fKnAVr4NY7RKl5fTTlUn9HIYO/aoSQLQn/zkJ9/k5TBCWgJNnmUO2H9WB4Qmh0oOE+w1XCd47aCVclIm5ZM3+Xqek4+2EljTprkPce+le6PIe4K9r9Ll5egzHgdnz+y/7NG8Mq5zD/7Rj370OT35GHf2ap49+oEoZL9PWX2P6xXJnyBanyHPBLZ52sCWxUy7gUXT91jkuTc3WhZc7m3lWQW2/VznhaQDz3bbeJ98LPrOC13H6j6kfbmemwakzUfyUOesi3sz/7NDu1fp8jJwUIwpThMbwUGt8snL4CDAAYCAstMZa2D8k5aAde5Nk615Spm5JpCmvN6PgGc7X/bOXOe5XOcQM8sROQNty/J69BmPIx9wzvNsgtgErDm7kd75kr46+23BuW8rsF0R/9AfzOoz5JnA9k4b2AIbKW3vgxlsBaGdPukDZAeAq2eTBknbIot5K2iF1LOVJ23LdW9ce+VC8sEMfif3bIjPAG1epcvLiIMiqIoz3fppE3bXawIb7jUEODScZRwnr1wngGNtkD4d3iqda8rn4MT7fBBDWbQjewGQp7+tDJTXa4D3qWMvkEz5M/1eqI8xSP8hh5lVvaTvrckcGFYHEtJ4fl7P+UybZr5cZy76fsZe5Gy0Lcvr0Wes9+6X+Iz0oYNGmHv3qq+B9h3dn6mH8c0cUs8qX4i/meWnfblO+/r+0TaJvBZs79SBbRYUsGkmPWl9KOwAsDeEbG6dl0VIWm9MvSGv0npzSxqkruTtBZ4NBW61fys9bYWU0X3t+jpvb2IZg3s34veGNq/S5WXg3BPkJOCaNgjYF/mwF2wYG8/PWtsppzxsjTxZr/nGMg6w1+NWOtddVg4hqSPt4DUHmT5g5RDCGuA9zHyUM79NTXp/Os4z0HlukbU+Dy35dHvrMPhSei4hc0b/s0+k7u5b2pnr5OF99pU5XyJnoW1bXk/vM/qMP4b0l/gMymeM0g9eKYv0mXdC4Ekdq/ZMMlf0iTp4zzit8oacYaev0mfIM4G9nTqwzYKELMpO21tM2TDDKljsQC+LGpLG/fksZKHDVhtyP+Sw2fdmuTO9+0qdnbf7l7I7sN3K2+nPztnau0XPS9vcWxJH1844B4B8Wh6yFtpmgfxxqlkD0y4pnz5SZux3rpFVOtfTudPmHFA6Pc+3o6bOObY5CORgRdu47v7mcNPOnGvI9RFW9UPWHnUyrvSHa2xiHiCOkrHv/kPGK+2HucfQDvLwLPPLmCcPrzO/yJnA5lfpZ0OfcU2fQTm0OfmB6zmeKzLGc2wmlEW/Mm+rvk+YN/Ks9n/K02fIs4CdnjqwBRYo7Wej5zqLe9UnFl7uTXrxxWn0prYqN9dzQ8hGAXOj3aI3/KTNDWGmxxHAdBirNqz6BT0unf7snK29K/qAEub8vAVx0O2M88nrPATgxLLetuCwwrOreyE22mtkK53rPkDdgvxZlzmAzXU6Sb7uL/147Xxknc5xhKy9HAboc74ZYJx7Po6QQ9U8DFEO5ZGeT+mzp81x4X72VfpPOTnY8Mp17yX3tlHkvcBmV+lnQp9xTZ/Bvpp9n/LoC/UfGbvMxTwzrqB97R8ydnt9ja+Y58ygz5BnARs7fWCbBQcsoCyuucCzeEM2wFX+XoBJ63qSluu5IXRdqaedUTapHHihN4ykzT7M9K3nYa8N3S+g/cnb6c/O2do7yca/InP2VuA8p12kfTjBTiftlsPH1mLnW8RGZ19X6Xt14iRZC9zPoaLzb9Wzgmcpg/c4Y56753C0gvIY3xwkmqy9udbJyzNpyxGyH8ygFpiLVRtWh9MVPJ828j510P6tvok8G9j6Kv0s6DOu6zOoe1VnPqzMt8STnE2nD1lBn5m33u/T17354ZlbczPRZ8h7gC2fPrDNooQscJibQzYN6PRsaL0psAhJ6027y05anp0LvgPOtCPXvXl0vg5MV22C5E16952yOu+qv6t+beU9A2dr7+RZDilxnHu0I+S67XgFtjbXxST2O/u6St+qs9cl9XGddZX8W/WsSKCH0005vTbvJQeduZZD1t6qbVmvM31FyuGZ1YGBe6sgOWOzN5/k6YMI+bEZ3qd/R8ZW5L3BVlfpZ0GfcV2fQVvYZ1f30tZOoz72dO4dDaQpg/x7zD5nrucZcw/K0GfIe4BtnT6whQSCYQZukIMfZEF1Wh88s/i7nN4MV2m96JMGqSvXvTl1vpcEtp23y6DOVd5Vv6DHodOfnbO1d8XK0azs90vSzhFbaGLjbUdbn97yfNqeMmcenBvPc+iJnU4HF3vsdK5J73z52dtMp+xOn9cNnyJ333JwZD3Th/nNw73cOhTkfpx+wxhvHXSa1RxNuP/SwJZ29H3y35obkWcEW12lnwl9xjV9xt5+T/k9fgSH1JN6O+8eGcMmY0KfuE4wGpgj7t8TrOsz5L3Ati4R2GYjDb3pBBZV55n0psF70tpZdB1Jg6RtkcWcMrfoRT/zZgPI9WpT3SL5YNUvoPxV/mfnbO3douf7rQ8osZ8tZ4yTw9lCHF7WwnR0tJ2+8B5nS57pdHk2ZWVNzjwZj1uOMHY7HXHSOz9tm2Obvs9yGQsOKLRz6+dfR0lb9g4F1DODTvrEc6u9rEn5t/KlP1tjxYGn0wNzM58jfwLxtLPnSuRZwVZX6WdDn3E9n5EAc+6l6XOXm/7OcXgJKX/2KVDXPTamz5D3BNu6RGCbhRm2FszMxwKEXCdfNo1ezNmYO18gX+7xvuvptqTc5Otne1PJ5hlyL9erQ2yXfStP9wsoP891+rNztvY+I3Gmew4yn9gmD/aJ48KZ46ywcZw6eTpA4j75eI48sbN20NzvPDkckK/XDtfT8Wbt8gx5IYegmZ92dl6uaR9rYR5yaF/KmAcxIB1m+oqsudW9MPuRttGGrp975Eu/sk+Qj7QVeZZ5IR/lZqwzr6u9IjA+5O80+gSMG3VQ7hxDkWfk1lqU2+gzvozPoMz0n/KoM+WSnjrTB9Jo7yRjDpRBXtKTNrmVh3vs96t7K/QZ8p5gr5cIbOVjot2+HpzQLSeTAIq8nZaDCeBkcZD9HGVywInD5/k+oACHGhwe98nHISMHii6P65XjJY1y+3naRnug81IeaeQF2r86hKS/8/mQ51f3JnHoq3tNDk3dtvkt6jyAMJbJv0U/T3k9Z6v5aDic9JwH5jVzxv3ZTpFnZa4JuR/WvD7j22U+ymfQ/w60eWU8eqx7DFe0v5k+Y8WtPLeeb/QZ8t5gYwa2clq0W/kS4ISxrfmps4icG32GfAn0GSLPAevQwFZOi3YrX4J8E9qfkovI+dFnyJdAnyHyHLAODWzltGi38kj4tD0/g+N1lUdEzos+Qx6JPkPkuTCwlVOj3cojyb9d4t8C+cm7yPXQZ8gj0WeIPBesRwNbOS3arYiIHEWfISJyXQxs5dRotyIichR9hojIdTGwlVOj3Yq8DX/yT/7JZbrImdBniIhclw8T2PI3uOjjHvPvqb03/C2ztK3T8/fSnq2978EcGxH5MhjYyhXQZ4iIXBf2eAPb4pn+BtkqsKV9STOw9ZAi8lYY2MoV0GeIiFwX9ngD2+K73/3u8vn3wMD2Nj02IvLlMLCVK6DPEBG5LuzxHy6w5ae88/7Wz37nPaCsmQc6D6yC5NybZfC/iied16TNNm0F58nfQW/YautV6P7Ly9myLfje9773bnZE/ffWzRrqdfReZE1v0W3kz0Ss8sCR/vM8+wV/S5FnmLPVB1/5e4tbf3Mx/8xhtUca2MoVwL5X6XIf+owvw9zLOUfe6g/PHMm3Bb5ia9xe4zNE3gPs0cD2E1uBLZtF0hvyJ08W9hZdXtLmBpJDcG+u9wS2W/eg23o16N8qXe4j9sPrJGvgPf74fNq0urfFsxxS+KBpjiVw6KNfP/nJT77Jm4MFa3Xmv/XLjBxqOHhQ589+9rNv6vjlL3/5Tb7UwSskf5fFuG3tFwa2cgVYA6t0uQ/2JsZy7legz3g5tIO9mT6wT/NKn7b2Zfb/7Pf39ht4nvpWz7/WZ4i8B9jshwts9+jNrZ9JMJyFDrwnrb8pTb4OdnsjSNrcQKiX9K6fzSL5k9Z1pX5YPd/tT9rVuHLf3pLYyupeAifu836VR45BoMnhgD/q3+kEuYzv6kO3W2Sf6CCWeSKtDxy87/2BNvR1Di5bc2xgK1dga5+T+9BnPB72cMZsng/5gID06R84DyYoXT13BHzAVmD7Wp8h8h5gywa2RT/DAiatD4ednk2gg0028847Sb65gaTM3jRyYIWk3Qps4SWb21npsZGXk/Wxuge5H5vjGptLQIZz45tC7uF8sd04S9ZEfzsZcIaUk3y8ct1OknTSck39bet8Up16A/d7HQHP5VNtwEH3+oH0qfPSJvryKMdN+ZQ5y8t4ddpR0saZTl29H81xSX/7fo/1xMBWrgDrepUu98FesTeWua/POA7lUMbsO/WQvvoFDvVlTLvfR+A5ns+5cj4/xyX97fv31inypcGWDWw/sXomnzhu0Qt8lXe14LfuURbpXSabY/InbSuwzSY3eck3QGeCPq7S5T6yPlb3ILYYeyI/DjGHBOwSRw5JJw27TNnzZ2nkIS/3O19/m8k16bynbvLngAG8J08fVFhDvY6yZshLPsh66+eoh3W8atMMHEmDTrtF2rE6sKXNjBH1k4/29kFmRT7hX5U5oQ89LpSfa9pGvXuHMQNbuQL3rltZk71xdQ/0GS/zGfSRMimLa14zPp2PdOpg/HhP2en3EeI76M/W86/1GSLvAbb84QLbbLTZvMJ85p7AFih3lS8bFCRtbiDZNLvMOAZIWre5yw3dz0A/Zr6rQP9W6Wcj8/9e8xW7mek4rXwa3LaZ/O3kAZtdObvkn2uP187HQYb+53nyZK2kHSkj5FCRa9rZbeV+Xwfq6bFOG2ebMjedxvVMu8Wsr6Es2kn/Wde0gbyk7QW3OZDwSvt5hmte59x0XqDs9JX8s98TA1u5Aveu22cl+1LW+yrPlyT75UzXZ7zOZ9APgtjkB67n+DTZ27tPe1AW/cgHB1vPv9ZniLwH2OyHDWwhmyXMjSybExtvpx+FhT/LTV1zA1nlXQW22WiA90lf0XmvugH12JyV2FnTzvMt6PWxgvZ0gJX809ni+HDCcYQhBwxeyZdPzfvZFeTJWuFAxHU+RZ95A+OZdZQ1sLL/tIk8XG/1Kemddi/ZZ1btYD+aB62k8wz97fQm/WPM6TPjQlrGd9ZHHdQFOdSQJ/bGHPde1GNhYCtXANtepZ8JfcY25MleejafQTmMBWNC/dRDWVynfSvS5vT7FoxHB8t7z6f+l/gMkfcAW/zQgS10ANkLe/VMNgDIxrcKQCHOpx1ONoBO63p687onsE1aB+E5GEP360rQt1X6Weg5mvT8fmlig7xOVu0gnfwzvdu/gufIh53vOerQzwCOtcvDQc8DSJc9DyJN1lLubfVpK/0eaCcHg3udPv3Yqzt96P0k8Cx1zvSG9pCHMcx79hDe0+aeIwNbuQKvXcvvjT7j289P+hk4k8/Ic7PuBOgJ8idpV/d7C/rOPt8fOtzz/D0+Q+Q9wJY/fGALuTfvJxCdzMW7yhN6E+1gdUWXuwpsV06NNOqY6U2evxpn79uzHVJW91Zs5Sctn+ru0QeJPShvOlvGDAePE+X+rLPLfobAFofP8/2h0wryzTT6sVf33oEk7d6zI/JkrFJW2pHDVPIa2MoV2FtPZ0Cfsb4fKG/uh2fxGbSBQHF1j/K2+p92zX6voAzy7rFnR9SRdqTeLZ8h8h5ggwa2n+jAcG4ecyPYOqCuNozVBjGDW/Lk2a57FdhC9wXSn5XDW32TcyXo4yr9TKzs5q3n7V5HvJWfNH7iNNMnOWDMdBxjf5pMHuqa+QIONeOXNK6zjuJ4+8OlMA8wW326d2wmcfarNkDaQb55Lz9Lm+khQfPqYJh29yfzDc9Sdvqfscr9XOe+ga1cgbbxs6LP+GOu5DNow5cObBkn8jfpF2dOrhOoTu71GSLvATb4IQJbuSZXsds4WniPDyPudcRb+fNhzHRs80CQD5Lm4YHncZxxrOSJs04Z0+mmzlz3IQUob3UgYJz7ELHVp3vHZpLnVx+oQT6Q4uDW6RxASL/1bQbP0Zc5LhwW92yJcetxyaEk5cxP3w1s5Qq0TZ8ZfcYfP38VnzH7HLI3c7/T5/30+16OPn+vzxB5D7BBA1s5LdrtY7jXEW/lJ0jD8QMHEBxf8s5P5fNt5MzXzpvrONs4UZ7DgfYzWz8rgxyISOM54D1pvE++rT6t0rle5V2Rulb3Au0nDwcH+kWbGRv62oeyjEHGBAiAkzfjkm83un9NgukOtqmHcmgL7ymjx9HAVq7ArbUox9jaL7fYyq/P+GPYd9NH+kR7eeWa9PYFTfqZfh+9F47keYnPEHkPsFMDWzkt2u1j2HLQW+zlx/HlU3Ty8Cl3HF/n45r0zjc/kSa9nW0fMPLMdMbcn86V5zgY5DkcMM6882z1aZWecjpti1V7VlAP/aFcxoQxnGO2dQAhuE0wCznIdZ6GsmGmU07aQJu7fgNbuQLY9ipd7mNrv9xiL78+44+hjz0WvK7GotkLTI8ErUfyvMRniLwH2KKBrZwW7VbkbTCwlSugzxARuS4GtnJqtFuRt8HAVq6APkNE5LoY2Mqp0W5F3gYDW7kC+gwRketiYCunRrsVeRsMbOUK6DNERK6Lga2cGu1WRESOos8QEbkuBrZyarRbERE5ij5DROS6GNjKqdFuRUTkKPoMEZHrYmArp0a7FRGRo+gzRESui4GtnBrtVkREjqLPEBG5Lga2cmq028fw4x//+PNYbvGDH/zgq1/+8pfLZ98a2kN7t66P0v1b0WXSd8Yg9773ve999bOf/exb5W3x61//+qsf/vCHX33nO9/5/Ox3v/vdZXupg3JT/mq8KQdmuogcg/W1Spf7+Ig+A17iC/AB7P/f//73l/cn+gyRl8N6MLCV06LdPoYcUn7yk5989Ytf/OJbkIaDhV/96lfL598S2vmIQwrPrMhhIoeEHEo4XPz0pz/9PCY52HA9y51wmOF5yuZZXnl2HjbIR7mMMfeor+/zLM89wxyInBXW0Cpd7iP72EfyGS/1Bezt5Dka2OozRF4ONm9gK6dFu30McZw4wtV9PpHm/o9+9KPl/beEdjzikLKCwwnlcTBLGu9XY8Mn5PMgMSE4XrWPcSQ9Bw5eu44813VyiHlUP0U+KqyrVbrcx0f0GS/xBdRDkMpzRwJbfYbI62AdGNjKadFuHwPObzrFCfenY8a58klxHDfOvYPCwCfd7eDzaTTpyYNj5tPn5AGuSe+ySG9nPa9fSj6Nn33M2Mx2kI/8nTZhPHl2jsksM/l6/PuaV+rq8RKR+2FdrdLlPrKH9Z414f6VfEb6fNQXkI/8CfLnWKyIL9BniLwM1oGBrZwW7fYxxGm2k2ziRPunUAkE+bQ6P8tKOfNTevLkYNL5OIRwn8NOyuIQQB4cO2nQZfEcz29dp+xOOwJ947l5aEnbOJTwnjTaRt4j30bk0/yMLa/pa/JQLuUlTw5Eueb5e/sjIr8J62qVLveRfTZ71IR07l/JZ9zjC+gr+3bSyXMksAV9hsjLYR0Y2MppuYrd4vDoC+CQVnm+JHHscYoNaTlkxJlDPnWfnwinrOTNz3vnv0HC4dNXnk+eLh9W7eK6Hfa8zjOddoscEvoQ1nBooK/kCVt5J/SP8etnuZ7jhg1waKMtlB07YGzewyZErgjrb5V+NvQZ7+MzjvoC9vIORMl3NLDVZ4i8HNaLga2clivYbR9Qwls7pTj2LWjj/CYT546z5QDR5BNsXsmH4+W6nz0K5fEsr0njeu+Q8hI4FFDOPCRBDjL0Nd8MJP+tenNA4XkOGzzLM1zPQw71xBZ4JuONLeSAx8GO+ymvnxeR27B+VulnQp+xDeXxLK9J4/oRPuOoL6Af5Ov+k2fu+Sv0GSKvA3s3sJXTcna7JZCiDyvaMX9pckjBIVNvnClpOO75STF0W1fE0eN4jzh0oF7awLM8gzOmrB6LLnt1/RJWh4aQdswxyIFhHt6ajOGcy/ybqxzktuD5HFh5Tzuoj/JW5YrIPqybVfpZ0Gd8G+p9K59xxBcAeWYQyf0jfcoYzrnUZ4gcAzs3sJXTcna7fbZDyqwT50w6nwZ3OpCOQ5/pkyOHlHxKTZk4YvJT9qpdXJO+dX0vOTBsfZrNPb5BmOk5KOzVnYPQ6h7P7o0LY8Kz6XvGJPcZr9f0W+QjwrpbpZ8FfcYf8R4+g+du+YLUv8de3fRDnyHyclgnBrZyWq5gtzgf+tG818/KVgcjHCP3pkMkbXV4mWz9rIyAEifMp8nJM+vn0+mZPtsyr+8l/Vv9DBm49x6BLeX2fd53XVzvPS8ivwnrbpV+Jlj39KPRZ/wRX9Jn8NwtX4Af4XrCffrO+y1fA8ytPkPk5bBODGzltFzFbnE29AXe+oACOD/qxunOe/kUmPscKJKef1s0n5kHi3yCP78R5XnKpXz6vzrwZFy6Dq7bWc/re6GOvTHnIJN2dnrGrMdksjpkAdekb/2sLN/K9HO000/fRV4H62qVfjb0GW/vM17jC7hP21b3Gn2GyOtgHRjYymnRbh/D3iEF8nPdPkjgSHHywAGEZ1POPHBwvcoXJ50DD+ncpz6cMs/MdiXf1nXK7rQ9yLt34OCwQjvoQ9qfbyRod+fNoSrXHIDSd/rKs7ymvHlACpQ7y6Y/PJdvBKinx0VEbtPrU15O9tmtPeiKPuMeXzAhz8rP6DNEHgt2bmArp0W7fQxx7HtOLz/9ysECcJg40xwm+OYARz+dL9ekd74uh/uzHNpE+Vz3p85c9wFkXqcvnbbHkbwcaNJ/mO0P85ACs2+8rsYopM+8zns5RFEGB6t5X0T2metTXkb22Y/mM476ggl5jwS2oM8QeTnYu4GtnBbtVkREjqLPEBG5Lga2cmq0WxEROYo+Q0TkuhjYyqnRbkVE5Cj6DBGR62JgK6dGuxURkaPoM0RErouBrZwa7VZERI6izxARuS4GtnJqtFsRETmKPkNE5LoY2Mqp0W5FROQo+gwRketiYCunRrsVEZGj6DNERK6Lga2cGu1WRESOos8QEbkuBrZyarTbx/Mv/v7fZ0f46l//qT+1vA//9z/6R5/z/Mu/8TeW94H7/+rP//nlPer4V3/xL36uI3VxTbmr/C9hr43c+//+3J/7fP9zOz/V/X/+3u/9Rr4V/8c//adf/b8/+MG32s416Z3vX/zdv/vVv/4zf+ab8ud94D75ZrqIfBn0GY/nH/+P//CrP/8f/xtf/Tv/yb+1vA+/+z//t5/z/L2f/a3lfeD+X//JX17eo47/4B/8lc91pC6uKXeV/yiU+1f+s7/wuUygzP/hn/x8Nx91/0c//fe/+l/+2S9/I98tKJsyVu3+r37xn3/1l//Ob33Tjv/1f/9nv5GH++Sb6SLyRxjYyqnRbh9PB21bQddrAlvK5x6vBLiURT0JNB8R6BFEpg+zjWk7bftc96c2UDf5jwS3yUs7ef7/+dt/+/M16cmT+qmbMrlHf7sc7hHYdpqIfFn0GY+HIC8B51bQ9ZrAlvK5xysBJmVRTwLNlwZ6aRN1Um6CV/rSwS3lb+W7J7ilzIzTDGwJYrnH+FAm5dPfzsM9AttOE5FvY2Arp0a7fSwEZAR9//Kv//XPQVcHa81LA1vKJX0VvFI39XH/6LenW1DvVmD7+d6nvvU3qNR3qz9Auz+3/1MwvEz/ul+5zn2C375O4Ms4Jk1Evjz6jMdCQEag9p/+N3/jc9BFQLbK99LAlnJJXwWv1J3g9iXfnuYb4P5mNP3poJI8s1/ko78z+FxBXvpNuWEGtgmec/1f/O7f+dY1ZdCO+ZyIfBsDWzk12u1j6cAtQej/9bu/+xv5XhLYJnicwW5Dva/9eW6+QU1fZhsJnulbpx0NbLlPvtW9fn7my3jlmvt74yAiXwZ9xmNJQMa3mAlCVz/lfUlgS7A60ybU+9Kf51IuweJMp06CXt7vtTv9nemTBLUEx3lmBqjJk+vU2/f3xkFE/ggDWzk12u1jIegjKOQ9AS3B2PwJLbwksP0maL4zaKUMnjvy7WbanJ8432oj8Ez6/dJviqmPugiqP19/3dfc729sE0Qf6Y+IPBZ9xmMhWEtwmH8/uvoW8yWBbYLme4NWyuC5GTxOCIrJR7DJN6JA20njHnn22p1g9Na3xXz7mufzzGzb3je2CfBv9UdEDGzl5FzFbhO8wXv9u8sEhf1tZgK+/tkuvCSwzbeY9wZ0RwPbzz/v/TR2af/RNoaXfkucn1D3OOWnxtRNIMv9fEDA6+rDAhH58lzFZyR4g/f6d5cJZAkMk5ZAlyCx874ksN0KAm9xNLCFBJRNB9L0g7RuV2DcuXdP+7b6lJ8ac3/+G1tej/zkWUQMbOXkXMFuO6gN7xHcrn56nG8aZ9D3loHtUfg/DxNAJrg80kby8G1r5uDe4Ja6tp7Nz6o/j8PX/1fkfFvLaz9Lvh53EfkyXMFndFAb3iO4Xf30ON80zm9Z3zKwPUqC2vzflfmWlvoJMPONLaQdMx/B573t2+sT5SZYzv8VOd/W8sp15p58q598i3x0DGzl1JzdbhPorPhSAeAWfMM4A+q0j4Cx058tsCWopP0dHB5pY0PfKWN1bwWBKeNCHUcDYsYj39byPoE4bexvfEXky3B2n5FAZ8WXCgC3IACcAXXaR9DX6bSN9GcJbPMNadcX+ufVgYA9QSevtC1B/KMC2xW0L9/WJpim7ZRDG3k/nxH5yBjYyqkxsH0M+Teie9wbNHK/A1uCP9L2gkACOwLMo8FoyDefe9waz3sCb8aCoJRg9GhQS7kdvFIX48570o7WLSIvx8D2MfDt4qoNTX+j+JLANt+ozm9/GwK7BJqr+1ukPQSn897R4DP5Vve2OFo2kKeDV57LN8mkHS1H5CNhYCun5gp2uwrK5jenXxp+Kku9/ByZAK/hG0bu9b8LJbBL/i4nJGDvZxK8dbA7SfCb/wnTUWgPQWGTn1HTBq6pn3wEl6vy81Ns2j7vNSkDeL/Ks4J+M565pi7a1dd9X0QezxV8BsEfQU0zvzn90vBTWerl58gEa03+B0z970JX/x63ScDezyR4W32rGhL8rgLUPe4JbBnbVbv59vTecZ9l70G/yZ/r+RzXfV9EDGzl5FzFbju4feugduvnxuHzt6hfB3L5thHy091VcJdgeH6bSeC2Soetel4KQSN1zWDxcx1jjD/XTX9ujH238Z6glv7Ofn0eB7+xFXlTruIzOrh966B26+fGgYCUbxrnT2VpJ2mrfxuaYHh+O5tAcPWt7VY9R+G5VdBMGvdyTRA/xziB8b2B5dHAlv7OfvGc39iK7GNgK6dGu309W/+DqCbfZnae/HyZgI1AlgAS8u9O+9vaJkE89ykj365uBYzJf2/QtxXY0gfS+ZaaPLQhPyuedX/OV98wJ2Dn2fS32WojAfMcX8oFglqenYGviDwefcbryb8t3fuJcP7HUp0nP18mYCOQJcgDAmTS+9vaJkE89ymDYI42UA7MQDn5jwSP5CNwpVzIN9Hd7gSx3ON9gs78e9cuk3yrYDkcDWwJpOf4Ui5QJ+XMwFdEDGzl5Gi3ryffvO4FVflWd36jSSBIkMfz3AeCxFs/JSbIS8D6udxPzxM0rn4G/OjAFhLMpn76sPoG9vO9Cmy7nyuWdX3q6+qbYMY7feP+Pd8Ai8jL0Ge8nnzzuhdU5Vvd+U0nQSgBIs9zHwgQb/2UmCAvASvwPIEu9cy8RwNbIJhNYJ22rJ4jH33pulf95/5rA1v6OscNqC994/7qm2+Rj46BrZwa7VZERI6izxARuS4GtnJqtFsRETmKPkNE5LoY2Mqp0W5FROQo+gwRketiYCunRrsVEZGj6DNERK7LtwJbpc4m7VYppdRR6TOUUuq6+lZgu4p8RZ4Z7VZERI6izxARuS4GtnJqtFsRETmKPkNE5LoY2Mqp0W5FROQo+gwRketiYCunRrsVEZGj6DNERK6Lga2cGu1WRESOos8QEbkuBrZyarRbERE5ij5DROS6GNjKqdFuRUTkKPoMEZHrYmArp0a7FRGRo+gzRESui4GtnBrtVkREjqLPEBG5Lga2cmq0WxEROYo+Q0TkuhjYyqnRbkVE5Cj6DBGR62JgK6dGuxURkaPoM0RErouBrZwa7VZERI6izxARuS4GtnJqtFsRETmKPkNE5Lp8K7AVEREREREROSOfA9vP/1VKKaWUUkoppU6of/gP/+FX/z9kdJ4naA1P6wAAAABJRU5ErkJggg==)"
      ],
      "metadata": {
        "id": "YE6DsabABNHs"
      }
    },
    {
      "cell_type": "markdown",
      "source": [
        "**- As mentioned, we decided to try a more complex architecture, it being a tuned hybrid inception ResNet V1 model which resulted in better performance metrics for our problem. Since the model was significantly more complex, it did take more computational time however showed better results.**\n",
        "\n",
        "**- We observed overfitting for the CNN model with significantly lower AUC score of 43%. With the improved model, the AUC score increased to 89% and showed good performance on the test set.**"
      ],
      "metadata": {
        "id": "qhUMSQHPB6gp"
      }
    },
    {
      "cell_type": "markdown",
      "source": [
        "## Best model\n",
        "\n",
        "**Our best model is:**\n",
        "\n",
        "- Inception ResNetV1\n",
        "- Epoch=119 ( that is , epoch 39 from the saved file model_train_checkpoints4) \n",
        "- No. of iterations=5000\n",
        "- Batch size=24\n",
        "- Learning rate= 0.001\n",
        "\n",
        "**Let's load the best model from above to test it on the unseen VGG data:**"
      ],
      "metadata": {
        "id": "7DihVooLCUIG"
      }
    },
    {
      "cell_type": "code",
      "execution_count": null,
      "metadata": {
        "id": "ygyEfv--Kb8G",
        "outputId": "ad2474ed-3a41-4cc8-d136-9f32e647a629"
      },
      "outputs": [
        {
          "data": {
            "text/plain": [
              "<All keys matched successfully>"
            ]
          },
          "execution_count": 120,
          "metadata": {},
          "output_type": "execute_result"
        }
      ],
      "source": [
        "PATH='C:\\\\Users\\\\bhagyashreekeswani\\\\Desktop\\\\DL_Project\\\\all_checkpoints\\\\model_training_checkpoints4\\\\model_InceptionResnetV1_triplet_epoch_39.pt'\n",
        "pretrained_model.load_state_dict(torch.load(PATH)['model_state_dict'])"
      ]
    }
  ],
  "metadata": {
    "accelerator": "GPU",
    "colab": {
      "provenance": []
    },
    "gpuClass": "standard",
    "kernelspec": {
      "display_name": "Python 3 (ipykernel)",
      "language": "python",
      "name": "python3"
    },
    "language_info": {
      "codemirror_mode": {
        "name": "ipython",
        "version": 3
      },
      "file_extension": ".py",
      "mimetype": "text/x-python",
      "name": "python",
      "nbconvert_exporter": "python",
      "pygments_lexer": "ipython3",
      "version": "3.9.13"
    }
  },
  "nbformat": 4,
  "nbformat_minor": 0
}