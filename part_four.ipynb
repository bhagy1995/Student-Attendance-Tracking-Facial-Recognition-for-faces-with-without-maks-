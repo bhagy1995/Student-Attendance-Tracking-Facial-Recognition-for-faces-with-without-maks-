{
  "cells": [
    {
      "cell_type": "markdown",
      "metadata": {
        "id": "xTPzZ9Bvn_F_"
      },
      "source": [
        "#### Calculate Embeddings of All Photos in the Database"
      ]
    },
    {
      "cell_type": "code",
      "execution_count": null,
      "metadata": {
        "id": "qIZLC4Qgn0K8"
      },
      "outputs": [],
      "source": [
        "data_transforms = transforms.Compose([\n",
        "transforms.Resize(size=(160,160)),\n",
        "transforms.ToTensor(),\n",
        "transforms.Normalize(\n",
        "    mean=[0.6025, 0.4704, 0.4078], \n",
        "    std=[0.2493, 0.2278, 0.2257]\n",
        ")\n",
        "])\n",
        "\n",
        "model.eval()\n",
        "def get_embedding(path):\n",
        "  img = Image.open(path)\n",
        "  img = data_transforms(img)\n",
        "  img = img.unsqueeze(0)\n",
        "  img = img.cuda()\n",
        "  emb = model(img).cpu().squeeze().detach()\n",
        "  del img\n",
        "  torch.cuda.empty_cache()\n",
        "  return emb\n",
        "\n",
        "embeddings_complemented = {}\n",
        "MAX_SESSIONS_ADDED = 1\n",
        "for enroll_id in set(sessions_dataset['identity']):\n",
        "  embeddings_complemented[enroll_id] = []\n",
        "  full_path = os.path.join(ENROLL_IMGS_PATH, f'E{enroll_id:04d}.png')\n",
        "  embeddings_complemented[enroll_id].append(get_embedding(full_path))\n",
        "  for day in range(0, MAX_SESSIONS_ADDED):\n",
        "    for instance in sessions_dataset['id']:\n",
        "      instance_day = sessions_dataset['day'][instance]\n",
        "      instance_identity = sessions_dataset['identity'][instance]\n",
        "      if instance_day != day or instance_identity != enroll_id:\n",
        "        continue\n",
        "      photo_path = f\"{QUERY_IMGS_PATH}/Q{instance:04d}.png\"\n",
        "      embeddings_complemented[enroll_id].append(get_embedding(photo_path))\n"
      ]
    }
  ],
  "metadata": {
    "accelerator": "GPU",
    "colab": {
      "provenance": []
    },
    "gpuClass": "standard",
    "kernelspec": {
      "display_name": "Python 3 (ipykernel)",
      "language": "python",
      "name": "python3"
    },
    "language_info": {
      "codemirror_mode": {
        "name": "ipython",
        "version": 3
      },
      "file_extension": ".py",
      "mimetype": "text/x-python",
      "name": "python",
      "nbconvert_exporter": "python",
      "pygments_lexer": "ipython3",
      "version": "3.9.13"
    }
  },
  "nbformat": 4,
  "nbformat_minor": 0
}